{
 "cells": [
  {
   "cell_type": "code",
   "execution_count": null,
   "id": "devoted-navigation",
   "metadata": {},
   "outputs": [],
   "source": [
    "from arquivos import central\n",
    "import matplotlib.pyplot as plt\n",
    "from numba import njit\n",
    "import numpy as np\n",
    "import pandas as pd"
   ]
  },
  {
   "cell_type": "code",
   "execution_count": null,
   "id": "economic-former",
   "metadata": {},
   "outputs": [],
   "source": [
    "robot = central.Central()"
   ]
  },
  {
   "cell_type": "code",
   "execution_count": null,
   "id": "09eb6557-25c8-4754-bbc9-8b29884c3f33",
   "metadata": {},
   "outputs": [],
   "source": [
    "robot.get_normal_data_csv('C:\\\\Users\\\\johnk\\\\Google Drive\\\\My_Project\\\\Dados\\\\Data_D1_3k_icmarkets.csv', drop=True, drop_list=['Unnamed: 0'])"
   ]
  },
  {
   "cell_type": "code",
   "execution_count": null,
   "id": "abe223e1-c29b-4697-b4ec-fc645bbeabee",
   "metadata": {},
   "outputs": [],
   "source": [
    "%%time\n",
    "robot.pct_data()\n",
    "robot.balance_signal4()\n",
    "df = robot.back_tpsl(10, 2, analyse=True)"
   ]
  },
  {
   "cell_type": "code",
   "execution_count": null,
   "id": "01149989-485b-42b9-b554-3913799b1ff1",
   "metadata": {},
   "outputs": [],
   "source": [
    "df"
   ]
  },
  {
   "cell_type": "code",
   "execution_count": 18,
   "id": "944620a1-6f80-46e4-b35d-7bf26ec07afb",
   "metadata": {},
   "outputs": [
    {
     "data": {
      "text/plain": [
       "161.83835616438353"
      ]
     },
     "execution_count": 18,
     "metadata": {},
     "output_type": "execute_result"
    }
   ],
   "source": [
    "df['Average_Trades_Per_Year'][3:].sum()"
   ]
  },
  {
   "cell_type": "code",
   "execution_count": 36,
   "id": "1f244048-f7fd-409f-aafb-71a6cdd2c20d",
   "metadata": {},
   "outputs": [
    {
     "data": {
      "text/plain": [
       "0.5"
      ]
     },
     "execution_count": 36,
     "metadata": {},
     "output_type": "execute_result"
    }
   ],
   "source": [
    "a"
   ]
  },
  {
   "cell_type": "code",
   "execution_count": null,
   "id": "22e9baa7-e6c7-419b-b305-0fcaad8d1bef",
   "metadata": {},
   "outputs": [],
   "source": [
    "for i in df:\n",
    "    test['Max_Profit'] = df[i].max()\n",
    "    test['Min_Profit'] = df[i].min()"
   ]
  },
  {
   "cell_type": "code",
   "execution_count": null,
   "id": "4bba665e-5d5f-4c34-9f12-730a5b1f197a",
   "metadata": {},
   "outputs": [],
   "source": [
    "test = pd.DataFrame()\n",
    "#test['Analises'] = ['Max_Profit', 'Min_Profit']\n",
    "#test = test.set_index('Analises')\n",
    "test['Analises'] = np.nan\n",
    "test[df.columns] = np.nan\n",
    "test.set_index('Analises', inplace=True)\n",
    "test = test.T\n",
    "test['Max_Profit'] = 10\n",
    "test"
   ]
  },
  {
   "cell_type": "code",
   "execution_count": 37,
   "id": "7a5b4dc8-089f-47af-9d6c-96cd302db9ac",
   "metadata": {},
   "outputs": [
    {
     "data": {
      "text/plain": [
       "0.12166666666666666"
      ]
     },
     "execution_count": 37,
     "metadata": {},
     "output_type": "execute_result"
    }
   ],
   "source": [
    "1 / (len(robot.get_normal_data()) / 365)"
   ]
  },
  {
   "cell_type": "code",
   "execution_count": 23,
   "id": "3c190eaa-667e-48f1-9c76-057879093e1b",
   "metadata": {},
   "outputs": [
    {
     "data": {
      "text/plain": [
       "446.61699999988673"
      ]
     },
     "execution_count": 23,
     "metadata": {},
     "output_type": "execute_result"
    }
   ],
   "source": [
    "df['Total_Trades'].iloc[-1] / df['Total_Trades'].iloc[0] * 100"
   ]
  },
  {
   "cell_type": "code",
   "execution_count": 29,
   "id": "3bbf5360-d43c-4d78-87ed-99133a4a3809",
   "metadata": {},
   "outputs": [],
   "source": [
    "pow_ = 1 / (len(robot.get_normal_data()) / 365)"
   ]
  },
  {
   "cell_type": "code",
   "execution_count": 30,
   "id": "3f1c09c4-90c2-4f29-a177-59db26b27daa",
   "metadata": {},
   "outputs": [
    {
     "data": {
      "text/plain": [
       "19.970772528569626"
      ]
     },
     "execution_count": 30,
     "metadata": {},
     "output_type": "execute_result"
    }
   ],
   "source": [
    "(((df['Total_Trades'].iloc[-1] / df['Total_Trades'].iloc[0]) ** pow_) - 1) * 100"
   ]
  },
  {
   "cell_type": "code",
   "execution_count": 32,
   "id": "782e951a-3ee0-49fb-8fb5-54aa398843ad",
   "metadata": {},
   "outputs": [
    {
     "data": {
      "text/plain": [
       "4.458476985640426"
      ]
     },
     "execution_count": 32,
     "metadata": {},
     "output_type": "execute_result"
    }
   ],
   "source": [
    "(1 + 0.1997) ** 8.21"
   ]
  },
  {
   "cell_type": "code",
   "execution_count": null,
   "id": "becf7398-eb3f-45fd-b710-74dab1c2f4df",
   "metadata": {},
   "outputs": [],
   "source": []
  },
  {
   "cell_type": "code",
   "execution_count": null,
   "id": "cf7853e0-c5e1-4556-a3c2-34201be3ee68",
   "metadata": {},
   "outputs": [],
   "source": []
  }
 ],
 "metadata": {
  "kernelspec": {
   "display_name": "Python 3",
   "language": "python",
   "name": "python3"
  },
  "language_info": {
   "codemirror_mode": {
    "name": "ipython",
    "version": 3
   },
   "file_extension": ".py",
   "mimetype": "text/x-python",
   "name": "python",
   "nbconvert_exporter": "python",
   "pygments_lexer": "ipython3",
   "version": "3.9.1"
  }
 },
 "nbformat": 4,
 "nbformat_minor": 5
}
