{
 "cells": [
  {
   "cell_type": "code",
   "execution_count": 1,
   "id": "surprised-contents",
   "metadata": {},
   "outputs": [],
   "source": [
    "from arquivos.expert import eaonline"
   ]
  },
  {
   "cell_type": "code",
   "execution_count": 2,
   "id": "5d36d850-c859-4c1a-9b1d-02a25098a092",
   "metadata": {},
   "outputs": [],
   "source": [
    "ea = eaonline(risk=0.01, multiply=3, magic_number=1005, timeframe='D1', tpsl_avg = 10, tp_multi=4.0, sl_multi=0.5, pct_period=7)"
   ]
  },
  {
   "cell_type": "code",
   "execution_count": null,
   "id": "6b0b08ed-67e5-4e91-971f-dfc6c7eeaf4a",
   "metadata": {},
   "outputs": [],
   "source": [
    "ea.start()"
   ]
  },
  {
   "cell_type": "code",
   "execution_count": 5,
   "id": "f2e9f531-71c4-488f-9d54-f0b332c8c94b",
   "metadata": {},
   "outputs": [],
   "source": [
    "import MetaTrader5 as mt5\n",
    "# 0 buy\n",
    "# 1 sell"
   ]
  },
  {
   "cell_type": "code",
   "execution_count": 3,
   "id": "7364b83b-6d4e-4aeb-b2b2-8bf055d7dcaa",
   "metadata": {},
   "outputs": [],
   "source": [
    "class FastMath():\n",
    "    \n",
    "    def __init__(self, x, y):\n",
    "        self.x = x\n",
    "        self.y = y\n",
    "        \n",
    "    \n",
    "    def my_func(self):\n",
    "        print(self.x*self.y)\n",
    "        self.x += 1\n",
    "        self.y += 1\n",
    "        "
   ]
  },
  {
   "cell_type": "code",
   "execution_count": 4,
   "id": "1c88b886-dc8b-46d0-a281-ed9da0fed05c",
   "metadata": {},
   "outputs": [],
   "source": [
    "a = FastMath(2,4)"
   ]
  },
  {
   "cell_type": "code",
   "execution_count": 5,
   "id": "38aefb39-6742-4e25-ae96-37770cbf6c81",
   "metadata": {},
   "outputs": [
    {
     "name": "stdout",
     "output_type": "stream",
     "text": [
      "8\n"
     ]
    }
   ],
   "source": [
    "a.my_func()"
   ]
  },
  {
   "cell_type": "code",
   "execution_count": 6,
   "id": "1c76c2cd-546a-440c-b926-1a13de95b218",
   "metadata": {},
   "outputs": [],
   "source": [
    "import schedule\n",
    "import time"
   ]
  },
  {
   "cell_type": "code",
   "execution_count": 9,
   "id": "5dcb537f-ea41-4c0a-a2ee-375126082ad1",
   "metadata": {},
   "outputs": [
    {
     "data": {
      "text/plain": [
       "Every 1 day at 00:00:00 do my_func() (last run: [never], next run: 2021-04-16 00:00:00)"
      ]
     },
     "execution_count": 9,
     "metadata": {},
     "output_type": "execute_result"
    }
   ],
   "source": [
    "#schedule.every(1).seconds.do(a.my_func)\n",
    "schedule.every().day.at(\"00:00\").do(a.my_func)"
   ]
  },
  {
   "cell_type": "code",
   "execution_count": null,
   "id": "27f9fa3b-e825-4c91-a144-4d0a8d2a21e7",
   "metadata": {},
   "outputs": [
    {
     "name": "stdout",
     "output_type": "stream",
     "text": [
      "48\n",
      "63\n",
      "80\n",
      "99\n",
      "120\n",
      "143\n",
      "168\n",
      "195\n",
      "224\n",
      "255\n"
     ]
    }
   ],
   "source": [
    "while True:\n",
    "    schedule.run_pending()"
   ]
  },
  {
   "cell_type": "code",
   "execution_count": null,
   "id": "d12886bb-1c57-475b-9595-2830ccfa60b7",
   "metadata": {},
   "outputs": [],
   "source": []
  }
 ],
 "metadata": {
  "kernelspec": {
   "display_name": "Python 3",
   "language": "python",
   "name": "python3"
  },
  "language_info": {
   "codemirror_mode": {
    "name": "ipython",
    "version": 3
   },
   "file_extension": ".py",
   "mimetype": "text/x-python",
   "name": "python",
   "nbconvert_exporter": "python",
   "pygments_lexer": "ipython3",
   "version": "3.9.1"
  }
 },
 "nbformat": 4,
 "nbformat_minor": 5
}
