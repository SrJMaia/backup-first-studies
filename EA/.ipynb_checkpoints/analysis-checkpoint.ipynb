{
 "cells": [
  {
   "cell_type": "code",
   "execution_count": 1,
   "id": "91935844-dfab-4e3f-b333-aa30d2dd078c",
   "metadata": {},
   "outputs": [],
   "source": [
    "from arquivos import central\n",
    "import MetaTrader5 as mt5\n",
    "import matplotlib.pyplot as plt\n",
    "from numba import njit\n",
    "import numpy as np\n",
    "import pandas as pd"
   ]
  },
  {
   "cell_type": "code",
   "execution_count": 2,
   "id": "328bbc21-f65b-4bd9-9717-d1f8268e6b14",
   "metadata": {},
   "outputs": [
    {
     "name": "stdout",
     "output_type": "stream",
     "text": [
      "Dados Carregados com Sucesso.\n"
     ]
    }
   ],
   "source": [
    "robot = central.Central()\n",
    "robot.get_normal_data_csv('C:\\\\Users\\\\johnk\\\\Google Drive\\\\My_Project\\\\Dados\\\\Data_D1_3k_icmarkets.csv', drop=True, drop_list=['Unnamed: 0'])"
   ]
  },
  {
   "cell_type": "code",
   "execution_count": null,
   "id": "982d1da7-3308-4aa0-8050-5c9d9375ea56",
   "metadata": {},
   "outputs": [],
   "source": []
  },
  {
   "cell_type": "code",
   "execution_count": null,
   "id": "6dacdd6d-f0f6-46b7-9012-8da61a988503",
   "metadata": {},
   "outputs": [],
   "source": []
  },
  {
   "cell_type": "code",
   "execution_count": null,
   "id": "38c20635-9832-48df-92b9-9e66e3699755",
   "metadata": {},
   "outputs": [],
   "source": []
  },
  {
   "cell_type": "code",
   "execution_count": null,
   "id": "992909e1-a3b0-41c7-9439-b2e2feab47ae",
   "metadata": {},
   "outputs": [],
   "source": []
  }
 ],
 "metadata": {
  "kernelspec": {
   "display_name": "Python 3",
   "language": "python",
   "name": "python3"
  },
  "language_info": {
   "codemirror_mode": {
    "name": "ipython",
    "version": 3
   },
   "file_extension": ".py",
   "mimetype": "text/x-python",
   "name": "python",
   "nbconvert_exporter": "python",
   "pygments_lexer": "ipython3",
   "version": "3.9.1"
  }
 },
 "nbformat": 4,
 "nbformat_minor": 5
}
