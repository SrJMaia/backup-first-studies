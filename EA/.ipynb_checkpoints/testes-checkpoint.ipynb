{
 "cells": [
  {
   "cell_type": "code",
   "execution_count": 22,
   "id": "6e7bf63f-666b-4cc7-b128-3bc3a02e15cb",
   "metadata": {},
   "outputs": [],
   "source": [
    "from prettytable import PrettyTable\n",
    "from arquivos.expert import eaonline\n",
    "import MetaTrader5 as mt5"
   ]
  },
  {
   "cell_type": "code",
   "execution_count": 36,
   "id": "0e8c8a49-e409-49bf-8fa1-b4d17ba92ba6",
   "metadata": {},
   "outputs": [
    {
     "name": "stdout",
     "output_type": "stream",
     "text": [
      "+--------------------+----------+------+---------+---------+---------+--------+--------------+\n",
      "|        Date        | Currency | Type |  Price  |    SL   |    TP   | Volume | Magic Number |\n",
      "+--------------------+----------+------+---------+---------+---------+--------+--------------+\n",
      "| 11/5/2021 15:42:23 |  EURUSD  | BUY  | 1.12345 | 1.12345 | 1.12345 |  0.1   |     4040     |\n",
      "| 11/5/2021 15:42:35 |  EURGBP  | SELL | 1.12345 | 1.12345 | 1.12345 |  0.1   |     4040     |\n",
      "| 11/5/2021 15:42:40 |  EURCHF  | SELL | 1.12345 | 1.12345 | 1.12345 |  0.1   |     4040     |\n",
      "| 11/5/2021 15:42:42 |  EURAUD  | BUY  | 1.12345 | 1.12345 | 1.12345 |  0.1   |     4040     |\n",
      "| 11/5/2021 15:42:45 |  USDJPY  | BUY  | 112.345 | 112.345 | 112.345 |  0.1   |     4040     |\n",
      "| 11/5/2021 15:42:48 |  NZDUSD  | BUY  | 1.12345 | 1.12345 | 1.12345 |  0.1   |     4040     |\n",
      "| 11/5/2021 15:42:50 |  GBPUSD  | SELL | 1.12345 | 1.12345 | 1.12345 |  0.1   |     4040     |\n",
      "+--------------------+----------+------+---------+---------+---------+--------+--------------+\n"
     ]
    }
   ],
   "source": [
    "x = PrettyTable()\n",
    "x.field_names = [\"Date\", \"Currency\", \"Type\", \"Price\", \"SL\", \"TP\", \"Volume\", \"Magic Number\"]\n",
    "x.add_row([\"11/5/2021 15:42:23\", \"EURUSD\", \"BUY\", 1.12345, 1.12345, 1.12345, 0.1, 4040])\n",
    "x.add_row([\"11/5/2021 15:42:35\", \"EURGBP\", \"SELL\", 1.12345, 1.12345, 1.12345, 0.1, 4040])\n",
    "x.add_row([\"11/5/2021 15:42:40\", \"EURCHF\", \"SELL\", 1.12345, 1.12345, 1.12345, 0.1, 4040])\n",
    "x.add_row([\"11/5/2021 15:42:42\", \"EURAUD\", \"BUY\", 1.12345, 1.12345, 1.12345, 0.1, 4040])\n",
    "x.add_row([\"11/5/2021 15:42:45\", \"USDJPY\", \"BUY\", 112.345, 112.345, 112.345, 0.1, 4040])\n",
    "x.add_row([\"11/5/2021 15:42:48\", \"NZDUSD\", \"BUY\", 1.12345, 1.12345, 1.12345, 0.1, 4040])\n",
    "x.add_row([\"11/5/2021 15:42:50\", \"GBPUSD\", \"SELL\", 1.12345, 1.12345, 1.12345, 0.1, 4040])\n",
    "print(x)"
   ]
  },
  {
   "cell_type": "code",
   "execution_count": 35,
   "id": "26abebc6-0ebc-401f-9166-a5d8a1fbe40c",
   "metadata": {},
   "outputs": [
    {
     "name": "stdout",
     "output_type": "stream",
     "text": [
      "+--------------------+----------+------+---------+---------+---------+--------+\n",
      "|               Date | Currency | Type |   Price |      SL |      TP | Volume |\n",
      "+--------------------+----------+------+---------+---------+---------+--------+\n",
      "| 11/5/2021 15:42:23 |   EURUSD |  BUY | 1.12345 | 1.12345 | 1.12345 |    0.1 |\n",
      "| 11/5/2021 15:42:35 |   EURGBP | SELL | 1.12345 | 1.12345 | 1.12345 |    0.1 |\n",
      "| 11/5/2021 15:42:40 |   EURCHF | SELL | 1.12345 | 1.12345 | 1.12345 |    0.1 |\n",
      "| 11/5/2021 15:42:42 |   EURAUD |  BUY | 1.12345 | 1.12345 | 1.12345 |    0.1 |\n",
      "| 11/5/2021 15:42:45 |   USDJPY |  BUY | 112.345 | 112.345 | 112.345 |    0.1 |\n",
      "| 11/5/2021 15:42:48 |   NZDUSD |  BUY | 1.12345 | 1.12345 | 1.12345 |    0.1 |\n",
      "| 11/5/2021 15:42:50 |   GBPUSD | SELL | 1.12345 | 1.12345 | 1.12345 |    0.1 |\n",
      "+--------------------+----------+------+---------+---------+---------+--------+\n"
     ]
    }
   ],
   "source": [
    "x.align = \"r\"\n",
    "print(x)"
   ]
  },
  {
   "cell_type": "code",
   "execution_count": 30,
   "id": "1a99ba13-8b3f-49de-a6bd-c78c74c1def7",
   "metadata": {},
   "outputs": [
    {
     "name": "stdout",
     "output_type": "stream",
     "text": [
      "+--------------------+----------+------+---------+---------+---------+--------+\n",
      "| Date               | Currency | Type | Price   | SL      | TP      | Volume |\n",
      "+--------------------+----------+------+---------+---------+---------+--------+\n",
      "| 11/5/2021 15:42:23 | EURUSD   | BUY  | 1.12345 | 1.12345 | 1.12345 | 0.1    |\n",
      "| 11/5/2021 15:42:35 | EURGBP   | SELL | 1.12345 | 1.12345 | 1.12345 | 0.1    |\n",
      "| 11/5/2021 15:42:40 | EURCHF   | SELL | 1.12345 | 1.12345 | 1.12345 | 0.1    |\n",
      "| 11/5/2021 15:42:42 | EURAUD   | BUY  | 1.12345 | 1.12345 | 1.12345 | 0.1    |\n",
      "| 11/5/2021 15:42:45 | USDJPY   | BUY  | 112.345 | 112.345 | 112.345 | 0.1    |\n",
      "| 11/5/2021 15:42:48 | NZDUSD   | BUY  | 1.12345 | 1.12345 | 1.12345 | 0.1    |\n",
      "| 11/5/2021 15:42:50 | GBPUSD   | SELL | 1.12345 | 1.12345 | 1.12345 | 0.1    |\n",
      "+--------------------+----------+------+---------+---------+---------+--------+\n"
     ]
    }
   ],
   "source": [
    "x.align = \"l\"\n",
    "print(x)"
   ]
  },
  {
   "cell_type": "code",
   "execution_count": 31,
   "id": "71cac57f-8c05-4a55-ac92-b98559d02ee4",
   "metadata": {},
   "outputs": [
    {
     "name": "stdout",
     "output_type": "stream",
     "text": [
      "+--------------------+----------+------+---------+---------+---------+--------+\n",
      "|        Date        | Currency | Type |  Price  |    SL   |    TP   | Volume |\n",
      "+--------------------+----------+------+---------+---------+---------+--------+\n",
      "| 11/5/2021 15:42:23 |  EURUSD  | BUY  | 1.12345 | 1.12345 | 1.12345 |  0.1   |\n",
      "| 11/5/2021 15:42:35 |  EURGBP  | SELL | 1.12345 | 1.12345 | 1.12345 |  0.1   |\n",
      "| 11/5/2021 15:42:40 |  EURCHF  | SELL | 1.12345 | 1.12345 | 1.12345 |  0.1   |\n",
      "| 11/5/2021 15:42:42 |  EURAUD  | BUY  | 1.12345 | 1.12345 | 1.12345 |  0.1   |\n",
      "| 11/5/2021 15:42:45 |  USDJPY  | BUY  | 112.345 | 112.345 | 112.345 |  0.1   |\n",
      "| 11/5/2021 15:42:48 |  NZDUSD  | BUY  | 1.12345 | 1.12345 | 1.12345 |  0.1   |\n",
      "| 11/5/2021 15:42:50 |  GBPUSD  | SELL | 1.12345 | 1.12345 | 1.12345 |  0.1   |\n",
      "+--------------------+----------+------+---------+---------+---------+--------+\n"
     ]
    }
   ],
   "source": [
    "x.align = \"c\"\n",
    "print(x)"
   ]
  },
  {
   "cell_type": "code",
   "execution_count": 32,
   "id": "1f3f3d06-d805-41fe-a655-b6258c761a17",
   "metadata": {},
   "outputs": [
    {
     "name": "stdout",
     "output_type": "stream",
     "text": [
      "        Date         Currency  Type   Price      SL       TP    Volume \n",
      " 11/5/2021 15:42:23   EURUSD   BUY   1.12345  1.12345  1.12345   0.1   \n",
      " 11/5/2021 15:42:35   EURGBP   SELL  1.12345  1.12345  1.12345   0.1   \n",
      " 11/5/2021 15:42:40   EURCHF   SELL  1.12345  1.12345  1.12345   0.1   \n",
      " 11/5/2021 15:42:42   EURAUD   BUY   1.12345  1.12345  1.12345   0.1   \n",
      " 11/5/2021 15:42:45   USDJPY   BUY   112.345  112.345  112.345   0.1   \n",
      " 11/5/2021 15:42:48   NZDUSD   BUY   1.12345  1.12345  1.12345   0.1   \n",
      " 11/5/2021 15:42:50   GBPUSD   SELL  1.12345  1.12345  1.12345   0.1   \n"
     ]
    }
   ],
   "source": [
    "x.border=False\n",
    "print(x)"
   ]
  },
  {
   "cell_type": "code",
   "execution_count": 13,
   "id": "c94a7200-3952-4d3b-aa9a-6e17b82b3581",
   "metadata": {},
   "outputs": [],
   "source": [
    "ea = eaonline(login=40305620,senha='x8dcteyv',servidor='MetaQuotes-Demo',risk=0.01, multiply=3, magic_number=1005, timeframe='D1', tpsl_avg = 10, tp_multi=4.0, sl_multi=0.5, pct_period=7)"
   ]
  },
  {
   "cell_type": "code",
   "execution_count": 15,
   "id": "c66b2cb5-cf6c-4dcd-8c98-ec746ddf5fab",
   "metadata": {},
   "outputs": [
    {
     "name": "stdout",
     "output_type": "stream",
     "text": [
      "Hour: 11/5/2021 15:42:23 | Type: Buy | Symbol: EURUSD | Price: 1.21639 | Volume: 0.12\n"
     ]
    }
   ],
   "source": [
    "ea.mt_login()\n",
    "ea.open_trade('buy', 0.02, 'EURUSD', 1234)\n",
    "ea.mt_logoff()"
   ]
  },
  {
   "cell_type": "code",
   "execution_count": 18,
   "id": "b30dfce8-5141-4244-a982-369620112d84",
   "metadata": {},
   "outputs": [
    {
     "data": {
      "text/plain": [
       "{'action': 1,\n",
       " 'symbol': 'EURUSD',\n",
       " 'volume': 0.12,\n",
       " 'type': 0,\n",
       " 'price': 1.21639,\n",
       " 'sl': 1.20639,\n",
       " 'tp': 1.29639,\n",
       " 'deviation': 10,\n",
       " 'magic': 1234,\n",
       " 'comment': 'MAYBE LATER A COMMENT',\n",
       " 'type_time': 0,\n",
       " 'type_filling': 1}"
      ]
     },
     "execution_count": 18,
     "metadata": {},
     "output_type": "execute_result"
    }
   ],
   "source": [
    "ea.control_dict['EURUSD']['buy_request']"
   ]
  }
 ],
 "metadata": {
  "kernelspec": {
   "display_name": "Python 3",
   "language": "python",
   "name": "python3"
  },
  "language_info": {
   "codemirror_mode": {
    "name": "ipython",
    "version": 3
   },
   "file_extension": ".py",
   "mimetype": "text/x-python",
   "name": "python",
   "nbconvert_exporter": "python",
   "pygments_lexer": "ipython3",
   "version": "3.9.1"
  }
 },
 "nbformat": 4,
 "nbformat_minor": 5
}
