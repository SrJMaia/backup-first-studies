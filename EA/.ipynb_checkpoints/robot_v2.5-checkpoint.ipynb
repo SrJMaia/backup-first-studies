{
 "cells": [
  {
   "cell_type": "code",
   "execution_count": 1,
   "id": "related-kenya",
   "metadata": {},
   "outputs": [],
   "source": [
    "import MetaTrader5 as mt5\n",
    "import pandas as pd\n",
    "from time import sleep\n",
    "import financial as fn\n",
    "import data as dt\n",
    "from mt5 import login_mt5\n",
    "from time import sleep"
   ]
  },
  {
   "cell_type": "code",
   "execution_count": 2,
   "id": "selective-clearance",
   "metadata": {},
   "outputs": [],
   "source": [
    "HONEMAGICNUMBER = 1010\n",
    "events = fn.MY_EVENTS\n",
    "TPSL = 50\n",
    "MULTIPLY = 2"
   ]
  },
  {
   "cell_type": "code",
   "execution_count": null,
   "id": "valuable-access",
   "metadata": {
    "tags": []
   },
   "outputs": [],
   "source": [
    "login_mt5(login=41442678,password='0cxebqvs',server='MetaQuotes-Demo')\n",
    "\n",
    "df = dt.get_data(0, 60000, mt5.TIMEFRAME_H1)\n",
    "data = dt.pct_data(df, period=16)\n",
    "data = dt.signals(data)\n",
    "new_df = pd.DataFrame()\n",
    "\n",
    "while True:\n",
    "\n",
    "    for i in events.values():\n",
    "        \n",
    "        if data[i['buy_strategy']].iloc[-1] and i['buy']:\n",
    "            if not i['sell']:\n",
    "                fn.close_trade('buy', i['sell_request'])\n",
    "                i['buy_request'] = fn.open_trade(action='buy',tksl = TPSL, symbol=i['symbol'], ea_magic_number=HONEMAGICNUMBER, multiply=MULTIPLY)\n",
    "                i['buy'] = False\n",
    "                i['sell'] = True\n",
    "            else:\n",
    "                i['buy_request'] = fn.open_trade(action='buy',tksl = TPSL, symbol=i['symbol'], ea_magic_number=HONEMAGICNUMBER, multiply=MULTIPLY)\n",
    "                i['buy'] = False\n",
    "        elif data[i['sell_strategy']].iloc[-1] and i['sell']:\n",
    "            if not i['buy']:\n",
    "                fn.close_trade('sell', i['buy_request'])\n",
    "                fn.open_trade(action='sell', tksl = TPSL, symbol=i['symbol'], ea_magic_number=HONEMAGICNUMBER, multiply=MULTIPLY)\n",
    "                i['sell'] = False\n",
    "                i['buy'] = True\n",
    "            else:\n",
    "                fn.open_trade(action='sell', tksl = TPSL, symbol=i['symbol'], ea_magic_number=HONEMAGICNUMBER, multiply=MULTIPLY)\n",
    "                i['sell'] = False\n",
    "            \n",
    "    sleep(3600)\n",
    "\n",
    "    while True:\n",
    "        try:\n",
    "            new_df = dt.get_data(0, 1, mt5.TIMEFRAME_D1)\n",
    "        except:\n",
    "            print('Erro ao obter dados.')   \n",
    "        else:\n",
    "            print('Dados obtidos com sucesso.')\n",
    "            break\n",
    "    \n",
    "    if (new_df.iloc[-1] == df.iloc[-1]).sum() == 0:\n",
    "        data = pd.concat([df,new_df]).reset_index(drop=True)\n",
    "        data = dt.pct_data(data, period=16)\n",
    "        data = dt.signals(data)\n",
    "    else:\n",
    "        print('Não há dados novos.')\n",
    "    \n",
    "mt5.shutdown()"
   ]
  },
  {
   "cell_type": "code",
   "execution_count": null,
   "id": "8f820e98-12b8-438a-9c55-173f10b7107c",
   "metadata": {},
   "outputs": [],
   "source": [
    "data"
   ]
  },
  {
   "cell_type": "code",
   "execution_count": null,
   "id": "3575a8d2-515d-4dea-bb3e-1c2b7cb60362",
   "metadata": {},
   "outputs": [],
   "source": [
    "lista = [1,2,3,4]"
   ]
  },
  {
   "cell_type": "code",
   "execution_count": null,
   "id": "ca0c2bea-5c93-47e3-ae19-7439fcae91dc",
   "metadata": {},
   "outputs": [],
   "source": []
  },
  {
   "cell_type": "code",
   "execution_count": null,
   "id": "250ac0f3-5b34-4324-b7ea-e0334ed4e4dd",
   "metadata": {},
   "outputs": [],
   "source": []
  }
 ],
 "metadata": {
  "kernelspec": {
   "display_name": "Python 3",
   "language": "python",
   "name": "python3"
  },
  "language_info": {
   "codemirror_mode": {
    "name": "ipython",
    "version": 3
   },
   "file_extension": ".py",
   "mimetype": "text/x-python",
   "name": "python",
   "nbconvert_exporter": "python",
   "pygments_lexer": "ipython3",
   "version": "3.9.1"
  }
 },
 "nbformat": 4,
 "nbformat_minor": 5
}
