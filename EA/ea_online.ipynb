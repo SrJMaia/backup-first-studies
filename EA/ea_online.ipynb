{
 "cells": [
  {
   "cell_type": "code",
   "execution_count": 1,
   "id": "surprised-contents",
   "metadata": {},
   "outputs": [],
   "source": [
    "from arquivos.expert import eaonline"
   ]
  },
  {
   "cell_type": "code",
   "execution_count": 2,
   "id": "5d36d850-c859-4c1a-9b1d-02a25098a092",
   "metadata": {},
   "outputs": [],
   "source": [
    "ea = eaonline(risk=0.01, multiply=3, magic_number=1005, timeframe='D1', tpsl_avg = 10, tp_multi=4.0, sl_multi=0.5, pct_period=7)"
   ]
  },
  {
   "cell_type": "code",
   "execution_count": null,
   "id": "6b0b08ed-67e5-4e91-971f-dfc6c7eeaf4a",
   "metadata": {},
   "outputs": [
    {
     "name": "stdout",
     "output_type": "stream",
     "text": [
      "Erro a iniciar.\n",
      "Dados Baixados com Sucesso.\n",
      "Iniciado com sucesso.\n",
      "Dados Baixados com Sucesso.\n",
      "Dados obtidos com sucesso.\n",
      "Não há dados novos.\n",
      "Buy | Symbol: EURUSD | Price: 1.20251 | Volume: 0.09\n",
      "Sell | Symbol: EURCHF | Price: 1.09713 | Volume: 0.09\n",
      "Buy | Symbol: EURGBP | Price: 0.86784 | Volume: 0.09\n",
      "Buy | Symbol: EURJPY | Price: 131.245 | Volume: 0.09\n",
      "Sell | Symbol: EURNZD | Price: 1.6817199999999999 | Volume: 0.08\n",
      "Buy | Symbol: EURAUD | Price: 1.55949 | Volume: 0.08\n",
      "Sell | Symbol: EURCAD | Price: 1.4819499999999999 | Volume: 0.08\n",
      "Sell | Symbol: GBPAUD | Price: 1.79696 | Volume: 0.08\n",
      "Sell | Symbol: GBPCHF | Price: 1.26424 | Volume: 0.08\n",
      "Buy | Symbol: GBPJPY | Price: 151.25 | Volume: 0.08\n",
      "Sell | Symbol: GBPCAD | Price: 1.70776 | Volume: 0.08\n",
      "Buy | Symbol: GBPUSD | Price: 1.38586 | Volume: 0.08\n",
      "Sell | Symbol: GBPNZD | Price: 1.93811 | Volume: 0.08\n",
      "Sell | Symbol: USDCHF | Price: 0.91228 | Volume: 0.08\n",
      "Buy | Symbol: USDJPY | Price: 109.14 | Volume: 0.08\n",
      "Buy | Symbol: AUDUSD | Price: 0.77122 | Volume: 0.08\n",
      "Buy | Symbol: NZDUSD | Price: 0.71516 | Volume: 0.08\n",
      "Sell | Symbol: USDCAD | Price: 1.23218 | Volume: 0.08\n",
      "Buy | Symbol: AUDJPY | Price: 84.181 | Volume: 0.08\n",
      "Buy | Symbol: CADJPY | Price: 88.575 | Volume: 0.08\n",
      "Buy | Symbol: CHFJPY | Price: 119.64 | Volume: 0.08\n",
      "Buy | Symbol: NZDJPY | Price: 78.058 | Volume: 0.1\n",
      "Sell | Symbol: AUDCHF | Price: 0.70365 | Volume: 0.08\n",
      "Buy | Symbol: CADCHF | Price: 0.74038 | Volume: 0.08\n",
      "Sell | Symbol: NZDCHF | Price: 0.65242 | Volume: 0.1\n",
      "Sell | Symbol: AUDNZD | Price: 1.0785 | Volume: 0.08\n",
      "Sell | Symbol: NZDCAD | Price: 0.8812 | Volume: 0.1\n",
      "Sell | Symbol: AUDCAD | Price: 0.95041 | Volume: 0.08\n"
     ]
    }
   ],
   "source": [
    "ea.start()"
   ]
  },
  {
   "cell_type": "code",
   "execution_count": null,
   "id": "d12886bb-1c57-475b-9595-2830ccfa60b7",
   "metadata": {},
   "outputs": [],
   "source": []
  }
 ],
 "metadata": {
  "kernelspec": {
   "display_name": "Python 3",
   "language": "python",
   "name": "python3"
  },
  "language_info": {
   "codemirror_mode": {
    "name": "ipython",
    "version": 3
   },
   "file_extension": ".py",
   "mimetype": "text/x-python",
   "name": "python",
   "nbconvert_exporter": "python",
   "pygments_lexer": "ipython3",
   "version": "3.9.1"
  }
 },
 "nbformat": 4,
 "nbformat_minor": 5
}
