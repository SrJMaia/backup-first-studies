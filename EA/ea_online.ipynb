{
 "cells": [
  {
   "cell_type": "code",
   "execution_count": 1,
   "id": "surprised-contents",
   "metadata": {},
   "outputs": [],
   "source": [
    "from arquivos.expert import eaonline"
   ]
  },
  {
   "cell_type": "code",
   "execution_count": 2,
   "id": "5d36d850-c859-4c1a-9b1d-02a25098a092",
   "metadata": {},
   "outputs": [],
   "source": [
    "ea = eaonline(risk=0.01, multiply=3, magic_number=1005, timeframe='D1', tpsl_avg = 10, tp_multi=4.0, sl_multi=0.5, pct_period=7)"
   ]
  },
  {
   "cell_type": "code",
   "execution_count": null,
   "id": "6b0b08ed-67e5-4e91-971f-dfc6c7eeaf4a",
   "metadata": {},
   "outputs": [
    {
     "name": "stdout",
     "output_type": "stream",
     "text": [
      "Dados Baixados com Sucesso.\n",
      "Iniciado com sucesso.\n"
     ]
    }
   ],
   "source": [
    "ea.start()"
   ]
  },
  {
   "cell_type": "code",
   "execution_count": null,
   "id": "d12886bb-1c57-475b-9595-2830ccfa60b7",
   "metadata": {},
   "outputs": [],
   "source": []
  }
 ],
 "metadata": {
  "kernelspec": {
   "display_name": "Python 3",
   "language": "python",
   "name": "python3"
  },
  "language_info": {
   "codemirror_mode": {
    "name": "ipython",
    "version": 3
   },
   "file_extension": ".py",
   "mimetype": "text/x-python",
   "name": "python",
   "nbconvert_exporter": "python",
   "pygments_lexer": "ipython3",
   "version": "3.9.1"
  }
 },
 "nbformat": 4,
 "nbformat_minor": 5
}
