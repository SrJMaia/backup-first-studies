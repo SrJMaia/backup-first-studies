{
 "cells": [
  {
   "cell_type": "code",
   "execution_count": 1,
   "id": "devoted-navigation",
   "metadata": {},
   "outputs": [],
   "source": [
    "from arquivos import central\n",
    "import matplotlib.pyplot as plt\n",
    "from numba import njit\n",
    "import numpy as np\n",
    "import pandas as pd"
   ]
  },
  {
   "cell_type": "code",
   "execution_count": 2,
   "id": "economic-former",
   "metadata": {},
   "outputs": [],
   "source": [
    "robot = central.Central()"
   ]
  },
  {
   "cell_type": "code",
   "execution_count": 3,
   "id": "09eb6557-25c8-4754-bbc9-8b29884c3f33",
   "metadata": {},
   "outputs": [
    {
     "name": "stdout",
     "output_type": "stream",
     "text": [
      "Dados Carregados com Sucesso.\n"
     ]
    }
   ],
   "source": [
    "robot.get_normal_data_csv('C:\\\\Users\\\\johnk\\\\Google Drive\\\\My_Project\\\\Dados\\\\Data_H1_66k_icmarkets.csv', drop=True, drop_list=['Unnamed: 0'])"
   ]
  },
  {
   "cell_type": "code",
   "execution_count": 4,
   "id": "abe223e1-c29b-4697-b4ec-fc645bbeabee",
   "metadata": {},
   "outputs": [
    {
     "ename": "TypingError",
     "evalue": "Failed in nopython mode pipeline (step: nopython frontend)\n\u001b[1m\u001b[1mnon-precise type pyobject\u001b[0m\n\u001b[0m\u001b[1mDuring: typing of argument at C:\\Users\\johnk\\Google Drive\\My_Project\\Git\\Python\\EA\\arquivos\\backtest.py (52)\u001b[0m\n\u001b[1m\nFile \"arquivos\\backtest.py\", line 52:\u001b[0m\n\u001b[1m    def otimizado_tpsl(self, tpsl, multiply_tpsl, balance=1000):\n        <source elided>\n\n\u001b[1m        series = self.get_numpy_normal_data()\n\u001b[0m        \u001b[1m^\u001b[0m\u001b[0m\n\nThis error may have been caused by the following argument(s):\n- argument 0: \u001b[1mCannot determine Numba type of <class 'arquivos.central.Central'>\u001b[0m\n",
     "output_type": "error",
     "traceback": [
      "\u001b[1;31m---------------------------------------------------------------------------\u001b[0m",
      "\u001b[1;31mTypingError\u001b[0m                               Traceback (most recent call last)",
      "\u001b[1;32m<timed exec>\u001b[0m in \u001b[0;36m<module>\u001b[1;34m\u001b[0m\n",
      "\u001b[1;32m~\\Google Drive\\My_Project\\Git\\Python\\EA\\arquivos\\central.py\u001b[0m in \u001b[0;36mback_tpsl\u001b[1;34m(self, tpsl, multiply_tpsl)\u001b[0m\n\u001b[0;32m     30\u001b[0m         \u001b[0meach_pair\u001b[0m \u001b[1;33m=\u001b[0m \u001b[0mresultado\u001b[0m \u001b[0mde\u001b[0m \u001b[0mcada\u001b[0m \u001b[0mpar\u001b[0m\u001b[1;33m\u001b[0m\u001b[1;33m\u001b[0m\u001b[0m\n\u001b[0;32m     31\u001b[0m         \"\"\"\n\u001b[1;32m---> 32\u001b[1;33m         \u001b[0mtot\u001b[0m\u001b[1;33m,\u001b[0m \u001b[0msell\u001b[0m\u001b[1;33m,\u001b[0m \u001b[0mbuy\u001b[0m\u001b[1;33m,\u001b[0m \u001b[0meach_pair\u001b[0m \u001b[1;33m=\u001b[0m  \u001b[0mself\u001b[0m\u001b[1;33m.\u001b[0m\u001b[0motimizado_tpsl\u001b[0m\u001b[1;33m(\u001b[0m\u001b[0mtpsl\u001b[0m\u001b[1;33m=\u001b[0m\u001b[0mtpsl\u001b[0m\u001b[1;33m,\u001b[0m \u001b[0mmultiply_tpsl\u001b[0m\u001b[1;33m=\u001b[0m\u001b[0mmultiply_tpsl\u001b[0m\u001b[1;33m)\u001b[0m\u001b[1;33m\u001b[0m\u001b[1;33m\u001b[0m\u001b[0m\n\u001b[0m\u001b[0;32m     33\u001b[0m         \u001b[0mtot\u001b[0m \u001b[1;33m=\u001b[0m \u001b[0mnp\u001b[0m\u001b[1;33m.\u001b[0m\u001b[0mdelete\u001b[0m\u001b[1;33m(\u001b[0m\u001b[0mtot\u001b[0m\u001b[1;33m,\u001b[0m \u001b[0mnp\u001b[0m\u001b[1;33m.\u001b[0m\u001b[0mwhere\u001b[0m\u001b[1;33m(\u001b[0m\u001b[0mtot\u001b[0m \u001b[1;33m==\u001b[0m \u001b[1;36m0.\u001b[0m\u001b[1;33m)\u001b[0m\u001b[1;33m)\u001b[0m\u001b[1;33m\u001b[0m\u001b[1;33m\u001b[0m\u001b[0m\n\u001b[0;32m     34\u001b[0m         \u001b[0msell\u001b[0m \u001b[1;33m=\u001b[0m \u001b[0mnp\u001b[0m\u001b[1;33m.\u001b[0m\u001b[0mdelete\u001b[0m\u001b[1;33m(\u001b[0m\u001b[0msell\u001b[0m\u001b[1;33m,\u001b[0m \u001b[0mnp\u001b[0m\u001b[1;33m.\u001b[0m\u001b[0mwhere\u001b[0m\u001b[1;33m(\u001b[0m\u001b[0msell\u001b[0m \u001b[1;33m==\u001b[0m \u001b[1;36m0.\u001b[0m\u001b[1;33m)\u001b[0m\u001b[1;33m)\u001b[0m\u001b[1;33m\u001b[0m\u001b[1;33m\u001b[0m\u001b[0m\n",
      "\u001b[1;32mc:\\users\\johnk\\appdata\\local\\programs\\python\\python39\\lib\\site-packages\\numba\\core\\dispatcher.py\u001b[0m in \u001b[0;36m_compile_for_args\u001b[1;34m(self, *args, **kws)\u001b[0m\n\u001b[0;32m    418\u001b[0m                 \u001b[0me\u001b[0m\u001b[1;33m.\u001b[0m\u001b[0mpatch_message\u001b[0m\u001b[1;33m(\u001b[0m\u001b[0mmsg\u001b[0m\u001b[1;33m)\u001b[0m\u001b[1;33m\u001b[0m\u001b[1;33m\u001b[0m\u001b[0m\n\u001b[0;32m    419\u001b[0m \u001b[1;33m\u001b[0m\u001b[0m\n\u001b[1;32m--> 420\u001b[1;33m             \u001b[0merror_rewrite\u001b[0m\u001b[1;33m(\u001b[0m\u001b[0me\u001b[0m\u001b[1;33m,\u001b[0m \u001b[1;34m'typing'\u001b[0m\u001b[1;33m)\u001b[0m\u001b[1;33m\u001b[0m\u001b[1;33m\u001b[0m\u001b[0m\n\u001b[0m\u001b[0;32m    421\u001b[0m         \u001b[1;32mexcept\u001b[0m \u001b[0merrors\u001b[0m\u001b[1;33m.\u001b[0m\u001b[0mUnsupportedError\u001b[0m \u001b[1;32mas\u001b[0m \u001b[0me\u001b[0m\u001b[1;33m:\u001b[0m\u001b[1;33m\u001b[0m\u001b[1;33m\u001b[0m\u001b[0m\n\u001b[0;32m    422\u001b[0m             \u001b[1;31m# Something unsupported is present in the user code, add help info\u001b[0m\u001b[1;33m\u001b[0m\u001b[1;33m\u001b[0m\u001b[1;33m\u001b[0m\u001b[0m\n",
      "\u001b[1;32mc:\\users\\johnk\\appdata\\local\\programs\\python\\python39\\lib\\site-packages\\numba\\core\\dispatcher.py\u001b[0m in \u001b[0;36merror_rewrite\u001b[1;34m(e, issue_type)\u001b[0m\n\u001b[0;32m    359\u001b[0m                 \u001b[1;32mraise\u001b[0m \u001b[0me\u001b[0m\u001b[1;33m\u001b[0m\u001b[1;33m\u001b[0m\u001b[0m\n\u001b[0;32m    360\u001b[0m             \u001b[1;32melse\u001b[0m\u001b[1;33m:\u001b[0m\u001b[1;33m\u001b[0m\u001b[1;33m\u001b[0m\u001b[0m\n\u001b[1;32m--> 361\u001b[1;33m                 \u001b[1;32mraise\u001b[0m \u001b[0me\u001b[0m\u001b[1;33m.\u001b[0m\u001b[0mwith_traceback\u001b[0m\u001b[1;33m(\u001b[0m\u001b[1;32mNone\u001b[0m\u001b[1;33m)\u001b[0m\u001b[1;33m\u001b[0m\u001b[1;33m\u001b[0m\u001b[0m\n\u001b[0m\u001b[0;32m    362\u001b[0m \u001b[1;33m\u001b[0m\u001b[0m\n\u001b[0;32m    363\u001b[0m         \u001b[0margtypes\u001b[0m \u001b[1;33m=\u001b[0m \u001b[1;33m[\u001b[0m\u001b[1;33m]\u001b[0m\u001b[1;33m\u001b[0m\u001b[1;33m\u001b[0m\u001b[0m\n",
      "\u001b[1;31mTypingError\u001b[0m: Failed in nopython mode pipeline (step: nopython frontend)\n\u001b[1m\u001b[1mnon-precise type pyobject\u001b[0m\n\u001b[0m\u001b[1mDuring: typing of argument at C:\\Users\\johnk\\Google Drive\\My_Project\\Git\\Python\\EA\\arquivos\\backtest.py (52)\u001b[0m\n\u001b[1m\nFile \"arquivos\\backtest.py\", line 52:\u001b[0m\n\u001b[1m    def otimizado_tpsl(self, tpsl, multiply_tpsl, balance=1000):\n        <source elided>\n\n\u001b[1m        series = self.get_numpy_normal_data()\n\u001b[0m        \u001b[1m^\u001b[0m\u001b[0m\n\nThis error may have been caused by the following argument(s):\n- argument 0: \u001b[1mCannot determine Numba type of <class 'arquivos.central.Central'>\u001b[0m\n"
     ]
    }
   ],
   "source": [
    "%%time\n",
    "\n",
    "robot.pct_data()\n",
    "robot.balance_signal4()\n",
    "robot.normal_data_to_array()\n",
    "tot, sell, buy, all_f = robot.back_tpsl(10, 2)\n",
    "tot = pd.Series(tot)"
   ]
  },
  {
   "cell_type": "code",
   "execution_count": 5,
   "id": "47e48a93-c204-431e-865f-14ed7ccf390e",
   "metadata": {},
   "outputs": [],
   "source": [
    "x = [1,1,1,1,0]"
   ]
  },
  {
   "cell_type": "code",
   "execution_count": 11,
   "id": "b9228631-9d57-46be-a904-7ef51db7aae0",
   "metadata": {},
   "outputs": [
    {
     "name": "stdout",
     "output_type": "stream",
     "text": [
      "a\n"
     ]
    }
   ],
   "source": [
    "if not 3 in x:\n",
    "    print('a')\n",
    "elif not 4 in x:\n",
    "    print(1)"
   ]
  },
  {
   "cell_type": "code",
   "execution_count": 7,
   "id": "bad46d70-1211-4297-9026-6da34e49e62e",
   "metadata": {},
   "outputs": [
    {
     "data": {
      "text/html": [
       "<div>\n",
       "<style scoped>\n",
       "    .dataframe tbody tr th:only-of-type {\n",
       "        vertical-align: middle;\n",
       "    }\n",
       "\n",
       "    .dataframe tbody tr th {\n",
       "        vertical-align: top;\n",
       "    }\n",
       "\n",
       "    .dataframe thead th {\n",
       "        text-align: right;\n",
       "    }\n",
       "</style>\n",
       "<table border=\"1\" class=\"dataframe\">\n",
       "  <thead>\n",
       "    <tr style=\"text-align: right;\">\n",
       "      <th></th>\n",
       "      <th>1_1</th>\n",
       "      <th>1_2</th>\n",
       "      <th>1_3</th>\n",
       "      <th>1_4</th>\n",
       "      <th>2_1</th>\n",
       "      <th>2_2</th>\n",
       "      <th>2_3</th>\n",
       "      <th>2_4</th>\n",
       "      <th>4_1</th>\n",
       "      <th>4_2</th>\n",
       "      <th>4_3</th>\n",
       "      <th>4_4</th>\n",
       "      <th>7_1</th>\n",
       "      <th>7_2</th>\n",
       "      <th>7_3</th>\n",
       "      <th>7_4</th>\n",
       "    </tr>\n",
       "  </thead>\n",
       "  <tbody>\n",
       "    <tr>\n",
       "      <th>0</th>\n",
       "      <td>1000.00</td>\n",
       "      <td>1000.00</td>\n",
       "      <td>1000.00</td>\n",
       "      <td>1000.00</td>\n",
       "      <td>1000.00</td>\n",
       "      <td>1000.00</td>\n",
       "      <td>1000.00</td>\n",
       "      <td>1000.00</td>\n",
       "      <td>1000.00</td>\n",
       "      <td>1000.00</td>\n",
       "      <td>1000.00</td>\n",
       "      <td>1000.00</td>\n",
       "      <td>1000.00</td>\n",
       "      <td>1000.00</td>\n",
       "      <td>1000.00</td>\n",
       "      <td>1000.00</td>\n",
       "    </tr>\n",
       "    <tr>\n",
       "      <th>1</th>\n",
       "      <td>996.50</td>\n",
       "      <td>996.50</td>\n",
       "      <td>996.50</td>\n",
       "      <td>996.50</td>\n",
       "      <td>996.50</td>\n",
       "      <td>996.50</td>\n",
       "      <td>996.50</td>\n",
       "      <td>996.50</td>\n",
       "      <td>996.50</td>\n",
       "      <td>996.50</td>\n",
       "      <td>996.50</td>\n",
       "      <td>996.50</td>\n",
       "      <td>996.50</td>\n",
       "      <td>996.50</td>\n",
       "      <td>996.50</td>\n",
       "      <td>996.50</td>\n",
       "    </tr>\n",
       "    <tr>\n",
       "      <th>2</th>\n",
       "      <td>996.16</td>\n",
       "      <td>996.16</td>\n",
       "      <td>996.16</td>\n",
       "      <td>996.16</td>\n",
       "      <td>996.16</td>\n",
       "      <td>996.16</td>\n",
       "      <td>996.16</td>\n",
       "      <td>996.16</td>\n",
       "      <td>996.16</td>\n",
       "      <td>996.16</td>\n",
       "      <td>996.16</td>\n",
       "      <td>996.16</td>\n",
       "      <td>996.16</td>\n",
       "      <td>996.16</td>\n",
       "      <td>996.16</td>\n",
       "      <td>996.16</td>\n",
       "    </tr>\n",
       "    <tr>\n",
       "      <th>3</th>\n",
       "      <td>996.09</td>\n",
       "      <td>996.09</td>\n",
       "      <td>996.09</td>\n",
       "      <td>996.09</td>\n",
       "      <td>996.09</td>\n",
       "      <td>996.09</td>\n",
       "      <td>996.09</td>\n",
       "      <td>996.09</td>\n",
       "      <td>996.09</td>\n",
       "      <td>996.09</td>\n",
       "      <td>996.09</td>\n",
       "      <td>996.09</td>\n",
       "      <td>996.09</td>\n",
       "      <td>996.09</td>\n",
       "      <td>996.09</td>\n",
       "      <td>996.09</td>\n",
       "    </tr>\n",
       "    <tr>\n",
       "      <th>4</th>\n",
       "      <td>996.49</td>\n",
       "      <td>996.49</td>\n",
       "      <td>996.49</td>\n",
       "      <td>996.49</td>\n",
       "      <td>996.49</td>\n",
       "      <td>996.49</td>\n",
       "      <td>996.49</td>\n",
       "      <td>996.49</td>\n",
       "      <td>996.49</td>\n",
       "      <td>996.49</td>\n",
       "      <td>996.49</td>\n",
       "      <td>996.49</td>\n",
       "      <td>996.49</td>\n",
       "      <td>996.49</td>\n",
       "      <td>996.49</td>\n",
       "      <td>996.49</td>\n",
       "    </tr>\n",
       "    <tr>\n",
       "      <th>...</th>\n",
       "      <td>...</td>\n",
       "      <td>...</td>\n",
       "      <td>...</td>\n",
       "      <td>...</td>\n",
       "      <td>...</td>\n",
       "      <td>...</td>\n",
       "      <td>...</td>\n",
       "      <td>...</td>\n",
       "      <td>...</td>\n",
       "      <td>...</td>\n",
       "      <td>...</td>\n",
       "      <td>...</td>\n",
       "      <td>...</td>\n",
       "      <td>...</td>\n",
       "      <td>...</td>\n",
       "      <td>...</td>\n",
       "    </tr>\n",
       "    <tr>\n",
       "      <th>881674</th>\n",
       "      <td>7169.43</td>\n",
       "      <td>7169.43</td>\n",
       "      <td>7169.43</td>\n",
       "      <td>7169.43</td>\n",
       "      <td>7169.43</td>\n",
       "      <td>7169.43</td>\n",
       "      <td>7169.43</td>\n",
       "      <td>7169.43</td>\n",
       "      <td>7169.43</td>\n",
       "      <td>7169.43</td>\n",
       "      <td>7169.43</td>\n",
       "      <td>7169.43</td>\n",
       "      <td>7169.43</td>\n",
       "      <td>7169.43</td>\n",
       "      <td>7169.43</td>\n",
       "      <td>7169.43</td>\n",
       "    </tr>\n",
       "    <tr>\n",
       "      <th>881675</th>\n",
       "      <td>7167.51</td>\n",
       "      <td>7167.51</td>\n",
       "      <td>7167.51</td>\n",
       "      <td>7167.51</td>\n",
       "      <td>7167.51</td>\n",
       "      <td>7167.51</td>\n",
       "      <td>7167.51</td>\n",
       "      <td>7167.51</td>\n",
       "      <td>7167.51</td>\n",
       "      <td>7167.51</td>\n",
       "      <td>7167.51</td>\n",
       "      <td>7167.51</td>\n",
       "      <td>7167.51</td>\n",
       "      <td>7167.51</td>\n",
       "      <td>7167.51</td>\n",
       "      <td>7167.51</td>\n",
       "    </tr>\n",
       "    <tr>\n",
       "      <th>881676</th>\n",
       "      <td>7166.37</td>\n",
       "      <td>7166.37</td>\n",
       "      <td>7166.37</td>\n",
       "      <td>7166.37</td>\n",
       "      <td>7166.37</td>\n",
       "      <td>7166.37</td>\n",
       "      <td>7166.37</td>\n",
       "      <td>7166.37</td>\n",
       "      <td>7166.37</td>\n",
       "      <td>7166.37</td>\n",
       "      <td>7166.37</td>\n",
       "      <td>7166.37</td>\n",
       "      <td>7166.37</td>\n",
       "      <td>7166.37</td>\n",
       "      <td>7166.37</td>\n",
       "      <td>7166.37</td>\n",
       "    </tr>\n",
       "    <tr>\n",
       "      <th>881677</th>\n",
       "      <td>7166.06</td>\n",
       "      <td>7166.06</td>\n",
       "      <td>7166.06</td>\n",
       "      <td>7166.06</td>\n",
       "      <td>7166.06</td>\n",
       "      <td>7166.06</td>\n",
       "      <td>7166.06</td>\n",
       "      <td>7166.06</td>\n",
       "      <td>7166.06</td>\n",
       "      <td>7166.06</td>\n",
       "      <td>7166.06</td>\n",
       "      <td>7166.06</td>\n",
       "      <td>7166.06</td>\n",
       "      <td>7166.06</td>\n",
       "      <td>7166.06</td>\n",
       "      <td>7166.06</td>\n",
       "    </tr>\n",
       "    <tr>\n",
       "      <th>881678</th>\n",
       "      <td>7165.41</td>\n",
       "      <td>7165.41</td>\n",
       "      <td>7165.41</td>\n",
       "      <td>7165.41</td>\n",
       "      <td>7165.41</td>\n",
       "      <td>7165.41</td>\n",
       "      <td>7165.41</td>\n",
       "      <td>7165.41</td>\n",
       "      <td>7165.41</td>\n",
       "      <td>7165.41</td>\n",
       "      <td>7165.41</td>\n",
       "      <td>7165.41</td>\n",
       "      <td>7165.41</td>\n",
       "      <td>7165.41</td>\n",
       "      <td>7165.41</td>\n",
       "      <td>7165.41</td>\n",
       "    </tr>\n",
       "  </tbody>\n",
       "</table>\n",
       "<p>881679 rows × 16 columns</p>\n",
       "</div>"
      ],
      "text/plain": [
       "            1_1      1_2      1_3      1_4      2_1      2_2      2_3  \\\n",
       "0       1000.00  1000.00  1000.00  1000.00  1000.00  1000.00  1000.00   \n",
       "1        996.50   996.50   996.50   996.50   996.50   996.50   996.50   \n",
       "2        996.16   996.16   996.16   996.16   996.16   996.16   996.16   \n",
       "3        996.09   996.09   996.09   996.09   996.09   996.09   996.09   \n",
       "4        996.49   996.49   996.49   996.49   996.49   996.49   996.49   \n",
       "...         ...      ...      ...      ...      ...      ...      ...   \n",
       "881674  7169.43  7169.43  7169.43  7169.43  7169.43  7169.43  7169.43   \n",
       "881675  7167.51  7167.51  7167.51  7167.51  7167.51  7167.51  7167.51   \n",
       "881676  7166.37  7166.37  7166.37  7166.37  7166.37  7166.37  7166.37   \n",
       "881677  7166.06  7166.06  7166.06  7166.06  7166.06  7166.06  7166.06   \n",
       "881678  7165.41  7165.41  7165.41  7165.41  7165.41  7165.41  7165.41   \n",
       "\n",
       "            2_4      4_1      4_2      4_3      4_4      7_1      7_2  \\\n",
       "0       1000.00  1000.00  1000.00  1000.00  1000.00  1000.00  1000.00   \n",
       "1        996.50   996.50   996.50   996.50   996.50   996.50   996.50   \n",
       "2        996.16   996.16   996.16   996.16   996.16   996.16   996.16   \n",
       "3        996.09   996.09   996.09   996.09   996.09   996.09   996.09   \n",
       "4        996.49   996.49   996.49   996.49   996.49   996.49   996.49   \n",
       "...         ...      ...      ...      ...      ...      ...      ...   \n",
       "881674  7169.43  7169.43  7169.43  7169.43  7169.43  7169.43  7169.43   \n",
       "881675  7167.51  7167.51  7167.51  7167.51  7167.51  7167.51  7167.51   \n",
       "881676  7166.37  7166.37  7166.37  7166.37  7166.37  7166.37  7166.37   \n",
       "881677  7166.06  7166.06  7166.06  7166.06  7166.06  7166.06  7166.06   \n",
       "881678  7165.41  7165.41  7165.41  7165.41  7165.41  7165.41  7165.41   \n",
       "\n",
       "            7_3      7_4  \n",
       "0       1000.00  1000.00  \n",
       "1        996.50   996.50  \n",
       "2        996.16   996.16  \n",
       "3        996.09   996.09  \n",
       "4        996.49   996.49  \n",
       "...         ...      ...  \n",
       "881674  7169.43  7169.43  \n",
       "881675  7167.51  7167.51  \n",
       "881676  7166.37  7166.37  \n",
       "881677  7166.06  7166.06  \n",
       "881678  7165.41  7165.41  \n",
       "\n",
       "[881679 rows x 16 columns]"
      ]
     },
     "execution_count": 7,
     "metadata": {},
     "output_type": "execute_result"
    }
   ],
   "source": [
    "results"
   ]
  },
  {
   "cell_type": "code",
   "execution_count": 64,
   "id": "48094cd5-2f83-41ba-91ad-88a69498b760",
   "metadata": {},
   "outputs": [
    {
     "data": {
      "image/png": "[encoded data removed]",
      "text/plain": [
       "<Figure size 2160x720 with 1 Axes>"
      ]
     },
     "metadata": {},
     "output_type": "display_data"
    }
   ],
   "source": [
    "results.plot()\n",
    "plt.grid()"
   ]
  },
  {
   "cell_type": "code",
   "execution_count": 9,
   "id": "d8ad52bf-128a-454d-958d-385f811aba6e",
   "metadata": {},
   "outputs": [],
   "source": [
    "one = results['1_1']"
   ]
  },
  {
   "cell_type": "code",
   "execution_count": 67,
   "id": "98096c5a-63b3-44ff-b283-659c64f4d846",
   "metadata": {},
   "outputs": [
    {
     "data": {
      "text/plain": [
       "355111"
      ]
     },
     "execution_count": 67,
     "metadata": {},
     "output_type": "execute_result"
    }
   ],
   "source": [
    "(one < 0).sum()"
   ]
  },
  {
   "cell_type": "code",
   "execution_count": 62,
   "id": "529e2094-15eb-425a-9856-e16b33cda094",
   "metadata": {},
   "outputs": [],
   "source": [
    "# x = one.cummax() + one.cummin() Solução para caso a curva de capital seja menor que 0\n",
    "x = one[400_000:].cummax() - one[400_000:].cummin()  # Caso a curva de capital seja maior que 0"
   ]
  },
  {
   "cell_type": "code",
   "execution_count": 63,
   "id": "08ae76a3-f3a3-49ef-aa72-0bbcca74aef7",
   "metadata": {},
   "outputs": [
    {
     "data": {
      "text/plain": [
       "400000       0.00\n",
       "400001       2.67\n",
       "400002       2.67\n",
       "400003       3.69\n",
       "400004       5.39\n",
       "           ...   \n",
       "881674    5158.91\n",
       "881675    5158.91\n",
       "881676    5158.91\n",
       "881677    5158.91\n",
       "881678    5158.91\n",
       "Name: 1_1, Length: 481679, dtype: float64"
      ]
     },
     "execution_count": 63,
     "metadata": {},
     "output_type": "execute_result"
    }
   ],
   "source": [
    "x"
   ]
  },
  {
   "cell_type": "code",
   "execution_count": 38,
   "id": "bbcc643a-4a7c-4d6b-856d-21211ad1dbd3",
   "metadata": {},
   "outputs": [
    {
     "data": {
      "text/plain": [
       "0         1000.00\n",
       "1          996.50\n",
       "2          996.16\n",
       "3          996.09\n",
       "4          996.09\n",
       "           ...   \n",
       "881674   -8073.22\n",
       "881675   -8073.22\n",
       "881676   -8073.22\n",
       "881677   -8073.22\n",
       "881678   -8073.22\n",
       "Name: 1_1, Length: 881679, dtype: float64"
      ]
     },
     "execution_count": 38,
     "metadata": {},
     "output_type": "execute_result"
    }
   ],
   "source": [
    "one.cummin()"
   ]
  },
  {
   "cell_type": "code",
   "execution_count": null,
   "id": "98c8d5ad-84cc-4275-ac52-7606bf755938",
   "metadata": {},
   "outputs": [],
   "source": [
    "eurusd = robot.get_normal_data()['EURUSD_Open']\n",
    "eur = robot.get_normal_data()['eur']"
   ]
  },
  {
   "cell_type": "code",
   "execution_count": null,
   "id": "90c910f6-134e-4217-aea4-a89648a850f8",
   "metadata": {},
   "outputs": [],
   "source": [
    "eurusd.diff()"
   ]
  },
  {
   "cell_type": "code",
   "execution_count": null,
   "id": "7ce7305b-8262-475f-a284-d9e66f0790d9",
   "metadata": {
    "tags": []
   },
   "outputs": [],
   "source": [
    "def count_all(series):\n",
    "    high = [0,0,0,0,0,0,0,0,0,0,0,0,0,0,0,0,0,0,0,0]\n",
    "    low = [0,0,0,0,0,0,0,0,0,0,0,0,0,0,0,0,0,0,0,0]\n",
    "    geral = []\n",
    "    count = 0\n",
    "\n",
    "    for i, v in enumerate(series):\n",
    "\n",
    "        if v < 0:\n",
    "            if count < 0: count = 0\n",
    "            high[count] += 1\n",
    "            count += 1\n",
    "        elif v > 0:\n",
    "            if count > 0: count = 0\n",
    "            low[abs(count)] += 1\n",
    "            count -= 1\n",
    "        else:\n",
    "            count == 0\n",
    "\n",
    "        geral.append(count)\n",
    "        \n",
    "    return geral, high, low"
   ]
  },
  {
   "cell_type": "code",
   "execution_count": null,
   "id": "9deaad04-2d3b-4fa4-ab7e-4cdcd5610bea",
   "metadata": {},
   "outputs": [],
   "source": [
    "g_eurusd, h_eurusd, l_eurusd = count_all(eurusd.diff())\n",
    "g_eur, h_eur, l_eur = count_all(eur)"
   ]
  },
  {
   "cell_type": "code",
   "execution_count": null,
   "id": "662fd6a0-44e2-4696-bb2d-5b9e36ad8c27",
   "metadata": {},
   "outputs": [],
   "source": [
    "plt.plot(g_eurusd[:500])\n",
    "plt.plot(g_eur[:500])\n",
    "plt.show()"
   ]
  },
  {
   "cell_type": "code",
   "execution_count": null,
   "id": "13580c85-785a-4ced-a387-7933d2a28dda",
   "metadata": {},
   "outputs": [],
   "source": [
    "np.corrcoef(np.array(g_eurusd), np.array(g_eur))"
   ]
  }
 ],
 "metadata": {
  "kernelspec": {
   "display_name": "Python 3",
   "language": "python",
   "name": "python3"
  },
  "language_info": {
   "codemirror_mode": {
    "name": "ipython",
    "version": 3
   },
   "file_extension": ".py",
   "mimetype": "text/x-python",
   "name": "python",
   "nbconvert_exporter": "python",
   "pygments_lexer": "ipython3",
   "version": "3.9.1"
  }
 },
 "nbformat": 4,
 "nbformat_minor": 5
}
