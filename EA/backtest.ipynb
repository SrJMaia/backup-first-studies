{
 "cells": [
  {
   "cell_type": "code",
   "execution_count": 1,
   "id": "devoted-navigation",
   "metadata": {},
   "outputs": [],
   "source": [
    "from arquivos import central\n",
    "import matplotlib.pyplot as plt\n",
    "from numba import njit\n",
    "import numpy as np\n",
    "import pandas as pd"
   ]
  },
  {
   "cell_type": "code",
   "execution_count": 2,
   "id": "economic-former",
   "metadata": {},
   "outputs": [],
   "source": [
    "robot = central.Central()"
   ]
  },
  {
   "cell_type": "code",
   "execution_count": 3,
   "id": "09eb6557-25c8-4754-bbc9-8b29884c3f33",
   "metadata": {},
   "outputs": [
    {
     "name": "stdout",
     "output_type": "stream",
     "text": [
      "Dados Carregados com Sucesso.\n"
     ]
    }
   ],
   "source": [
    "robot.get_normal_data_csv('C:\\\\Users\\\\johnk\\\\Google Drive\\\\My_Project\\\\Dados\\\\Data_D1_3k_icmarkets.csv', drop=True, drop_list=['Unnamed: 0'])"
   ]
  },
  {
   "cell_type": "code",
   "execution_count": 4,
   "id": "abe223e1-c29b-4697-b4ec-fc645bbeabee",
   "metadata": {},
   "outputs": [
    {
     "name": "stdout",
     "output_type": "stream",
     "text": [
      "Period data set D1\n",
      "Wall time: 3.95 s\n"
     ]
    }
   ],
   "source": [
    "%%time\n",
    "robot.pct_data()\n",
    "robot.balance_signal4()\n",
    "df = robot.back_tpsl(10, 2, analyse=True)"
   ]
  },
  {
   "cell_type": "code",
   "execution_count": 5,
   "id": "01149989-485b-42b9-b554-3913799b1ff1",
   "metadata": {},
   "outputs": [
    {
     "data": {
      "text/html": [
       "<div>\n",
       "<style scoped>\n",
       "    .dataframe tbody tr th:only-of-type {\n",
       "        vertical-align: middle;\n",
       "    }\n",
       "\n",
       "    .dataframe tbody tr th {\n",
       "        vertical-align: top;\n",
       "    }\n",
       "\n",
       "    .dataframe thead th {\n",
       "        text-align: right;\n",
       "    }\n",
       "</style>\n",
       "<table border=\"1\" class=\"dataframe\">\n",
       "  <thead>\n",
       "    <tr style=\"text-align: right;\">\n",
       "      <th>Analises</th>\n",
       "      <th>Largest_Win_€</th>\n",
       "      <th>Smallest_Win_€</th>\n",
       "      <th>Largest_Loss_€</th>\n",
       "      <th>Smallest_Loss_€</th>\n",
       "      <th>Annualized_Return_%</th>\n",
       "      <th>Average_Trades_Per_Year</th>\n",
       "      <th>Average_Win_Rate_%</th>\n",
       "    </tr>\n",
       "  </thead>\n",
       "  <tbody>\n",
       "    <tr>\n",
       "      <th>Total_Trades</th>\n",
       "      <td>2.92</td>\n",
       "      <td>0.02</td>\n",
       "      <td>-0.07</td>\n",
       "      <td>-1.61</td>\n",
       "      <td>19.970773</td>\n",
       "      <td>161.841096</td>\n",
       "      <td>31.639355</td>\n",
       "    </tr>\n",
       "    <tr>\n",
       "      <th>Short_Trades</th>\n",
       "      <td>2.85</td>\n",
       "      <td>0.02</td>\n",
       "      <td>-0.07</td>\n",
       "      <td>-1.61</td>\n",
       "      <td>103.217770</td>\n",
       "      <td>78.846575</td>\n",
       "      <td>30.796762</td>\n",
       "    </tr>\n",
       "    <tr>\n",
       "      <th>Long_Trades</th>\n",
       "      <td>2.92</td>\n",
       "      <td>0.02</td>\n",
       "      <td>-0.07</td>\n",
       "      <td>-1.60</td>\n",
       "      <td>109.877225</td>\n",
       "      <td>82.991781</td>\n",
       "      <td>32.440908</td>\n",
       "    </tr>\n",
       "    <tr>\n",
       "      <th>EURCHF</th>\n",
       "      <td>0.95</td>\n",
       "      <td>0.73</td>\n",
       "      <td>-0.47</td>\n",
       "      <td>-0.58</td>\n",
       "      <td>81.234341</td>\n",
       "      <td>4.476712</td>\n",
       "      <td>47.001224</td>\n",
       "    </tr>\n",
       "    <tr>\n",
       "      <th>EURGBP</th>\n",
       "      <td>1.37</td>\n",
       "      <td>1.00</td>\n",
       "      <td>-0.60</td>\n",
       "      <td>-0.79</td>\n",
       "      <td>85.959509</td>\n",
       "      <td>4.824658</td>\n",
       "      <td>46.223737</td>\n",
       "    </tr>\n",
       "    <tr>\n",
       "      <th>EURJPY</th>\n",
       "      <td>NaN</td>\n",
       "      <td>NaN</td>\n",
       "      <td>-0.07</td>\n",
       "      <td>-0.07</td>\n",
       "      <td>-82.702581</td>\n",
       "      <td>8.216438</td>\n",
       "      <td>0.000000</td>\n",
       "    </tr>\n",
       "    <tr>\n",
       "      <th>EURNZD</th>\n",
       "      <td>0.64</td>\n",
       "      <td>0.46</td>\n",
       "      <td>-0.33</td>\n",
       "      <td>-0.43</td>\n",
       "      <td>79.145023</td>\n",
       "      <td>5.087671</td>\n",
       "      <td>49.596123</td>\n",
       "    </tr>\n",
       "    <tr>\n",
       "      <th>EURUSD</th>\n",
       "      <td>0.89</td>\n",
       "      <td>0.62</td>\n",
       "      <td>-0.41</td>\n",
       "      <td>-0.55</td>\n",
       "      <td>82.647809</td>\n",
       "      <td>4.983562</td>\n",
       "      <td>47.883452</td>\n",
       "    </tr>\n",
       "    <tr>\n",
       "      <th>EURAUD</th>\n",
       "      <td>0.79</td>\n",
       "      <td>0.46</td>\n",
       "      <td>-0.34</td>\n",
       "      <td>-0.50</td>\n",
       "      <td>89.056547</td>\n",
       "      <td>4.972603</td>\n",
       "      <td>60.330579</td>\n",
       "    </tr>\n",
       "    <tr>\n",
       "      <th>EURCAD</th>\n",
       "      <td>0.75</td>\n",
       "      <td>0.55</td>\n",
       "      <td>-0.38</td>\n",
       "      <td>-0.48</td>\n",
       "      <td>78.078727</td>\n",
       "      <td>5.021918</td>\n",
       "      <td>46.917621</td>\n",
       "    </tr>\n",
       "    <tr>\n",
       "      <th>GBPAUD</th>\n",
       "      <td>0.32</td>\n",
       "      <td>0.06</td>\n",
       "      <td>-0.13</td>\n",
       "      <td>-0.27</td>\n",
       "      <td>46.062538</td>\n",
       "      <td>5.189041</td>\n",
       "      <td>53.590285</td>\n",
       "    </tr>\n",
       "    <tr>\n",
       "      <th>GBPCHF</th>\n",
       "      <td>0.67</td>\n",
       "      <td>0.28</td>\n",
       "      <td>-0.24</td>\n",
       "      <td>-0.44</td>\n",
       "      <td>72.774398</td>\n",
       "      <td>5.098630</td>\n",
       "      <td>48.414831</td>\n",
       "    </tr>\n",
       "    <tr>\n",
       "      <th>GBPJPY</th>\n",
       "      <td>NaN</td>\n",
       "      <td>NaN</td>\n",
       "      <td>-0.07</td>\n",
       "      <td>-0.07</td>\n",
       "      <td>-82.702581</td>\n",
       "      <td>8.216438</td>\n",
       "      <td>0.000000</td>\n",
       "    </tr>\n",
       "    <tr>\n",
       "      <th>GBPCAD</th>\n",
       "      <td>0.27</td>\n",
       "      <td>0.08</td>\n",
       "      <td>-0.14</td>\n",
       "      <td>-0.24</td>\n",
       "      <td>-68.502213</td>\n",
       "      <td>5.254795</td>\n",
       "      <td>46.611053</td>\n",
       "    </tr>\n",
       "    <tr>\n",
       "      <th>GBPUSD</th>\n",
       "      <td>0.62</td>\n",
       "      <td>0.18</td>\n",
       "      <td>-0.19</td>\n",
       "      <td>-0.42</td>\n",
       "      <td>68.136700</td>\n",
       "      <td>5.117808</td>\n",
       "      <td>48.019272</td>\n",
       "    </tr>\n",
       "    <tr>\n",
       "      <th>GBPNZD</th>\n",
       "      <td>0.17</td>\n",
       "      <td>0.02</td>\n",
       "      <td>-0.12</td>\n",
       "      <td>-0.19</td>\n",
       "      <td>-72.823749</td>\n",
       "      <td>5.263014</td>\n",
       "      <td>46.330036</td>\n",
       "    </tr>\n",
       "    <tr>\n",
       "      <th>USDCHF</th>\n",
       "      <td>1.37</td>\n",
       "      <td>0.74</td>\n",
       "      <td>-0.48</td>\n",
       "      <td>-0.75</td>\n",
       "      <td>87.344334</td>\n",
       "      <td>4.835616</td>\n",
       "      <td>51.048159</td>\n",
       "    </tr>\n",
       "    <tr>\n",
       "      <th>USDJPY</th>\n",
       "      <td>NaN</td>\n",
       "      <td>NaN</td>\n",
       "      <td>-0.07</td>\n",
       "      <td>-0.07</td>\n",
       "      <td>-82.692511</td>\n",
       "      <td>8.208219</td>\n",
       "      <td>0.000000</td>\n",
       "    </tr>\n",
       "    <tr>\n",
       "      <th>AUDUSD</th>\n",
       "      <td>2.73</td>\n",
       "      <td>0.54</td>\n",
       "      <td>-0.38</td>\n",
       "      <td>-1.49</td>\n",
       "      <td>88.116762</td>\n",
       "      <td>4.843836</td>\n",
       "      <td>46.266968</td>\n",
       "    </tr>\n",
       "    <tr>\n",
       "      <th>NZDUSD</th>\n",
       "      <td>2.77</td>\n",
       "      <td>0.88</td>\n",
       "      <td>-0.54</td>\n",
       "      <td>-1.55</td>\n",
       "      <td>92.265003</td>\n",
       "      <td>4.923288</td>\n",
       "      <td>47.579299</td>\n",
       "    </tr>\n",
       "    <tr>\n",
       "      <th>USDCAD</th>\n",
       "      <td>0.77</td>\n",
       "      <td>0.23</td>\n",
       "      <td>-0.22</td>\n",
       "      <td>-0.49</td>\n",
       "      <td>69.875719</td>\n",
       "      <td>4.945205</td>\n",
       "      <td>46.814404</td>\n",
       "    </tr>\n",
       "    <tr>\n",
       "      <th>AUDJPY</th>\n",
       "      <td>NaN</td>\n",
       "      <td>NaN</td>\n",
       "      <td>-0.07</td>\n",
       "      <td>-0.07</td>\n",
       "      <td>-82.702581</td>\n",
       "      <td>8.216438</td>\n",
       "      <td>0.000000</td>\n",
       "    </tr>\n",
       "    <tr>\n",
       "      <th>CADJPY</th>\n",
       "      <td>NaN</td>\n",
       "      <td>NaN</td>\n",
       "      <td>-0.07</td>\n",
       "      <td>-0.07</td>\n",
       "      <td>-82.702581</td>\n",
       "      <td>8.216438</td>\n",
       "      <td>0.000000</td>\n",
       "    </tr>\n",
       "    <tr>\n",
       "      <th>CHFJPY</th>\n",
       "      <td>NaN</td>\n",
       "      <td>NaN</td>\n",
       "      <td>-0.07</td>\n",
       "      <td>-0.07</td>\n",
       "      <td>-82.702581</td>\n",
       "      <td>8.216438</td>\n",
       "      <td>0.000000</td>\n",
       "    </tr>\n",
       "    <tr>\n",
       "      <th>NZDJPY</th>\n",
       "      <td>NaN</td>\n",
       "      <td>NaN</td>\n",
       "      <td>-0.07</td>\n",
       "      <td>-0.07</td>\n",
       "      <td>-82.699226</td>\n",
       "      <td>8.213699</td>\n",
       "      <td>0.000000</td>\n",
       "    </tr>\n",
       "    <tr>\n",
       "      <th>AUDCHF</th>\n",
       "      <td>2.81</td>\n",
       "      <td>0.71</td>\n",
       "      <td>-0.46</td>\n",
       "      <td>-1.58</td>\n",
       "      <td>93.494931</td>\n",
       "      <td>4.956164</td>\n",
       "      <td>52.238806</td>\n",
       "    </tr>\n",
       "    <tr>\n",
       "      <th>CADCHF</th>\n",
       "      <td>2.02</td>\n",
       "      <td>0.79</td>\n",
       "      <td>-0.50</td>\n",
       "      <td>-1.12</td>\n",
       "      <td>94.267522</td>\n",
       "      <td>4.821918</td>\n",
       "      <td>53.522727</td>\n",
       "    </tr>\n",
       "    <tr>\n",
       "      <th>NZDCHF</th>\n",
       "      <td>2.92</td>\n",
       "      <td>1.19</td>\n",
       "      <td>-0.70</td>\n",
       "      <td>-1.61</td>\n",
       "      <td>96.071949</td>\n",
       "      <td>4.906849</td>\n",
       "      <td>51.032942</td>\n",
       "    </tr>\n",
       "    <tr>\n",
       "      <th>AUDNZD</th>\n",
       "      <td>0.63</td>\n",
       "      <td>0.26</td>\n",
       "      <td>-0.23</td>\n",
       "      <td>-0.42</td>\n",
       "      <td>70.724294</td>\n",
       "      <td>4.989041</td>\n",
       "      <td>46.787479</td>\n",
       "    </tr>\n",
       "    <tr>\n",
       "      <th>NZDCAD</th>\n",
       "      <td>1.23</td>\n",
       "      <td>0.63</td>\n",
       "      <td>-0.42</td>\n",
       "      <td>-0.73</td>\n",
       "      <td>84.041385</td>\n",
       "      <td>4.928767</td>\n",
       "      <td>47.859922</td>\n",
       "    </tr>\n",
       "    <tr>\n",
       "      <th>AUDCAD</th>\n",
       "      <td>0.84</td>\n",
       "      <td>0.53</td>\n",
       "      <td>-0.37</td>\n",
       "      <td>-0.55</td>\n",
       "      <td>78.455481</td>\n",
       "      <td>4.893151</td>\n",
       "      <td>46.528555</td>\n",
       "    </tr>\n",
       "  </tbody>\n",
       "</table>\n",
       "</div>"
      ],
      "text/plain": [
       "Analises      Largest_Win_€  Smallest_Win_€  Largest_Loss_€  Smallest_Loss_€  \\\n",
       "Total_Trades           2.92            0.02           -0.07            -1.61   \n",
       "Short_Trades           2.85            0.02           -0.07            -1.61   \n",
       "Long_Trades            2.92            0.02           -0.07            -1.60   \n",
       "EURCHF                 0.95            0.73           -0.47            -0.58   \n",
       "EURGBP                 1.37            1.00           -0.60            -0.79   \n",
       "EURJPY                  NaN             NaN           -0.07            -0.07   \n",
       "EURNZD                 0.64            0.46           -0.33            -0.43   \n",
       "EURUSD                 0.89            0.62           -0.41            -0.55   \n",
       "EURAUD                 0.79            0.46           -0.34            -0.50   \n",
       "EURCAD                 0.75            0.55           -0.38            -0.48   \n",
       "GBPAUD                 0.32            0.06           -0.13            -0.27   \n",
       "GBPCHF                 0.67            0.28           -0.24            -0.44   \n",
       "GBPJPY                  NaN             NaN           -0.07            -0.07   \n",
       "GBPCAD                 0.27            0.08           -0.14            -0.24   \n",
       "GBPUSD                 0.62            0.18           -0.19            -0.42   \n",
       "GBPNZD                 0.17            0.02           -0.12            -0.19   \n",
       "USDCHF                 1.37            0.74           -0.48            -0.75   \n",
       "USDJPY                  NaN             NaN           -0.07            -0.07   \n",
       "AUDUSD                 2.73            0.54           -0.38            -1.49   \n",
       "NZDUSD                 2.77            0.88           -0.54            -1.55   \n",
       "USDCAD                 0.77            0.23           -0.22            -0.49   \n",
       "AUDJPY                  NaN             NaN           -0.07            -0.07   \n",
       "CADJPY                  NaN             NaN           -0.07            -0.07   \n",
       "CHFJPY                  NaN             NaN           -0.07            -0.07   \n",
       "NZDJPY                  NaN             NaN           -0.07            -0.07   \n",
       "AUDCHF                 2.81            0.71           -0.46            -1.58   \n",
       "CADCHF                 2.02            0.79           -0.50            -1.12   \n",
       "NZDCHF                 2.92            1.19           -0.70            -1.61   \n",
       "AUDNZD                 0.63            0.26           -0.23            -0.42   \n",
       "NZDCAD                 1.23            0.63           -0.42            -0.73   \n",
       "AUDCAD                 0.84            0.53           -0.37            -0.55   \n",
       "\n",
       "Analises      Annualized_Return_%  Average_Trades_Per_Year  Average_Win_Rate_%  \n",
       "Total_Trades            19.970773               161.841096           31.639355  \n",
       "Short_Trades           103.217770                78.846575           30.796762  \n",
       "Long_Trades            109.877225                82.991781           32.440908  \n",
       "EURCHF                  81.234341                 4.476712           47.001224  \n",
       "EURGBP                  85.959509                 4.824658           46.223737  \n",
       "EURJPY                 -82.702581                 8.216438            0.000000  \n",
       "EURNZD                  79.145023                 5.087671           49.596123  \n",
       "EURUSD                  82.647809                 4.983562           47.883452  \n",
       "EURAUD                  89.056547                 4.972603           60.330579  \n",
       "EURCAD                  78.078727                 5.021918           46.917621  \n",
       "GBPAUD                  46.062538                 5.189041           53.590285  \n",
       "GBPCHF                  72.774398                 5.098630           48.414831  \n",
       "GBPJPY                 -82.702581                 8.216438            0.000000  \n",
       "GBPCAD                 -68.502213                 5.254795           46.611053  \n",
       "GBPUSD                  68.136700                 5.117808           48.019272  \n",
       "GBPNZD                 -72.823749                 5.263014           46.330036  \n",
       "USDCHF                  87.344334                 4.835616           51.048159  \n",
       "USDJPY                 -82.692511                 8.208219            0.000000  \n",
       "AUDUSD                  88.116762                 4.843836           46.266968  \n",
       "NZDUSD                  92.265003                 4.923288           47.579299  \n",
       "USDCAD                  69.875719                 4.945205           46.814404  \n",
       "AUDJPY                 -82.702581                 8.216438            0.000000  \n",
       "CADJPY                 -82.702581                 8.216438            0.000000  \n",
       "CHFJPY                 -82.702581                 8.216438            0.000000  \n",
       "NZDJPY                 -82.699226                 8.213699            0.000000  \n",
       "AUDCHF                  93.494931                 4.956164           52.238806  \n",
       "CADCHF                  94.267522                 4.821918           53.522727  \n",
       "NZDCHF                  96.071949                 4.906849           51.032942  \n",
       "AUDNZD                  70.724294                 4.989041           46.787479  \n",
       "NZDCAD                  84.041385                 4.928767           47.859922  \n",
       "AUDCAD                  78.455481                 4.893151           46.528555  "
      ]
     },
     "execution_count": 5,
     "metadata": {},
     "output_type": "execute_result"
    }
   ],
   "source": [
    "df"
   ]
  },
  {
   "cell_type": "code",
   "execution_count": 18,
   "id": "944620a1-6f80-46e4-b35d-7bf26ec07afb",
   "metadata": {},
   "outputs": [
    {
     "data": {
      "text/plain": [
       "161.83835616438353"
      ]
     },
     "execution_count": 18,
     "metadata": {},
     "output_type": "execute_result"
    }
   ],
   "source": [
    "df['Average_Trades_Per_Year'][3:].sum()"
   ]
  },
  {
   "cell_type": "code",
   "execution_count": 36,
   "id": "1f244048-f7fd-409f-aafb-71a6cdd2c20d",
   "metadata": {},
   "outputs": [
    {
     "data": {
      "text/plain": [
       "0.5"
      ]
     },
     "execution_count": 36,
     "metadata": {},
     "output_type": "execute_result"
    }
   ],
   "source": [
    "a"
   ]
  },
  {
   "cell_type": "code",
   "execution_count": null,
   "id": "22e9baa7-e6c7-419b-b305-0fcaad8d1bef",
   "metadata": {},
   "outputs": [],
   "source": [
    "for i in df:\n",
    "    test['Max_Profit'] = df[i].max()\n",
    "    test['Min_Profit'] = df[i].min()"
   ]
  },
  {
   "cell_type": "code",
   "execution_count": null,
   "id": "4bba665e-5d5f-4c34-9f12-730a5b1f197a",
   "metadata": {},
   "outputs": [],
   "source": [
    "test = pd.DataFrame()\n",
    "#test['Analises'] = ['Max_Profit', 'Min_Profit']\n",
    "#test = test.set_index('Analises')\n",
    "test['Analises'] = np.nan\n",
    "test[df.columns] = np.nan\n",
    "test.set_index('Analises', inplace=True)\n",
    "test = test.T\n",
    "test['Max_Profit'] = 10\n",
    "test"
   ]
  },
  {
   "cell_type": "code",
   "execution_count": 37,
   "id": "7a5b4dc8-089f-47af-9d6c-96cd302db9ac",
   "metadata": {},
   "outputs": [
    {
     "data": {
      "text/plain": [
       "0.12166666666666666"
      ]
     },
     "execution_count": 37,
     "metadata": {},
     "output_type": "execute_result"
    }
   ],
   "source": [
    "1 / (len(robot.get_normal_data()) / 365)"
   ]
  },
  {
   "cell_type": "code",
   "execution_count": 23,
   "id": "3c190eaa-667e-48f1-9c76-057879093e1b",
   "metadata": {},
   "outputs": [
    {
     "data": {
      "text/plain": [
       "446.61699999988673"
      ]
     },
     "execution_count": 23,
     "metadata": {},
     "output_type": "execute_result"
    }
   ],
   "source": [
    "df['Total_Trades'].iloc[-1] / df['Total_Trades'].iloc[0] * 100"
   ]
  },
  {
   "cell_type": "code",
   "execution_count": 29,
   "id": "3bbf5360-d43c-4d78-87ed-99133a4a3809",
   "metadata": {},
   "outputs": [],
   "source": [
    "pow_ = 1 / (len(robot.get_normal_data()) / 365)"
   ]
  },
  {
   "cell_type": "code",
   "execution_count": 30,
   "id": "3f1c09c4-90c2-4f29-a177-59db26b27daa",
   "metadata": {},
   "outputs": [
    {
     "data": {
      "text/plain": [
       "19.970772528569626"
      ]
     },
     "execution_count": 30,
     "metadata": {},
     "output_type": "execute_result"
    }
   ],
   "source": [
    "(((df['Total_Trades'].iloc[-1] / df['Total_Trades'].iloc[0]) ** pow_) - 1) * 100"
   ]
  },
  {
   "cell_type": "code",
   "execution_count": 32,
   "id": "782e951a-3ee0-49fb-8fb5-54aa398843ad",
   "metadata": {},
   "outputs": [
    {
     "data": {
      "text/plain": [
       "4.458476985640426"
      ]
     },
     "execution_count": 32,
     "metadata": {},
     "output_type": "execute_result"
    }
   ],
   "source": [
    "(1 + 0.1997) ** 8.21"
   ]
  },
  {
   "cell_type": "code",
   "execution_count": null,
   "id": "becf7398-eb3f-45fd-b710-74dab1c2f4df",
   "metadata": {},
   "outputs": [],
   "source": []
  },
  {
   "cell_type": "code",
   "execution_count": null,
   "id": "cf7853e0-c5e1-4556-a3c2-34201be3ee68",
   "metadata": {},
   "outputs": [],
   "source": []
  }
 ],
 "metadata": {
  "kernelspec": {
   "display_name": "Python 3",
   "language": "python",
   "name": "python3"
  },
  "language_info": {
   "codemirror_mode": {
    "name": "ipython",
    "version": 3
   },
   "file_extension": ".py",
   "mimetype": "text/x-python",
   "name": "python",
   "nbconvert_exporter": "python",
   "pygments_lexer": "ipython3",
   "version": "3.9.1"
  }
 },
 "nbformat": 4,
 "nbformat_minor": 5
}
