{
 "cells": [
  {
   "cell_type": "code",
   "execution_count": 1,
   "id": "related-kenya",
   "metadata": {},
   "outputs": [],
   "source": [
    "import MetaTrader5 as mt5\n",
    "import pandas as pd\n",
    "from time import sleep\n",
    "import financial as fn\n",
    "import data as dt\n",
    "from mt5 import login_mt5\n",
    "from time import sleep"
   ]
  },
  {
   "cell_type": "code",
   "execution_count": 2,
   "id": "selective-clearance",
   "metadata": {},
   "outputs": [],
   "source": [
    "HONEMAGICNUMBER = 1010\n",
    "events = fn.MY_EVENTS"
   ]
  },
  {
   "cell_type": "code",
   "execution_count": null,
   "id": "valuable-access",
   "metadata": {
    "collapsed": true,
    "jupyter": {
     "outputs_hidden": true
    }
   },
   "outputs": [
    {
     "name": "stdout",
     "output_type": "stream",
     "text": [
      "Dados obtidos com sucesso.\n",
      "Não há dados novos.\n",
      "Buy | Symbol: GBPCAD | Price: 1.73182 | Volume: 0.04\n",
      "Buy | Symbol: GBPUSD | Price: 1.37203 | Volume: 0.04\n",
      "Sell | Symbol: USDCHF | Price: 0.94314 | Volume: 0.04\n",
      "Sell | Symbol: USDJPY | Price: 110.297 | Volume: 0.04\n",
      "Buy | Symbol: AUDUSD | Price: 0.76096 | Volume: 0.04\n",
      "Sell | Symbol: CADJPY | Price: 87.377 | Volume: 0.04\n",
      "Sell | Symbol: CADCHF | Price: 0.74709 | Volume: 0.04\n",
      "Buy | Symbol: AUDCAD | Price: 0.96062 | Volume: 0.04\n",
      "Dados obtidos com sucesso.\n",
      "Não há dados novos.\n",
      "Buy | Symbol: GBPCAD | Price: 1.73184 | Volume: 0.04\n",
      "Buy | Symbol: GBPUSD | Price: 1.37182 | Volume: 0.04\n",
      "Sell | Symbol: USDCHF | Price: 0.94318 | Volume: 0.04\n",
      "Sell | Symbol: USDJPY | Price: 110.302 | Volume: 0.04\n",
      "Buy | Symbol: AUDUSD | Price: 0.76091 | Volume: 0.04\n",
      "Sell | Symbol: CADJPY | Price: 87.368 | Volume: 0.04\n",
      "Sell | Symbol: CADCHF | Price: 0.74701 | Volume: 0.04\n",
      "Buy | Symbol: AUDCAD | Price: 0.96063 | Volume: 0.04\n"
     ]
    }
   ],
   "source": [
    "login_mt5(login=41442678,password='0cxebqvs',server='MetaQuotes-Demo')\n",
    "\n",
    "df = dt.get_data(0, 63000, mt5.TIMEFRAME_H1)\n",
    "data = dt.pct_data(df, period=16)\n",
    "new_df = pd.DataFrame()\n",
    "\n",
    "while True:\n",
    "    \n",
    "    # Talvez dar um while true\n",
    "    while True:\n",
    "        try:\n",
    "            new_df = dt.get_data(0, 1, mt5.TIMEFRAME_H1)\n",
    "        except:\n",
    "            print('Erro ao obter dados.')   \n",
    "        else:\n",
    "            print('Dados obtidos com sucesso.')\n",
    "            break\n",
    "    \n",
    "    if (new_df.iloc[-1] == df.iloc[-1]).sum() == 0:\n",
    "        df = pd.concat([df,new_df]).reset_index(drop=True)\n",
    "        data = dt.pct_data(df, period=16)\n",
    "    else:\n",
    "        print('Não há dados novos.')\n",
    "\n",
    "    for i in events.values():\n",
    "        \n",
    "        if data[i['first_currency']].iloc[-1] < data[i['first_currency']].quantile(0.45) and data[i['second_currency']].iloc[-1] > data[i['second_currency']].quantile(0.55) and i['buy']:\n",
    "            if not i['sell']:\n",
    "                fn.close_trade('buy', i['sell_request'])\n",
    "                i['buy_request'] = fn.open_trade(action='buy',tksl = 50, symbol=i['symbol'], ea_magic_number=HONEMAGICNUMBER)\n",
    "                i['buy'] = False\n",
    "                i['sell'] = True\n",
    "            else:\n",
    "                i['buy_request'] = fn.open_trade(action='buy',tksl = 50, symbol=i['symbol'], ea_magic_number=HONEMAGICNUMBER)\n",
    "                i['buy'] = False\n",
    "        elif data[i['first_currency']].iloc[-1] > data[i['first_currency']].quantile(0.55) and data[i['second_currency']].iloc[-1] < data[i['second_currency']].quantile(0.45) and i['sell']:\n",
    "            if not i['buy']:\n",
    "                fn.close_trade('sell', i['buy_request'])\n",
    "                fn.open_trade(action='sell', tksl = 50, symbol=i['symbol'], ea_magic_number=HONEMAGICNUMBER)\n",
    "                i['sell'] = False\n",
    "                i['buy'] = True\n",
    "            else:\n",
    "                fn.open_trade(action='sell', tksl = 50, symbol=i['symbol'], ea_magic_number=HONEMAGICNUMBER)\n",
    "                i['sell'] = False\n",
    "            \n",
    "    sleep(3600)\n",
    "    \n",
    "mt5.shutdown()"
   ]
  },
  {
   "cell_type": "code",
   "execution_count": null,
   "id": "outstanding-calgary",
   "metadata": {},
   "outputs": [],
   "source": []
  }
 ],
 "metadata": {
  "kernelspec": {
   "display_name": "Python 3",
   "language": "python",
   "name": "python3"
  },
  "language_info": {
   "codemirror_mode": {
    "name": "ipython",
    "version": 3
   },
   "file_extension": ".py",
   "mimetype": "text/x-python",
   "name": "python",
   "nbconvert_exporter": "python",
   "pygments_lexer": "ipython3",
   "version": "3.9.1"
  }
 },
 "nbformat": 4,
 "nbformat_minor": 5
}
