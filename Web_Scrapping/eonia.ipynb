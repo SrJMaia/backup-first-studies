{
 "cells": [
  {
   "cell_type": "code",
   "execution_count": 149,
   "id": "ec2125dd-39d8-4a82-8662-4c711e99209c",
   "metadata": {},
   "outputs": [],
   "source": [
    "from bs4 import BeautifulSoup\n",
    "import requests\n",
    "import pandas as pd\n",
    "import os"
   ]
  },
  {
   "cell_type": "code",
   "execution_count": 2,
   "id": "c35bc6c2-514d-492b-904c-330590d877bb",
   "metadata": {},
   "outputs": [],
   "source": [
    "url = 'https://www.emmi-benchmarks.eu/euribor-eonia-org/eonia-rates.html'"
   ]
  },
  {
   "cell_type": "code",
   "execution_count": 15,
   "id": "52fb98a1-db44-409f-be29-5b92ffc658c1",
   "metadata": {},
   "outputs": [
    {
     "name": "stdout",
     "output_type": "stream",
     "text": [
      "Done\n"
     ]
    }
   ],
   "source": [
    "html = requests.get(url)\n",
    "if html.status_code == 200:\n",
    "    print('Done')\n",
    "else:\n",
    "    print(f'Erro: {html.status_code}')"
   ]
  },
  {
   "cell_type": "code",
   "execution_count": 16,
   "id": "2eb2a5b8-85c7-44c2-9f92-0f61e0e6fccc",
   "metadata": {},
   "outputs": [],
   "source": [
    "html_text = html.text"
   ]
  },
  {
   "cell_type": "code",
   "execution_count": 34,
   "id": "8e9eb8aa-2e7e-482f-9774-e02b533645f7",
   "metadata": {},
   "outputs": [],
   "source": [
    "soup = BeautifulSoup(html_text, 'lxml')"
   ]
  },
  {
   "cell_type": "code",
   "execution_count": 64,
   "id": "530fa649-7b72-478e-bccc-f1de2c4298cf",
   "metadata": {},
   "outputs": [],
   "source": [
    "links = []\n",
    "all_div = soup.find_all('a', href=True)"
   ]
  },
  {
   "cell_type": "code",
   "execution_count": 100,
   "id": "ec588ec8-fc29-437a-89cc-a72878a108be",
   "metadata": {
    "tags": []
   },
   "outputs": [],
   "source": [
    "all_div[0].get('href')\n",
    "lista = []\n",
    "for i in range(len(all_div)):\n",
    "    if all_div[i].get('href').split('.')[-1] == 'csv':\n",
    "        lista.append(all_div[i].get('href'))\n",
    "        #with open(f\"{str(all_div[i].get('href').split('/'))}\", 'wb') as f:\n",
    "        #    f.write(r.content)"
   ]
  },
  {
   "cell_type": "code",
   "execution_count": 152,
   "id": "b83f59fa-3cf4-442c-80e4-a2ecddf082d1",
   "metadata": {},
   "outputs": [],
   "source": [
    "for i in range(2010,2021,1):\n",
    "    for index, content in enumerate(lista):\n",
    "        if lista[index].split('/')[-1] == f'hist_EONIA_{i}.csv':\n",
    "            r = requests.get(content, allow_redirects=True)\n",
    "            open(f'{str(i)}.csv', 'wb').write(r.content)\n",
    "            break"
   ]
  },
  {
   "cell_type": "code",
   "execution_count": 153,
   "id": "8f7e2f7e-9f1f-4092-ba28-2c0928a8a4b6",
   "metadata": {},
   "outputs": [],
   "source": [
    "tot = pd.DataFrame()\n",
    "for i in range(2010,2021,1):\n",
    "    tot = pd.concat([tot, pd.read_csv(f'{str(i)}.csv').drop(columns=['Unnamed: 0']).T[0]])\n",
    "    os.remove(f'{str(i)}.csv')\n",
    "tot.rename(columns={0:'Dados'})\n",
    "tot.to_csv('EONIA.csv',sep=',',index=False)"
   ]
  },
  {
   "cell_type": "code",
   "execution_count": 154,
   "id": "1b333be5-150e-4871-90e0-6d391789d1ac",
   "metadata": {},
   "outputs": [
    {
     "data": {
      "text/html": [
       "<div>\n",
       "<style scoped>\n",
       "    .dataframe tbody tr th:only-of-type {\n",
       "        vertical-align: middle;\n",
       "    }\n",
       "\n",
       "    .dataframe tbody tr th {\n",
       "        vertical-align: top;\n",
       "    }\n",
       "\n",
       "    .dataframe thead th {\n",
       "        text-align: right;\n",
       "    }\n",
       "</style>\n",
       "<table border=\"1\" class=\"dataframe\">\n",
       "  <thead>\n",
       "    <tr style=\"text-align: right;\">\n",
       "      <th></th>\n",
       "      <th>0</th>\n",
       "    </tr>\n",
       "  </thead>\n",
       "  <tbody>\n",
       "    <tr>\n",
       "      <th>04/01/2010</th>\n",
       "      <td>0.341</td>\n",
       "    </tr>\n",
       "    <tr>\n",
       "      <th>05/01/2010</th>\n",
       "      <td>0.325</td>\n",
       "    </tr>\n",
       "    <tr>\n",
       "      <th>06/01/2010</th>\n",
       "      <td>0.322</td>\n",
       "    </tr>\n",
       "    <tr>\n",
       "      <th>07/01/2010</th>\n",
       "      <td>0.351</td>\n",
       "    </tr>\n",
       "    <tr>\n",
       "      <th>08/01/2010</th>\n",
       "      <td>0.347</td>\n",
       "    </tr>\n",
       "    <tr>\n",
       "      <th>...</th>\n",
       "      <td>...</td>\n",
       "    </tr>\n",
       "    <tr>\n",
       "      <th>24/12/2020</th>\n",
       "      <td>-0.47</td>\n",
       "    </tr>\n",
       "    <tr>\n",
       "      <th>28/12/2020</th>\n",
       "      <td>-0.468</td>\n",
       "    </tr>\n",
       "    <tr>\n",
       "      <th>29/12/2020</th>\n",
       "      <td>-0.472</td>\n",
       "    </tr>\n",
       "    <tr>\n",
       "      <th>30/12/2020</th>\n",
       "      <td>-0.47</td>\n",
       "    </tr>\n",
       "    <tr>\n",
       "      <th>31/12/2020</th>\n",
       "      <td>-0.498</td>\n",
       "    </tr>\n",
       "  </tbody>\n",
       "</table>\n",
       "<p>2813 rows × 1 columns</p>\n",
       "</div>"
      ],
      "text/plain": [
       "                0\n",
       "04/01/2010  0.341\n",
       "05/01/2010  0.325\n",
       "06/01/2010  0.322\n",
       "07/01/2010  0.351\n",
       "08/01/2010  0.347\n",
       "...           ...\n",
       "24/12/2020  -0.47\n",
       "28/12/2020 -0.468\n",
       "29/12/2020 -0.472\n",
       "30/12/2020  -0.47\n",
       "31/12/2020 -0.498\n",
       "\n",
       "[2813 rows x 1 columns]"
      ]
     },
     "execution_count": 154,
     "metadata": {},
     "output_type": "execute_result"
    }
   ],
   "source": [
    "tot"
   ]
  },
  {
   "cell_type": "code",
   "execution_count": null,
   "id": "a2b5cc70-8e3c-42f6-adad-5880dba9314c",
   "metadata": {},
   "outputs": [],
   "source": []
  }
 ],
 "metadata": {
  "kernelspec": {
   "display_name": "Python 3",
   "language": "python",
   "name": "python3"
  },
  "language_info": {
   "codemirror_mode": {
    "name": "ipython",
    "version": 3
   },
   "file_extension": ".py",
   "mimetype": "text/x-python",
   "name": "python",
   "nbconvert_exporter": "python",
   "pygments_lexer": "ipython3",
   "version": "3.9.1"
  }
 },
 "nbformat": 4,
 "nbformat_minor": 5
}
