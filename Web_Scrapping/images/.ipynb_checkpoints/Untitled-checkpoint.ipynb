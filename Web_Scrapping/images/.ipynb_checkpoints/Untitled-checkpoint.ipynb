{
 "cells": [
  {
   "cell_type": "code",
   "execution_count": 4,
   "id": "38f3f9af-f2b0-4787-be2a-6768585d9d8a",
   "metadata": {},
   "outputs": [],
   "source": [
    "def fibo(x):\n",
    "    prev, pos = 0, 1\n",
    "    for i in range(x, 0, -1):\n",
    "        pos += prev\n",
    "        prev = pos-prev\n",
    "    print(pos)"
   ]
  },
  {
   "cell_type": "code",
   "execution_count": null,
   "id": "47abc60e-98c2-42ab-9f84-ba9deca10a87",
   "metadata": {},
   "outputs": [],
   "source": [
    "%%time\n",
    "fibo(10000000)"
   ]
  },
  {
   "cell_type": "code",
   "execution_count": null,
   "id": "53da5114-667b-4d33-8af5-bcf21f6bf15b",
   "metadata": {},
   "outputs": [],
   "source": []
  }
 ],
 "metadata": {
  "kernelspec": {
   "display_name": "Python 3",
   "language": "python",
   "name": "python3"
  },
  "language_info": {
   "codemirror_mode": {
    "name": "ipython",
    "version": 3
   },
   "file_extension": ".py",
   "mimetype": "text/x-python",
   "name": "python",
   "nbconvert_exporter": "python",
   "pygments_lexer": "ipython3",
   "version": "3.9.1"
  }
 },
 "nbformat": 4,
 "nbformat_minor": 5
}
