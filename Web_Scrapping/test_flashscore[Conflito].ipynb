{
 "cells": [
  {
   "cell_type": "code",
   "execution_count": 1,
   "id": "6617b62d-ffb6-43dd-a9c1-bc28001955f1",
   "metadata": {},
   "outputs": [],
   "source": [
    "from urllib.request import urlopen, urlretrieve, Request\n",
    "import urllib\n",
    "import requests\n",
    "\n",
    "from bs4 import BeautifulSoup\n",
    "from selenium import webdriver\n",
    "from time import sleep\n",
    "from selenium import webdriver\n",
    "from selenium.webdriver.chrome.options import Options"
   ]
  },
  {
   "cell_type": "code",
   "execution_count": 2,
   "id": "7584cb7f-94df-4d0a-95eb-d66add8e3c83",
   "metadata": {},
   "outputs": [],
   "source": [
    "url = \"https://www.betfair.com/sport/football/conmebol-copa-libertadores/cerro-porteno-x-fluminense/30609246\""
   ]
  },
  {
   "cell_type": "code",
   "execution_count": 11,
   "id": "cca7032a-cba8-4329-b573-ce294de7fbf4",
   "metadata": {},
   "outputs": [],
   "source": [
    "html = requests.get(url)\n",
    "html.encoding = \"UTF-8\"\n",
    "soup = BeautifulSoup(html.content)\n",
    "result = soup.find_all(\"div\")#, class_=\"event__match event__match--static event__match--last event__match--twoLine\")"
   ]
  },
  {
   "cell_type": "code",
   "execution_count": 203,
   "id": "273ca158-7ce8-46fd-8246-0eb3a3a8d3a3",
   "metadata": {},
   "outputs": [],
   "source": []
  },
  {
   "cell_type": "code",
   "execution_count": 11,
   "id": "f0c8187d-7f06-400c-82a4-7e4f3f934598",
   "metadata": {},
   "outputs": [],
   "source": [
    "option = Options()\n",
    "\n",
    "option.add_argument(\"--disable-infobars\")\n",
    "option.add_argument(\"start-maximized\")\n",
    "option.add_argument(\"--disable-extensions\")\n",
    "\n",
    "# Pass the argument 1 to allow and 2 to block\n",
    "option.add_experimental_option(\"prefs\", { \n",
    "    \"profile.default_content_setting_values.notifications\": 1 \n",
    "})\n",
    "\n",
    "navegador = webdriver.Chrome(executable_path='C:\\\\Users\\\\johnk\\\\AppData\\\\Local\\\\Programs\\\\Python\\\\Python39\\\\chromedriver.exe')\n",
    "        \n",
    "navegador.get(url)\n",
    "\n",
    "navegador.maximize_window()\n",
    "\n",
    "sleep(3)\n",
    "navegador.find_element_by_xpath('//*[@id=\"onetrust-accept-btn-handler\"]').click()\n",
    "navegador.find_element_by_xpath('/html/body/div[2]/div/div/div[2]/div/div/div/div/div/div[3]/div/div/div[2]/div/div[1]/div/div[2]/ul/li[1]/a').click()\n",
    "\n",
    "# soup = BeautifulSoup(navegador.page_source)\n",
    "\n",
    "# navegador.quit()\n",
    "# soup.find_all(\"div\")\n"
   ]
  },
  {
   "cell_type": "code",
   "execution_count": null,
   "id": "a0fc98c7-c609-4d06-ae85-ff38b4569782",
   "metadata": {},
   "outputs": [],
   "source": []
  },
  {
   "cell_type": "code",
   "execution_count": null,
   "id": "6fd5fe24-1e99-4d40-8ecd-5a3b8a76c82a",
   "metadata": {},
   "outputs": [],
   "source": []
  },
  {
   "cell_type": "code",
   "execution_count": null,
   "id": "823bc438-2080-447b-8269-e40c30f3cdbc",
   "metadata": {},
   "outputs": [],
   "source": []
  },
  {
   "cell_type": "code",
   "execution_count": null,
   "id": "4407a594-93dc-4521-b2d5-d0b7ec50ae49",
   "metadata": {},
   "outputs": [],
   "source": []
  },
  {
   "cell_type": "code",
   "execution_count": null,
   "id": "1fa06b5a-1e54-420a-8dc7-2a975b2be6ea",
   "metadata": {},
   "outputs": [],
   "source": []
  },
  {
   "cell_type": "code",
   "execution_count": null,
   "id": "7b0d6efe-23fe-41b1-ad1e-047a61f8642b",
   "metadata": {},
   "outputs": [],
   "source": []
  }
 ],
 "metadata": {
  "kernelspec": {
   "name": "python3",
   "display_name": "Python 3.9.1 64-bit"
  },
  "language_info": {
   "codemirror_mode": {
    "name": "ipython",
    "version": 3
   },
   "file_extension": ".py",
   "mimetype": "text/x-python",
   "name": "python",
   "nbconvert_exporter": "python",
   "pygments_lexer": "ipython3",
   "version": "3.9.1"
  },
  "interpreter": {
   "hash": "717e49debfd3e98499afc70ca9e48c144acb3b0c51aaa3f87fd28baf74ea155e"
  }
 },
 "nbformat": 4,
 "nbformat_minor": 5
}