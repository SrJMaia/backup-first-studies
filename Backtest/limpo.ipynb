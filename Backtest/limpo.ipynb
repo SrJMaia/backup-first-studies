{
 "cells": [
  {
   "cell_type": "code",
   "execution_count": 1,
   "id": "devoted-navigation",
   "metadata": {},
   "outputs": [],
   "source": [
    "from central import Central\n",
    "import matplotlib.pyplot as plt\n",
    "from numba import njit\n",
    "import numpy as np\n",
    "import pandas as pd"
   ]
  },
  {
   "cell_type": "code",
   "execution_count": 2,
   "id": "economic-former",
   "metadata": {},
   "outputs": [],
   "source": [
    "robot = Central()"
   ]
  },
  {
   "cell_type": "code",
   "execution_count": 3,
   "id": "09eb6557-25c8-4754-bbc9-8b29884c3f33",
   "metadata": {},
   "outputs": [
    {
     "name": "stdout",
     "output_type": "stream",
     "text": [
      "Dados Carregados com Sucesso.\n"
     ]
    }
   ],
   "source": [
    "robot.get_normal_data_csv('C:\\\\Users\\\\johnk\\\\Google Drive\\\\My_Project\\\\Dados\\\\Data_D1_3k_icmarkets.csv', drop=True, drop_list=['Unnamed: 0'])"
   ]
  },
  {
   "cell_type": "code",
   "execution_count": 4,
   "id": "abe223e1-c29b-4697-b4ec-fc645bbeabee",
   "metadata": {},
   "outputs": [
    {
     "data": {
      "text/html": [
       "<div>\n",
       "<style scoped>\n",
       "    .dataframe tbody tr th:only-of-type {\n",
       "        vertical-align: middle;\n",
       "    }\n",
       "\n",
       "    .dataframe tbody tr th {\n",
       "        vertical-align: top;\n",
       "    }\n",
       "\n",
       "    .dataframe thead th {\n",
       "        text-align: right;\n",
       "    }\n",
       "</style>\n",
       "<table border=\"1\" class=\"dataframe\">\n",
       "  <thead>\n",
       "    <tr style=\"text-align: right;\">\n",
       "      <th></th>\n",
       "      <th>EURCHF_Open</th>\n",
       "      <th>EURCHF_Close</th>\n",
       "      <th>EURCHF_High</th>\n",
       "      <th>EURCHF_Low</th>\n",
       "      <th>EURGBP_Open</th>\n",
       "      <th>EURGBP_Close</th>\n",
       "      <th>EURGBP_High</th>\n",
       "      <th>EURGBP_Low</th>\n",
       "      <th>EURJPY_Open</th>\n",
       "      <th>EURJPY_Close</th>\n",
       "      <th>...</th>\n",
       "      <th>AUDNZD_High</th>\n",
       "      <th>AUDNZD_Low</th>\n",
       "      <th>NZDCAD_Open</th>\n",
       "      <th>NZDCAD_Close</th>\n",
       "      <th>NZDCAD_High</th>\n",
       "      <th>NZDCAD_Low</th>\n",
       "      <th>AUDCAD_Open</th>\n",
       "      <th>AUDCAD_Close</th>\n",
       "      <th>AUDCAD_High</th>\n",
       "      <th>AUDCAD_Low</th>\n",
       "    </tr>\n",
       "  </thead>\n",
       "  <tbody>\n",
       "    <tr>\n",
       "      <th>0</th>\n",
       "      <td>1.14620</td>\n",
       "      <td>1.14167</td>\n",
       "      <td>1.15173</td>\n",
       "      <td>1.13983</td>\n",
       "      <td>0.88087</td>\n",
       "      <td>0.87562</td>\n",
       "      <td>0.88222</td>\n",
       "      <td>0.87368</td>\n",
       "      <td>111.043</td>\n",
       "      <td>111.360</td>\n",
       "      <td>...</td>\n",
       "      <td>1.26220</td>\n",
       "      <td>1.24938</td>\n",
       "      <td>0.81814</td>\n",
       "      <td>0.81822</td>\n",
       "      <td>0.82062</td>\n",
       "      <td>0.81419</td>\n",
       "      <td>1.03273</td>\n",
       "      <td>1.03303</td>\n",
       "      <td>1.03405</td>\n",
       "      <td>1.02792</td>\n",
       "    </tr>\n",
       "    <tr>\n",
       "      <th>1</th>\n",
       "      <td>1.14168</td>\n",
       "      <td>1.16869</td>\n",
       "      <td>1.17343</td>\n",
       "      <td>1.13951</td>\n",
       "      <td>0.87563</td>\n",
       "      <td>0.87221</td>\n",
       "      <td>0.88072</td>\n",
       "      <td>0.86994</td>\n",
       "      <td>111.359</td>\n",
       "      <td>111.096</td>\n",
       "      <td>...</td>\n",
       "      <td>1.26104</td>\n",
       "      <td>1.25190</td>\n",
       "      <td>0.81822</td>\n",
       "      <td>0.82315</td>\n",
       "      <td>0.82831</td>\n",
       "      <td>0.81798</td>\n",
       "      <td>1.03302</td>\n",
       "      <td>1.03676</td>\n",
       "      <td>1.04284</td>\n",
       "      <td>1.03279</td>\n",
       "    </tr>\n",
       "    <tr>\n",
       "      <th>2</th>\n",
       "      <td>1.16986</td>\n",
       "      <td>1.17044</td>\n",
       "      <td>1.17108</td>\n",
       "      <td>1.16874</td>\n",
       "      <td>0.87220</td>\n",
       "      <td>0.86750</td>\n",
       "      <td>0.87428</td>\n",
       "      <td>0.86618</td>\n",
       "      <td>111.140</td>\n",
       "      <td>111.150</td>\n",
       "      <td>...</td>\n",
       "      <td>1.26627</td>\n",
       "      <td>1.25226</td>\n",
       "      <td>0.82444</td>\n",
       "      <td>0.82450</td>\n",
       "      <td>0.82584</td>\n",
       "      <td>0.82346</td>\n",
       "      <td>1.03768</td>\n",
       "      <td>1.03799</td>\n",
       "      <td>1.03880</td>\n",
       "      <td>1.03745</td>\n",
       "    </tr>\n",
       "    <tr>\n",
       "      <th>3</th>\n",
       "      <td>1.17046</td>\n",
       "      <td>1.18584</td>\n",
       "      <td>1.19403</td>\n",
       "      <td>1.16999</td>\n",
       "      <td>0.86749</td>\n",
       "      <td>0.87369</td>\n",
       "      <td>0.87440</td>\n",
       "      <td>0.86533</td>\n",
       "      <td>111.154</td>\n",
       "      <td>111.685</td>\n",
       "      <td>...</td>\n",
       "      <td>1.27250</td>\n",
       "      <td>1.25705</td>\n",
       "      <td>0.82450</td>\n",
       "      <td>0.82797</td>\n",
       "      <td>0.82827</td>\n",
       "      <td>0.82265</td>\n",
       "      <td>1.03800</td>\n",
       "      <td>1.04187</td>\n",
       "      <td>1.04254</td>\n",
       "      <td>1.03535</td>\n",
       "    </tr>\n",
       "    <tr>\n",
       "      <th>4</th>\n",
       "      <td>1.18636</td>\n",
       "      <td>1.18441</td>\n",
       "      <td>1.18961</td>\n",
       "      <td>1.17522</td>\n",
       "      <td>0.87208</td>\n",
       "      <td>0.87200</td>\n",
       "      <td>0.87255</td>\n",
       "      <td>0.87146</td>\n",
       "      <td>111.668</td>\n",
       "      <td>110.772</td>\n",
       "      <td>...</td>\n",
       "      <td>1.26923</td>\n",
       "      <td>1.26621</td>\n",
       "      <td>0.82806</td>\n",
       "      <td>0.83368</td>\n",
       "      <td>0.83702</td>\n",
       "      <td>0.82781</td>\n",
       "      <td>1.04192</td>\n",
       "      <td>1.04472</td>\n",
       "      <td>1.04796</td>\n",
       "      <td>1.03983</td>\n",
       "    </tr>\n",
       "    <tr>\n",
       "      <th>...</th>\n",
       "      <td>...</td>\n",
       "      <td>...</td>\n",
       "      <td>...</td>\n",
       "      <td>...</td>\n",
       "      <td>...</td>\n",
       "      <td>...</td>\n",
       "      <td>...</td>\n",
       "      <td>...</td>\n",
       "      <td>...</td>\n",
       "      <td>...</td>\n",
       "      <td>...</td>\n",
       "      <td>...</td>\n",
       "      <td>...</td>\n",
       "      <td>...</td>\n",
       "      <td>...</td>\n",
       "      <td>...</td>\n",
       "      <td>...</td>\n",
       "      <td>...</td>\n",
       "      <td>...</td>\n",
       "      <td>...</td>\n",
       "      <td>...</td>\n",
       "    </tr>\n",
       "    <tr>\n",
       "      <th>2995</th>\n",
       "      <td>1.10884</td>\n",
       "      <td>1.10550</td>\n",
       "      <td>1.10940</td>\n",
       "      <td>1.10485</td>\n",
       "      <td>0.85036</td>\n",
       "      <td>0.84888</td>\n",
       "      <td>0.85106</td>\n",
       "      <td>0.84713</td>\n",
       "      <td>130.079</td>\n",
       "      <td>130.085</td>\n",
       "      <td>...</td>\n",
       "      <td>1.08433</td>\n",
       "      <td>1.08159</td>\n",
       "      <td>0.88353</td>\n",
       "      <td>0.88284</td>\n",
       "      <td>0.88557</td>\n",
       "      <td>0.88194</td>\n",
       "      <td>0.95633</td>\n",
       "      <td>0.95748</td>\n",
       "      <td>0.95946</td>\n",
       "      <td>0.95609</td>\n",
       "    </tr>\n",
       "    <tr>\n",
       "      <th>2996</th>\n",
       "      <td>1.10563</td>\n",
       "      <td>1.10527</td>\n",
       "      <td>1.10871</td>\n",
       "      <td>1.10433</td>\n",
       "      <td>0.84904</td>\n",
       "      <td>0.85861</td>\n",
       "      <td>0.85905</td>\n",
       "      <td>0.84851</td>\n",
       "      <td>130.094</td>\n",
       "      <td>130.286</td>\n",
       "      <td>...</td>\n",
       "      <td>1.08743</td>\n",
       "      <td>1.08231</td>\n",
       "      <td>0.88326</td>\n",
       "      <td>0.88713</td>\n",
       "      <td>0.88726</td>\n",
       "      <td>0.87991</td>\n",
       "      <td>0.95762</td>\n",
       "      <td>0.96288</td>\n",
       "      <td>0.96399</td>\n",
       "      <td>0.95490</td>\n",
       "    </tr>\n",
       "    <tr>\n",
       "      <th>2997</th>\n",
       "      <td>1.10538</td>\n",
       "      <td>1.10256</td>\n",
       "      <td>1.10561</td>\n",
       "      <td>1.10222</td>\n",
       "      <td>0.85863</td>\n",
       "      <td>0.86363</td>\n",
       "      <td>0.86630</td>\n",
       "      <td>0.85813</td>\n",
       "      <td>130.300</td>\n",
       "      <td>130.334</td>\n",
       "      <td>...</td>\n",
       "      <td>1.08649</td>\n",
       "      <td>1.08287</td>\n",
       "      <td>0.88717</td>\n",
       "      <td>0.88344</td>\n",
       "      <td>0.88857</td>\n",
       "      <td>0.88242</td>\n",
       "      <td>0.96292</td>\n",
       "      <td>0.95928</td>\n",
       "      <td>0.96491</td>\n",
       "      <td>0.95802</td>\n",
       "    </tr>\n",
       "    <tr>\n",
       "      <th>2998</th>\n",
       "      <td>1.10302</td>\n",
       "      <td>1.10098</td>\n",
       "      <td>1.10405</td>\n",
       "      <td>1.10040</td>\n",
       "      <td>0.86376</td>\n",
       "      <td>0.86754</td>\n",
       "      <td>0.86817</td>\n",
       "      <td>0.86209</td>\n",
       "      <td>130.341</td>\n",
       "      <td>130.161</td>\n",
       "      <td>...</td>\n",
       "      <td>1.08641</td>\n",
       "      <td>1.08254</td>\n",
       "      <td>0.88348</td>\n",
       "      <td>0.88646</td>\n",
       "      <td>0.88872</td>\n",
       "      <td>0.88342</td>\n",
       "      <td>0.95938</td>\n",
       "      <td>0.96114</td>\n",
       "      <td>0.96293</td>\n",
       "      <td>0.95934</td>\n",
       "    </tr>\n",
       "    <tr>\n",
       "      <th>2999</th>\n",
       "      <td>1.10101</td>\n",
       "      <td>1.09985</td>\n",
       "      <td>1.10184</td>\n",
       "      <td>1.09917</td>\n",
       "      <td>0.86760</td>\n",
       "      <td>0.86789</td>\n",
       "      <td>0.86968</td>\n",
       "      <td>0.86458</td>\n",
       "      <td>130.160</td>\n",
       "      <td>130.466</td>\n",
       "      <td>...</td>\n",
       "      <td>1.08471</td>\n",
       "      <td>1.08174</td>\n",
       "      <td>0.88648</td>\n",
       "      <td>0.88043</td>\n",
       "      <td>0.88720</td>\n",
       "      <td>0.88026</td>\n",
       "      <td>0.96116</td>\n",
       "      <td>0.95406</td>\n",
       "      <td>0.96203</td>\n",
       "      <td>0.95381</td>\n",
       "    </tr>\n",
       "  </tbody>\n",
       "</table>\n",
       "<p>3000 rows × 112 columns</p>\n",
       "</div>"
      ],
      "text/plain": [
       "      EURCHF_Open  EURCHF_Close  EURCHF_High  EURCHF_Low  EURGBP_Open  \\\n",
       "0         1.14620       1.14167      1.15173     1.13983      0.88087   \n",
       "1         1.14168       1.16869      1.17343     1.13951      0.87563   \n",
       "2         1.16986       1.17044      1.17108     1.16874      0.87220   \n",
       "3         1.17046       1.18584      1.19403     1.16999      0.86749   \n",
       "4         1.18636       1.18441      1.18961     1.17522      0.87208   \n",
       "...           ...           ...          ...         ...          ...   \n",
       "2995      1.10884       1.10550      1.10940     1.10485      0.85036   \n",
       "2996      1.10563       1.10527      1.10871     1.10433      0.84904   \n",
       "2997      1.10538       1.10256      1.10561     1.10222      0.85863   \n",
       "2998      1.10302       1.10098      1.10405     1.10040      0.86376   \n",
       "2999      1.10101       1.09985      1.10184     1.09917      0.86760   \n",
       "\n",
       "      EURGBP_Close  EURGBP_High  EURGBP_Low  EURJPY_Open  EURJPY_Close  ...  \\\n",
       "0          0.87562      0.88222     0.87368      111.043       111.360  ...   \n",
       "1          0.87221      0.88072     0.86994      111.359       111.096  ...   \n",
       "2          0.86750      0.87428     0.86618      111.140       111.150  ...   \n",
       "3          0.87369      0.87440     0.86533      111.154       111.685  ...   \n",
       "4          0.87200      0.87255     0.87146      111.668       110.772  ...   \n",
       "...            ...          ...         ...          ...           ...  ...   \n",
       "2995       0.84888      0.85106     0.84713      130.079       130.085  ...   \n",
       "2996       0.85861      0.85905     0.84851      130.094       130.286  ...   \n",
       "2997       0.86363      0.86630     0.85813      130.300       130.334  ...   \n",
       "2998       0.86754      0.86817     0.86209      130.341       130.161  ...   \n",
       "2999       0.86789      0.86968     0.86458      130.160       130.466  ...   \n",
       "\n",
       "      AUDNZD_High  AUDNZD_Low  NZDCAD_Open  NZDCAD_Close  NZDCAD_High  \\\n",
       "0         1.26220     1.24938      0.81814       0.81822      0.82062   \n",
       "1         1.26104     1.25190      0.81822       0.82315      0.82831   \n",
       "2         1.26627     1.25226      0.82444       0.82450      0.82584   \n",
       "3         1.27250     1.25705      0.82450       0.82797      0.82827   \n",
       "4         1.26923     1.26621      0.82806       0.83368      0.83702   \n",
       "...           ...         ...          ...           ...          ...   \n",
       "2995      1.08433     1.08159      0.88353       0.88284      0.88557   \n",
       "2996      1.08743     1.08231      0.88326       0.88713      0.88726   \n",
       "2997      1.08649     1.08287      0.88717       0.88344      0.88857   \n",
       "2998      1.08641     1.08254      0.88348       0.88646      0.88872   \n",
       "2999      1.08471     1.08174      0.88648       0.88043      0.88720   \n",
       "\n",
       "      NZDCAD_Low  AUDCAD_Open  AUDCAD_Close  AUDCAD_High  AUDCAD_Low  \n",
       "0        0.81419      1.03273       1.03303      1.03405     1.02792  \n",
       "1        0.81798      1.03302       1.03676      1.04284     1.03279  \n",
       "2        0.82346      1.03768       1.03799      1.03880     1.03745  \n",
       "3        0.82265      1.03800       1.04187      1.04254     1.03535  \n",
       "4        0.82781      1.04192       1.04472      1.04796     1.03983  \n",
       "...          ...          ...           ...          ...         ...  \n",
       "2995     0.88194      0.95633       0.95748      0.95946     0.95609  \n",
       "2996     0.87991      0.95762       0.96288      0.96399     0.95490  \n",
       "2997     0.88242      0.96292       0.95928      0.96491     0.95802  \n",
       "2998     0.88342      0.95938       0.96114      0.96293     0.95934  \n",
       "2999     0.88026      0.96116       0.95406      0.96203     0.95381  \n",
       "\n",
       "[3000 rows x 112 columns]"
      ]
     },
     "execution_count": 4,
     "metadata": {},
     "output_type": "execute_result"
    }
   ],
   "source": [
    "robot.get_normal_data()"
   ]
  },
  {
   "cell_type": "code",
   "execution_count": 5,
   "id": "71e3a121-4d4c-43ec-9ca1-9d3ab309912a",
   "metadata": {},
   "outputs": [],
   "source": [
    "eur = robot.get_normal_data()['EURUSD_Open']"
   ]
  },
  {
   "cell_type": "code",
   "execution_count": 108,
   "id": "0b2e2c82-fcc0-4b57-9c54-85001d748442",
   "metadata": {},
   "outputs": [],
   "source": [
    "@njit\n",
    "def SMA(array, periodo):\n",
    "    sma = np.empty((array.size), dtype='float64')\n",
    "    for i in np.arange(array.size):\n",
    "        if i < periodo:\n",
    "            sma[i] = array[i]\n",
    "            continue\n",
    "        calc = 0\n",
    "        for j in np.arange(periodo):\n",
    "            calc += array[i-j]\n",
    "        sma[i] = calc / periodo\n",
    "\n",
    "    return sma"
   ]
  },
  {
   "cell_type": "code",
   "execution_count": null,
   "id": "8d0776a4-27ad-4367-9a33-3e87f8a250e7",
   "metadata": {},
   "outputs": [],
   "source": []
  },
  {
   "cell_type": "code",
   "execution_count": 111,
   "id": "877944a8-0c45-44df-b1fb-1aa27e9c9068",
   "metadata": {},
   "outputs": [
    {
     "name": "stdout",
     "output_type": "stream",
     "text": [
      "Wall time: 997 µs\n"
     ]
    }
   ],
   "source": [
    "%%time\n",
    "sma = np.around(SMA(eur.to_numpy(), 20),5)\n",
    "# 900ms\n",
    "# 1ms"
   ]
  },
  {
   "cell_type": "code",
   "execution_count": 121,
   "id": "9526ad6d-c13e-441e-843b-2d67375a9df7",
   "metadata": {},
   "outputs": [
    {
     "name": "stdout",
     "output_type": "stream",
     "text": [
      "Wall time: 2.99 ms\n"
     ]
    }
   ],
   "source": [
    "%%time\n",
    "pandas = eur.rolling(20).mean()"
   ]
  },
  {
   "cell_type": "code",
   "execution_count": 122,
   "id": "42833f38-c4aa-4dc5-8e46-f9439b4fa9e4",
   "metadata": {},
   "outputs": [
    {
     "data": {
      "image/png": "[encoded data removed]",
      "text/plain": [
       "<Figure size 2160x720 with 1 Axes>"
      ]
     },
     "metadata": {},
     "output_type": "display_data"
    }
   ],
   "source": [
    "plt.plot(pd.Series(sma).iloc[20:1000], label='SMA')\n",
    "plt.plot(eur.rolling(20).mean()[20:1000], label='PANDAS')\n",
    "plt.legend()\n",
    "plt.grid()\n",
    "plt.show()"
   ]
  },
  {
   "cell_type": "code",
   "execution_count": 119,
   "id": "85a18111-a5ee-40fc-9e89-77e152fa08e0",
   "metadata": {},
   "outputs": [
    {
     "data": {
      "text/plain": [
       "108"
      ]
     },
     "execution_count": 119,
     "metadata": {},
     "output_type": "execute_result"
    }
   ],
   "source": [
    "(np.around(sma, 5) == pandas).sum()"
   ]
  },
  {
   "cell_type": "code",
   "execution_count": 97,
   "id": "c1f28e8a-6e10-424b-a862-da13c5c4b070",
   "metadata": {},
   "outputs": [
    {
     "data": {
      "text/plain": [
       "0"
      ]
     },
     "execution_count": 97,
     "metadata": {},
     "output_type": "execute_result"
    }
   ],
   "source": [
    "(np.around(ema_no_coef, 5) == ema_pandas).sum()"
   ]
  },
  {
   "cell_type": "code",
   "execution_count": 98,
   "id": "82426b83-29f6-4a44-8b1c-b6a1763b5bbf",
   "metadata": {},
   "outputs": [
    {
     "data": {
      "text/plain": [
       "0"
      ]
     },
     "execution_count": 98,
     "metadata": {},
     "output_type": "execute_result"
    }
   ],
   "source": [
    "(np.around(ema_pmo, 5) == ema_pandas).sum()"
   ]
  },
  {
   "cell_type": "code",
   "execution_count": null,
   "id": "790584de-9dbc-4d3a-b94e-b601fd018b90",
   "metadata": {},
   "outputs": [],
   "source": []
  }
 ],
 "metadata": {
  "kernelspec": {
   "display_name": "Python 3",
   "language": "python",
   "name": "python3"
  },
  "language_info": {
   "codemirror_mode": {
    "name": "ipython",
    "version": 3
   },
   "file_extension": ".py",
   "mimetype": "text/x-python",
   "name": "python",
   "nbconvert_exporter": "python",
   "pygments_lexer": "ipython3",
   "version": "3.9.1"
  }
 },
 "nbformat": 4,
 "nbformat_minor": 5
}
