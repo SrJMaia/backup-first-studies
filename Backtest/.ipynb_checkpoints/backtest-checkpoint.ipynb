{
 "cells": [
  {
   "cell_type": "code",
   "execution_count": null,
   "id": "devoted-navigation",
   "metadata": {},
   "outputs": [],
   "source": [
    "from arquivos import central\n",
    "import matplotlib.pyplot as plt\n",
    "from numba import njit\n",
    "import numpy as np\n",
    "import pandas as pd"
   ]
  },
  {
   "cell_type": "code",
   "execution_count": null,
   "id": "economic-former",
   "metadata": {},
   "outputs": [],
   "source": [
    "robot = central.Central()"
   ]
  },
  {
   "cell_type": "code",
   "execution_count": null,
   "id": "09eb6557-25c8-4754-bbc9-8b29884c3f33",
   "metadata": {},
   "outputs": [],
   "source": [
    "robot.get_normal_data_csv('C:\\\\Users\\\\johnk\\\\Google Drive\\\\My_Project\\\\Dados\\\\Data_H1_66k_icmarkets.csv', drop=True, drop_list=['Unnamed: 0'])"
   ]
  },
  {
   "cell_type": "code",
   "execution_count": null,
   "id": "abe223e1-c29b-4697-b4ec-fc645bbeabee",
   "metadata": {},
   "outputs": [],
   "source": [
    "%%time\n",
    "results = pd.DataFrame()\n",
    "for i in [1, 2, 4, 7]:\n",
    "    for j in range(1, 5):  \n",
    "        robot.pct_data()\n",
    "        robot.balance_signal4(j)\n",
    "        robot.normal_data_to_array()\n",
    "        tot, sell, buy, all_f = robot.back_no_tpsl()\n",
    "        results[f'{i}_{j}'] = pd.Series(tot)"
   ]
  },
  {
   "cell_type": "code",
   "execution_count": null,
   "id": "bad46d70-1211-4297-9026-6da34e49e62e",
   "metadata": {},
   "outputs": [],
   "source": [
    "results"
   ]
  },
  {
   "cell_type": "code",
   "execution_count": null,
   "id": "48094cd5-2f83-41ba-91ad-88a69498b760",
   "metadata": {},
   "outputs": [],
   "source": [
    "results.plot()"
   ]
  },
  {
   "cell_type": "code",
   "execution_count": null,
   "id": "98c8d5ad-84cc-4275-ac52-7606bf755938",
   "metadata": {},
   "outputs": [],
   "source": [
    "eurusd = robot.get_normal_data()['EURUSD_Open']\n",
    "eur = robot.get_normal_data()['eur']"
   ]
  },
  {
   "cell_type": "code",
   "execution_count": null,
   "id": "90c910f6-134e-4217-aea4-a89648a850f8",
   "metadata": {},
   "outputs": [],
   "source": [
    "eurusd.diff()"
   ]
  },
  {
   "cell_type": "code",
   "execution_count": null,
   "id": "7ce7305b-8262-475f-a284-d9e66f0790d9",
   "metadata": {
    "tags": []
   },
   "outputs": [],
   "source": [
    "def count_all(series):\n",
    "    high = [0,0,0,0,0,0,0,0,0,0,0,0,0,0,0,0,0,0,0,0]\n",
    "    low = [0,0,0,0,0,0,0,0,0,0,0,0,0,0,0,0,0,0,0,0]\n",
    "    geral = []\n",
    "    count = 0\n",
    "\n",
    "    for i, v in enumerate(series):\n",
    "\n",
    "        if v < 0:\n",
    "            if count < 0: count = 0\n",
    "            high[count] += 1\n",
    "            count += 1\n",
    "        elif v > 0:\n",
    "            if count > 0: count = 0\n",
    "            low[abs(count)] += 1\n",
    "            count -= 1\n",
    "        else:\n",
    "            count == 0\n",
    "\n",
    "        geral.append(count)\n",
    "        \n",
    "    return geral, high, low"
   ]
  },
  {
   "cell_type": "code",
   "execution_count": null,
   "id": "9deaad04-2d3b-4fa4-ab7e-4cdcd5610bea",
   "metadata": {},
   "outputs": [],
   "source": [
    "g_eurusd, h_eurusd, l_eurusd = count_all(eurusd.diff())\n",
    "g_eur, h_eur, l_eur = count_all(eur)"
   ]
  },
  {
   "cell_type": "code",
   "execution_count": null,
   "id": "662fd6a0-44e2-4696-bb2d-5b9e36ad8c27",
   "metadata": {},
   "outputs": [],
   "source": [
    "plt.plot(g_eurusd[:500])\n",
    "plt.plot(g_eur[:500])\n",
    "plt.show()"
   ]
  },
  {
   "cell_type": "code",
   "execution_count": null,
   "id": "13580c85-785a-4ced-a387-7933d2a28dda",
   "metadata": {},
   "outputs": [],
   "source": [
    "np.corrcoef(np.array(g_eurusd), np.array(g_eur))"
   ]
  }
 ],
 "metadata": {
  "kernelspec": {
   "display_name": "Python 3",
   "language": "python",
   "name": "python3"
  },
  "language_info": {
   "codemirror_mode": {
    "name": "ipython",
    "version": 3
   },
   "file_extension": ".py",
   "mimetype": "text/x-python",
   "name": "python",
   "nbconvert_exporter": "python",
   "pygments_lexer": "ipython3",
   "version": "3.9.1"
  }
 },
 "nbformat": 4,
 "nbformat_minor": 5
}
