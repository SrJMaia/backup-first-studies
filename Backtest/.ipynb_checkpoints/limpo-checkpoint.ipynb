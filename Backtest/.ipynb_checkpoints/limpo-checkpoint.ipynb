{
 "cells": [
  {
   "cell_type": "code",
   "execution_count": 82,
   "id": "devoted-navigation",
   "metadata": {},
   "outputs": [],
   "source": [
    "from central import Central\n",
    "import matplotlib.pyplot as plt"
   ]
  },
  {
   "cell_type": "code",
   "execution_count": 64,
   "id": "economic-former",
   "metadata": {},
   "outputs": [],
   "source": [
    "robot = Central()"
   ]
  },
  {
   "cell_type": "code",
   "execution_count": 65,
   "id": "cb5a5cbd-a0b1-44f9-970c-24fab3ee8c6f",
   "metadata": {},
   "outputs": [
    {
     "name": "stdout",
     "output_type": "stream",
     "text": [
      "Dados Baixados com Sucesso.\n",
      "0\n",
      "EURCHF\n",
      "Dados Baixados com Sucesso.\n",
      "0\n",
      "EURGBP\n",
      "Dados Baixados com Sucesso.\n",
      "0\n",
      "EURJPY\n",
      "Dados Baixados com Sucesso.\n",
      "0\n",
      "EURNZD\n",
      "Dados Baixados com Sucesso.\n",
      "0\n",
      "EURUSD\n",
      "Dados Baixados com Sucesso.\n",
      "0\n",
      "EURAUD\n",
      "Dados Baixados com Sucesso.\n",
      "0\n",
      "EURCAD\n",
      "Dados Baixados com Sucesso.\n",
      "0\n",
      "GBPAUD\n",
      "Dados Baixados com Sucesso.\n",
      "0\n",
      "GBPCHF\n",
      "Dados Baixados com Sucesso.\n",
      "0\n",
      "GBPJPY\n",
      "Dados Baixados com Sucesso.\n",
      "0\n",
      "GBPCAD\n",
      "Dados Baixados com Sucesso.\n",
      "0\n",
      "GBPUSD\n",
      "Dados Baixados com Sucesso.\n",
      "0\n",
      "GBPNZD\n",
      "Dados Baixados com Sucesso.\n",
      "0\n",
      "USDCHF\n",
      "Dados Baixados com Sucesso.\n",
      "0\n",
      "USDJPY\n",
      "Dados Baixados com Sucesso.\n",
      "0\n",
      "AUDUSD\n",
      "Dados Baixados com Sucesso.\n",
      "0\n",
      "NZDUSD\n",
      "Dados Baixados com Sucesso.\n",
      "0\n",
      "USDCAD\n",
      "Dados Baixados com Sucesso.\n",
      "0\n",
      "AUDJPY\n",
      "Dados Baixados com Sucesso.\n",
      "0\n",
      "CADJPY\n",
      "Dados Baixados com Sucesso.\n",
      "0\n",
      "CHFJPY\n",
      "Dados Baixados com Sucesso.\n",
      "0\n",
      "NZDJPY\n",
      "Dados Baixados com Sucesso.\n",
      "0\n",
      "AUDCHF\n",
      "Dados Baixados com Sucesso.\n",
      "0\n",
      "CADCHF\n",
      "Dados Baixados com Sucesso.\n",
      "0\n",
      "NZDCHF\n",
      "Dados Baixados com Sucesso.\n",
      "0\n",
      "AUDNZD\n",
      "Dados Baixados com Sucesso.\n",
      "0\n",
      "NZDCAD\n",
      "Dados Baixados com Sucesso.\n",
      "0\n",
      "AUDCAD\n"
     ]
    }
   ],
   "source": [
    "for i in robot.ALL_PAIRS:\n",
    "    robot.get_data_mt5_count(start_pos=0, end_pos=3_900_000, time_frame='M1', all_four=True, symbol=i, one_pair=True)\n",
    "    print(robot.get_normal_data().isna().sum().sum())\n",
    "    print(i)\n",
    "    robot.get_normal_data().to_csv(f'C:\\\\Users\\\\johnk\\\\Google Drive\\\\My_Project\\\\Dados\\\\{i}.csv', sep=',')"
   ]
  },
  {
   "cell_type": "code",
   "execution_count": 66,
   "id": "4ab31c89-3da2-4d03-9d10-64873f3274cc",
   "metadata": {},
   "outputs": [
    {
     "data": {
      "text/plain": [
       "2"
      ]
     },
     "execution_count": 66,
     "metadata": {},
     "output_type": "execute_result"
    }
   ],
   "source": [
    "1+1"
   ]
  },
  {
   "cell_type": "code",
   "execution_count": 13,
   "id": "boolean-chess",
   "metadata": {},
   "outputs": [
    {
     "name": "stdout",
     "output_type": "stream",
     "text": [
      "Dados Baixados com Sucesso.\n"
     ]
    }
   ],
   "source": [
    "robot.get_data_mt5_count(start_pos=0, end_pos=3_900_000, time_frame='M1', all_four=True, symbol='NZDCHF', one_pair=True)"
   ]
  },
  {
   "cell_type": "code",
   "execution_count": 29,
   "id": "848ee774-0d73-47b4-89d6-108e8d77c732",
   "metadata": {},
   "outputs": [],
   "source": [
    "import scipy.stats as pb\n",
    "import numpy as np\n",
    "from numba import njit"
   ]
  },
  {
   "cell_type": "code",
   "execution_count": 117,
   "id": "fd78c0f2-39a3-453b-8a3c-9057f62aa181",
   "metadata": {},
   "outputs": [],
   "source": [
    "def teste(number):\n",
    "    capital = 1_000\n",
    "    contador = 0\n",
    "    acrescimo = 50\n",
    "    lista = []\n",
    "    for i in range(number):\n",
    "        result = np.random.choice([0,1], p=[0.7, 0.3])\n",
    "        #if contador < 3:\n",
    "        if result == 0:\n",
    "            capital -= 5\n",
    "            contador += 1\n",
    "        else:\n",
    "            capital += 15\n",
    "            contador = 0\n",
    "        #elif contador >= 3:\n",
    "        #    if result == 0:\n",
    "        #        capital -= 10\n",
    "        #        contador += 1\n",
    "        #    else:\n",
    "        #        capital += 30\n",
    "        #        contador = 0\n",
    "        lista.append(capital)\n",
    "    print(capital)\n",
    "    return lista"
   ]
  },
  {
   "cell_type": "code",
   "execution_count": 120,
   "id": "8cafbff3-2c8d-466a-a682-5487a9673bb6",
   "metadata": {},
   "outputs": [
    {
     "name": "stdout",
     "output_type": "stream",
     "text": [
      "104660\n"
     ]
    }
   ],
   "source": [
    "x = teste(100_000)"
   ]
  },
  {
   "cell_type": "code",
   "execution_count": null,
   "id": "0018f74b-c311-4fb7-8319-2992264c8ed5",
   "metadata": {},
   "outputs": [],
   "source": [
    "plt.plot(x)"
   ]
  },
  {
   "cell_type": "code",
   "execution_count": null,
   "id": "13e713d8-79f2-4f51-89c2-fcfac7cbb581",
   "metadata": {},
   "outputs": [],
   "source": [
    "for i in range(10):\n",
    "    a = teste(100_000)"
   ]
  },
  {
   "cell_type": "code",
   "execution_count": null,
   "id": "09eb6557-25c8-4754-bbc9-8b29884c3f33",
   "metadata": {},
   "outputs": [],
   "source": []
  }
 ],
 "metadata": {
  "kernelspec": {
   "display_name": "Python 3",
   "language": "python",
   "name": "python3"
  },
  "language_info": {
   "codemirror_mode": {
    "name": "ipython",
    "version": 3
   },
   "file_extension": ".py",
   "mimetype": "text/x-python",
   "name": "python",
   "nbconvert_exporter": "python",
   "pygments_lexer": "ipython3",
   "version": "3.9.1"
  }
 },
 "nbformat": 4,
 "nbformat_minor": 5
}
