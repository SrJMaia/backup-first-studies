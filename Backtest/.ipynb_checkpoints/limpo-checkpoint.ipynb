{
 "cells": [
  {
   "cell_type": "code",
   "execution_count": 19,
   "id": "devoted-navigation",
   "metadata": {},
   "outputs": [],
   "source": [
    "from arquivos import central\n",
    "import matplotlib.pyplot as plt\n",
    "from numba import njit\n",
    "import numpy as np\n",
    "import pandas as pd"
   ]
  },
  {
   "cell_type": "code",
   "execution_count": 21,
   "id": "economic-former",
   "metadata": {},
   "outputs": [],
   "source": [
    "robot = central.Central()"
   ]
  },
  {
   "cell_type": "code",
   "execution_count": null,
   "id": "09eb6557-25c8-4754-bbc9-8b29884c3f33",
   "metadata": {},
   "outputs": [],
   "source": [
    "robot.get_normal_data_csv('C:\\\\Users\\\\johnk\\\\Google Drive\\\\My_Project\\\\Dados\\\\Data_D1_3k_icmarkets.csv', drop=True, drop_list=['Unnamed: 0'])"
   ]
  },
  {
   "cell_type": "code",
   "execution_count": null,
   "id": "abe223e1-c29b-4697-b4ec-fc645bbeabee",
   "metadata": {},
   "outputs": [],
   "source": [
    "robot.get_normal_data()"
   ]
  },
  {
   "cell_type": "code",
   "execution_count": null,
   "id": "b0268285-ee6c-4f38-bbf4-70629d4c9135",
   "metadata": {},
   "outputs": [],
   "source": [
    "robot.pct_data()\n",
    "robot.pct_data_signals_std()\n",
    "robot.normal_data_to_array()"
   ]
  },
  {
   "cell_type": "code",
   "execution_count": null,
   "id": "790584de-9dbc-4d3a-b94e-b601fd018b90",
   "metadata": {
    "tags": []
   },
   "outputs": [],
   "source": [
    "robot.back_tpsl_ohl(list(range(5,50,5)), 2, multi_test=True, plot=True)"
   ]
  },
  {
   "cell_type": "code",
   "execution_count": null,
   "id": "98c8d5ad-84cc-4275-ac52-7606bf755938",
   "metadata": {},
   "outputs": [],
   "source": []
  },
  {
   "cell_type": "code",
   "execution_count": null,
   "id": "90c910f6-134e-4217-aea4-a89648a850f8",
   "metadata": {},
   "outputs": [],
   "source": []
  },
  {
   "cell_type": "code",
   "execution_count": null,
   "id": "7ce7305b-8262-475f-a284-d9e66f0790d9",
   "metadata": {},
   "outputs": [],
   "source": []
  }
 ],
 "metadata": {
  "kernelspec": {
   "display_name": "Python 3",
   "language": "python",
   "name": "python3"
  },
  "language_info": {
   "codemirror_mode": {
    "name": "ipython",
    "version": 3
   },
   "file_extension": ".py",
   "mimetype": "text/x-python",
   "name": "python",
   "nbconvert_exporter": "python",
   "pygments_lexer": "ipython3",
   "version": "3.9.1"
  }
 },
 "nbformat": 4,
 "nbformat_minor": 5
}
