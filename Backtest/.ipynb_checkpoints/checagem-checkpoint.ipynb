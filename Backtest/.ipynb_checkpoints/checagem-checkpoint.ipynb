{
 "cells": [
  {
   "cell_type": "code",
   "execution_count": 1,
   "id": "surprised-contents",
   "metadata": {},
   "outputs": [],
   "source": [
    "from data import Data\n",
    "from signals import Signals\n",
    "import backtest as bt\n",
    "import pandas as pd\n",
    "import numpy as np\n",
    "from numba import njit\n",
    "import matplotlib.pyplot as plt\n",
    "plt.rcParams[\"figure.figsize\"] = (30,10)"
   ]
  },
  {
   "cell_type": "code",
   "execution_count": 2,
   "id": "a9b4778f-620c-4f75-b4b8-af0288ff3a60",
   "metadata": {},
   "outputs": [],
   "source": [
    "class Central(Signals):\n",
    "    \n",
    "    def __init__(self, login=5528104, senha='YUWNehok', servidor='ActivTradesCorp-Server', balance=1000):\n",
    "        super().__init__(login, senha, servidor)\n",
    "        self.balance = balance\n",
    "        \n",
    "    \n",
    "    def back_tpsl(self, tpsl):\n",
    "        \"\"\"\n",
    "        Returns\n",
    "        list_backtest = Todos os trades\n",
    "        sell_orders\n",
    "        buy_orders\n",
    "        \"\"\"\n",
    "        tot, sell, buy, each_pair =  bt.otimizado_tpsl(self.get_numpy_normal_data(), tpsl)\n",
    "        tot = np.delete(tot, np.where(tot == 0.))\n",
    "        sell = np.delete(sell, np.where(sell == 0.))\n",
    "        buy = np.delete(buy, np.where(buy == 0.))\n",
    "        results_df = pd.DataFrame()\n",
    "        for index, value in enumerate(each_pair):\n",
    "            results_df[super().ALL_PAIRS[index]] = pd.Series(np.delete(value, np.where(value == 0.)))\n",
    "        return tot, sell, buy, results_df\n",
    "    \n",
    "    \n",
    "    def back_no_tpsl(self):\n",
    "        \"\"\"\n",
    "        Returns\n",
    "        list_backtest = Todos os trades\n",
    "        sell_orders\n",
    "        buy_orders\n",
    "        \"\"\"\n",
    "        tot, sell, buy = bt.otimizado_no_tpsl(self.get_numpy_normal_data())\n",
    "        tot = np.delete(tot, np.where(tot == 0.))\n",
    "        sell = np.delete(sell, np.where(sell == 0.))\n",
    "        buy = np.delete(buy, np.where(buy == 0.))\n",
    "        return tot, sell, buy\n",
    "    \n",
    "    \n",
    "    def back_tpsl_ohl(self, tpsl):\n",
    "        \"\"\"\n",
    "        Returns\n",
    "        list_backtest = Todos os trades\n",
    "        sell_orders\n",
    "        buy_orders\n",
    "        \"\"\"\n",
    "        tot, sell, buy = bt.otimizado_tpsl_ohl(self.get_numpy_normal_data(), tpsl)\n",
    "        tot = np.delete(tot, np.where(tot == 0.))\n",
    "        sell = np.delete(sell, np.where(sell == 0.))\n",
    "        buy = np.delete(buy, np.where(buy == 0.))\n",
    "        return tot, sell, buy"
   ]
  },
  {
   "cell_type": "code",
   "execution_count": 3,
   "id": "9a14021e-f56a-477e-a184-2bc5d703e954",
   "metadata": {},
   "outputs": [],
   "source": [
    "robot = Central()"
   ]
  },
  {
   "cell_type": "code",
   "execution_count": 5,
   "id": "9bfd18eb-53f8-4283-a958-5a3733359318",
   "metadata": {},
   "outputs": [
    {
     "name": "stdout",
     "output_type": "stream",
     "text": [
      "Dados Carregados com Sucesso.\n"
     ]
    }
   ],
   "source": [
    "robot.get_normal_data_csv('DataH163k.csv',drop=True,drop_list=['Unnamed: 0'])"
   ]
  },
  {
   "cell_type": "code",
   "execution_count": 6,
   "id": "36f42ad2-cc7c-4e6d-abab-e48238e86a26",
   "metadata": {},
   "outputs": [
    {
     "data": {
      "text/plain": [
       "0        1.20665\n",
       "1        1.20650\n",
       "2        1.20642\n",
       "3        1.20660\n",
       "4        1.20682\n",
       "          ...   \n",
       "62995    1.17623\n",
       "62996    1.17622\n",
       "62997    1.17624\n",
       "62998    1.17604\n",
       "62999    1.17627\n",
       "Name: EURUSD_Open, Length: 63000, dtype: float64"
      ]
     },
     "execution_count": 6,
     "metadata": {},
     "output_type": "execute_result"
    }
   ],
   "source": [
    "robot.get_normal_data()['EURUSD_Open']"
   ]
  },
  {
   "cell_type": "code",
   "execution_count": 7,
   "id": "041dd1ec-f8db-40d9-a727-3fab232dab57",
   "metadata": {},
   "outputs": [],
   "source": [
    "robot.pct_data()"
   ]
  },
  {
   "cell_type": "code",
   "execution_count": 8,
   "id": "dff88b73-bda0-491e-9610-17f7f01d9c49",
   "metadata": {},
   "outputs": [],
   "source": [
    "robot.pct_data_signals_std()"
   ]
  },
  {
   "cell_type": "code",
   "execution_count": 9,
   "id": "d47ee538-052d-40b7-ac98-c497c2601706",
   "metadata": {},
   "outputs": [
    {
     "data": {
      "text/plain": [
       "95481"
      ]
     },
     "execution_count": 9,
     "metadata": {},
     "output_type": "execute_result"
    }
   ],
   "source": [
    "robot.get_normal_data().iloc[:,-56:].sum().sum()"
   ]
  },
  {
   "cell_type": "code",
   "execution_count": 10,
   "id": "6b2390a1-6c85-4436-876c-6c69dea9b82d",
   "metadata": {},
   "outputs": [],
   "source": [
    "robot.normal_data_to_array()"
   ]
  },
  {
   "cell_type": "code",
   "execution_count": null,
   "id": "7184e5ac-0c09-4efe-b8e0-a451d97f3355",
   "metadata": {
    "tags": []
   },
   "outputs": [
    {
     "name": "stderr",
     "output_type": "stream",
     "text": [
      "c:\\users\\johnk\\appdata\\local\\programs\\python\\python39\\lib\\site-packages\\numba\\core\\dispatcher.py:241: UserWarning: Numba extension module 'numba_scipy' failed to load due to 'ValueError(No function '__pyx_fuse_0pdtr' found in __pyx_capi__ of 'scipy.special.cython_special')'.\n",
      "  entrypoints.init_all()\n"
     ]
    }
   ],
   "source": [
    "%%time\n",
    "tot, sell, buy, all_f = robot.back_tpsl(50)"
   ]
  },
  {
   "cell_type": "code",
   "execution_count": null,
   "id": "45eaddd7-b41f-41b2-b0e7-9466c0f3f855",
   "metadata": {
    "tags": []
   },
   "outputs": [],
   "source": [
    "robot.get_numpy_normal_data()[16]"
   ]
  },
  {
   "cell_type": "code",
   "execution_count": null,
   "id": "cbe28379-e756-412d-b0fc-e917a9091655",
   "metadata": {},
   "outputs": [],
   "source": [
    "plt.plot(tot)"
   ]
  },
  {
   "cell_type": "code",
   "execution_count": null,
   "id": "00d39eee-6f27-48c7-b4f8-5800329425a5",
   "metadata": {
    "tags": []
   },
   "outputs": [],
   "source": [
    "tot2, _, _ = robot.back_no_tpsl()\n",
    "plt.plot(tot2)"
   ]
  },
  {
   "cell_type": "code",
   "execution_count": null,
   "id": "14e46ac9-f48b-490d-a7ca-2c789d6e7877",
   "metadata": {},
   "outputs": [],
   "source": [
    "tot3, _, _ = robot.back_tpsl_ohl(50)\n",
    "plt.plot(tot3)"
   ]
  },
  {
   "cell_type": "code",
   "execution_count": null,
   "id": "ff25e4d8-dce5-4831-821a-a197e74777db",
   "metadata": {},
   "outputs": [],
   "source": []
  },
  {
   "cell_type": "markdown",
   "id": "22ff938a-2dbd-4fa1-b5ba-efc93e157993",
   "metadata": {},
   "source": [
    "- Rever a colocação dos backtestes por conta do lucro ridiculo\n",
    "- Colocar o super backtest de 1.3kk\n",
    "- Se sobrar tempo, pensar em passar os calculos para pandas"
   ]
  }
 ],
 "metadata": {
  "kernelspec": {
   "display_name": "Python 3",
   "language": "python",
   "name": "python3"
  },
  "language_info": {
   "codemirror_mode": {
    "name": "ipython",
    "version": 3
   },
   "file_extension": ".py",
   "mimetype": "text/x-python",
   "name": "python",
   "nbconvert_exporter": "python",
   "pygments_lexer": "ipython3",
   "version": "3.9.1"
  }
 },
 "nbformat": 4,
 "nbformat_minor": 5
}
