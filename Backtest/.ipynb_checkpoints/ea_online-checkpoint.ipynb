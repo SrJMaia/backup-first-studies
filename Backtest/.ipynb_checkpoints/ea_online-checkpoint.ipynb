{
 "cells": [
  {
   "cell_type": "code",
   "execution_count": 1,
   "id": "surprised-contents",
   "metadata": {},
   "outputs": [],
   "source": [
    "from arquivos.expert import eaonline"
   ]
  },
  {
   "cell_type": "code",
   "execution_count": 2,
   "id": "5d36d850-c859-4c1a-9b1d-02a25098a092",
   "metadata": {},
   "outputs": [],
   "source": [
    "ea = eaonline(risk=0.01, multiply=2, magic_number=1005, timeframe='H1', tpsl = 50) #, login = 40305620, senha= 'x8dcteyv', servidor='MetaQuotes-Demo'"
   ]
  },
  {
   "cell_type": "code",
   "execution_count": null,
   "id": "6b0b08ed-67e5-4e91-971f-dfc6c7eeaf4a",
   "metadata": {},
   "outputs": [
    {
     "name": "stdout",
     "output_type": "stream",
     "text": [
      "Dados Baixados com Sucesso.\n",
      "Dados Baixados com Sucesso.\n",
      "Dados obtidos com sucesso.\n",
      "Não há dados novos.\n",
      "Dados Baixados com Sucesso.\n",
      "Dados obtidos com sucesso.\n",
      "Não há dados novos.\n"
     ]
    }
   ],
   "source": [
    "ea.start()"
   ]
  },
  {
   "cell_type": "code",
   "execution_count": null,
   "id": "54a0b3af-353e-4487-b237-755dcf93b6e8",
   "metadata": {},
   "outputs": [],
   "source": [
    "ea.get_normal_data()"
   ]
  },
  {
   "cell_type": "code",
   "execution_count": null,
   "id": "2449768b-5aaa-436b-aa56-cdc7f9602e1e",
   "metadata": {},
   "outputs": [],
   "source": [
    "ea.get_new_data_mt5(0, 1, 'D1')"
   ]
  },
  {
   "cell_type": "code",
   "execution_count": null,
   "id": "26647434-1be0-4f11-a277-8d6636655be8",
   "metadata": {},
   "outputs": [],
   "source": []
  },
  {
   "cell_type": "code",
   "execution_count": null,
   "id": "52c6884a-bbfa-4e25-bf6b-65eb8a8b52ad",
   "metadata": {},
   "outputs": [],
   "source": []
  }
 ],
 "metadata": {
  "kernelspec": {
   "display_name": "Python 3",
   "language": "python",
   "name": "python3"
  },
  "language_info": {
   "codemirror_mode": {
    "name": "ipython",
    "version": 3
   },
   "file_extension": ".py",
   "mimetype": "text/x-python",
   "name": "python",
   "nbconvert_exporter": "python",
   "pygments_lexer": "ipython3",
   "version": "3.9.1"
  }
 },
 "nbformat": 4,
 "nbformat_minor": 5
}
