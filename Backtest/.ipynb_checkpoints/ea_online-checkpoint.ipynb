{
 "cells": [
  {
   "cell_type": "code",
   "execution_count": null,
   "id": "surprised-contents",
   "metadata": {},
   "outputs": [],
   "source": [
    "from arquivos.expert import eaonline"
   ]
  },
  {
   "cell_type": "code",
   "execution_count": null,
   "id": "5d36d850-c859-4c1a-9b1d-02a25098a092",
   "metadata": {},
   "outputs": [],
   "source": [
    "ea = eaonline(risk=0.01, multiply=2, magic_number=1005, timeframe='H1', tpsl = 50)"
   ]
  },
  {
   "cell_type": "code",
   "execution_count": null,
   "id": "6b0b08ed-67e5-4e91-971f-dfc6c7eeaf4a",
   "metadata": {},
   "outputs": [],
   "source": [
    "ea.start()"
   ]
  },
  {
   "cell_type": "code",
   "execution_count": null,
   "id": "3b8016e3-a1c2-43ac-b06d-81739b0e3ba8",
   "metadata": {},
   "outputs": [],
   "source": [
    "import MetaTrader5 as mt5"
   ]
  },
  {
   "cell_type": "code",
   "execution_count": null,
   "id": "5e67c9bc-9a24-46e1-9c7e-e81ea7118497",
   "metadata": {},
   "outputs": [],
   "source": [
    "ea.mt_login()\n",
    "info = mt5.account_info()._asdict()\n",
    "ea.mt_logoff()"
   ]
  },
  {
   "cell_type": "code",
   "execution_count": null,
   "id": "a558e026-5dac-458c-b6f6-632964eb12ac",
   "metadata": {},
   "outputs": [],
   "source": [
    "info"
   ]
  }
 ],
 "metadata": {
  "kernelspec": {
   "display_name": "Python 3",
   "language": "python",
   "name": "python3"
  },
  "language_info": {
   "codemirror_mode": {
    "name": "ipython",
    "version": 3
   },
   "file_extension": ".py",
   "mimetype": "text/x-python",
   "name": "python",
   "nbconvert_exporter": "python",
   "pygments_lexer": "ipython3",
   "version": "3.9.1"
  }
 },
 "nbformat": 4,
 "nbformat_minor": 5
}
