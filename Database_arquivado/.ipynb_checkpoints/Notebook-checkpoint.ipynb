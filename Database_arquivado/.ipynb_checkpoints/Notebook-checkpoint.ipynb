{
 "cells": [
  {
   "cell_type": "code",
   "execution_count": 12,
   "id": "8831fb29-f31f-400f-8e25-e2ae70aa8581",
   "metadata": {},
   "outputs": [],
   "source": [
    "import sqlite3\n",
    "import numpy as np"
   ]
  },
  {
   "cell_type": "code",
   "execution_count": 2,
   "id": "f8bab2d7-7b2c-4cd3-a20b-55451decff59",
   "metadata": {},
   "outputs": [],
   "source": [
    "conn = sqlite3.connect('data.db') # Permanete\n",
    "# conn = sqlite3.connect(':memory:') # cria na memória"
   ]
  },
  {
   "cell_type": "code",
   "execution_count": 4,
   "id": "e7b8434d-6e94-4b65-9ba4-422fadfffb70",
   "metadata": {},
   "outputs": [],
   "source": [
    "# Create a cursor\n",
    "c = conn.cursor()"
   ]
  },
  {
   "cell_type": "code",
   "execution_count": 6,
   "id": "3f8456b0-2f6b-4adb-adc6-a4e4ae77a6cd",
   "metadata": {},
   "outputs": [],
   "source": [
    "# Create a Table - Sensitive Case\n",
    "c.execute(\"\"\"CREATE TABLE prices (\n",
    "        open real,\n",
    "        high real,\n",
    "        low real,\n",
    "        close real\n",
    "    )\"\"\")\n",
    "\n",
    "# Em uma linha\n",
    "#c.execute(\"CREATE TABLE prices (open = DATATYPE, high = DATATYPE, low = DATATYPE, close = DATATYPE)\")\n",
    "\n",
    "# Datatypes:\n",
    "# NULL - Existe ou não existe, not null or null\n",
    "# INTEGER - int\n",
    "# REAL - float\n",
    "# TEXT - str\n",
    "# BLOB - The value is a blob of data, stored exactly as it was input.\n",
    "\n",
    "# Commit out command\n",
    "conn.commit()\n",
    "\n",
    "# Fechar conexão\n",
    "conn.close()"
   ]
  },
  {
   "cell_type": "code",
   "execution_count": 11,
   "id": "963e58f7-f2eb-4aa8-8c6a-962a855d0b9c",
   "metadata": {},
   "outputs": [],
   "source": [
    "#Colocar dados\n",
    "conn = sqlite3.connect('data.db')\n",
    "\n",
    "c = conn.cursor()\n",
    "\n",
    "c.execute(\"INSERT INTO prices VALUES (1.59398, 1.28504, 1.28759, 1.28571)\")\n",
    "\n",
    "conn.commit()\n",
    "conn.close()"
   ]
  },
  {
   "cell_type": "code",
   "execution_count": 21,
   "id": "dc0dbe25-d576-4955-8abb-9aa2032ee57f",
   "metadata": {},
   "outputs": [],
   "source": [
    "#Colocar multiplos dados\n",
    "conn = sqlite3.connect('data.db')\n",
    "\n",
    "c = conn.cursor()\n",
    "\n",
    "data = [\n",
    "        (np.around(np.random.random(), 5), np.around(np.random.random(), 5), np.around(np.random.random(), 5), np.around(np.random.random(), 5)),\n",
    "        (np.around(np.random.random(), 5), np.around(np.random.random(), 5), np.around(np.random.random(), 5), np.around(np.random.random(), 5)),\n",
    "        (np.around(np.random.random(), 5), np.around(np.random.random(), 5), np.around(np.random.random(), 5), np.around(np.random.random(), 5)),\n",
    "        (np.around(np.random.random(), 5), np.around(np.random.random(), 5), np.around(np.random.random(), 5), np.around(np.random.random(), 5))\n",
    "\n",
    "        ]\n",
    "\n",
    "c.executemany(\"INSERT INTO prices VALUES (?,?,?,?)\", data)\n",
    "\n",
    "conn.commit()\n",
    "conn.close()"
   ]
  },
  {
   "cell_type": "code",
   "execution_count": 25,
   "id": "8374fc4c-160b-4c93-869b-fa7b55dcb8ee",
   "metadata": {},
   "outputs": [],
   "source": [
    "#Puxar dados\n",
    "conn = sqlite3.connect('data.db')\n",
    "\n",
    "c = conn.cursor()\n",
    "\n",
    "c.execute(\"SELECT * FROM prices\")\n",
    "#c.fetchone() # retorna uma linha\n",
    "#c.fetchmany(3) # retorna x valores\n",
    "#c.fetchall() # retorna tudo\n",
    "\n",
    "#print(c.fetchall())\n",
    "\n",
    "something = c.fetchall() # Passa todos os dados\n",
    "\n",
    "conn.commit()\n",
    "conn.close()"
   ]
  },
  {
   "cell_type": "code",
   "execution_count": 26,
   "id": "a141f9b5-f79c-4a8c-90d6-3605601a7b7d",
   "metadata": {},
   "outputs": [
    {
     "data": {
      "text/plain": [
       "[(1.12345, 1.23512, 1.12143, 1.12367),\n",
       " (1.15312, 1.58491, 1.58472, 1.38759),\n",
       " (1.59398, 1.28504, 1.28759, 1.28571),\n",
       " (0.5786, 0.97822, 0.37728, 0.21789),\n",
       " (0.2988, 0.83555, 0.63877, 0.55085),\n",
       " (0.08455, 0.72006, 0.86877, 0.35021),\n",
       " (0.23455, 0.14299, 0.28153, 0.56613)]"
      ]
     },
     "execution_count": 26,
     "metadata": {},
     "output_type": "execute_result"
    }
   ],
   "source": [
    "something"
   ]
  },
  {
   "cell_type": "code",
   "execution_count": 27,
   "id": "fb35cbb3-3ba0-4959-bf4e-dc654341e88b",
   "metadata": {},
   "outputs": [],
   "source": [
    "#Puxar dados e id\n",
    "conn = sqlite3.connect('data.db')\n",
    "\n",
    "c = conn.cursor()\n",
    "\n",
    "c.execute(\"SELECT rowid, * FROM prices\")\n",
    "#c.fetchone() # retorna uma linha\n",
    "#c.fetchmany(3) # retorna x valores\n",
    "#c.fetchall() # retorna tudo\n",
    "\n",
    "#print(c.fetchall())\n",
    "\n",
    "something = c.fetchall() # Passa todos os dados\n",
    "\n",
    "conn.commit()\n",
    "conn.close()"
   ]
  },
  {
   "cell_type": "code",
   "execution_count": 28,
   "id": "e3e89d88-652d-40ca-bb84-765e14c916d6",
   "metadata": {},
   "outputs": [
    {
     "data": {
      "text/plain": [
       "[(1, 1.12345, 1.23512, 1.12143, 1.12367),\n",
       " (2, 1.15312, 1.58491, 1.58472, 1.38759),\n",
       " (3, 1.59398, 1.28504, 1.28759, 1.28571),\n",
       " (4, 0.5786, 0.97822, 0.37728, 0.21789),\n",
       " (5, 0.2988, 0.83555, 0.63877, 0.55085),\n",
       " (6, 0.08455, 0.72006, 0.86877, 0.35021),\n",
       " (7, 0.23455, 0.14299, 0.28153, 0.56613)]"
      ]
     },
     "execution_count": 28,
     "metadata": {},
     "output_type": "execute_result"
    }
   ],
   "source": [
    "something"
   ]
  },
  {
   "cell_type": "code",
   "execution_count": 29,
   "id": "5c69f03e-803b-4937-a2b3-e9849f44a973",
   "metadata": {},
   "outputs": [],
   "source": [
    "# Where\n",
    "conn = sqlite3.connect('data.db')\n",
    "\n",
    "c = conn.cursor()\n",
    "\n",
    "c.execute(\"SELECT rowid, * FROM prices WHERE rowid = 1\")\n",
    "#c.fetchone() # retorna uma linha\n",
    "#c.fetchmany(3) # retorna x valores\n",
    "#c.fetchall() # retorna tudo\n",
    "\n",
    "#print(c.fetchall())\n",
    "\n",
    "something = c.fetchall() # Passa todos os dados\n",
    "\n",
    "conn.commit()\n",
    "conn.close()"
   ]
  },
  {
   "cell_type": "code",
   "execution_count": 31,
   "id": "8df75819-d309-453b-b2f1-c07bf1f16b73",
   "metadata": {},
   "outputs": [
    {
     "data": {
      "text/plain": [
       "[(1, 1.12345, 1.23512, 1.12143, 1.12367)]"
      ]
     },
     "execution_count": 31,
     "metadata": {},
     "output_type": "execute_result"
    }
   ],
   "source": [
    "something"
   ]
  },
  {
   "cell_type": "code",
   "execution_count": 32,
   "id": "dcd7f7aa-e407-404e-b776-7e6c2d94862a",
   "metadata": {},
   "outputs": [],
   "source": [
    "# Where\n",
    "conn = sqlite3.connect('data.db')\n",
    "\n",
    "c = conn.cursor()\n",
    "\n",
    "c.execute(\"SELECT rowid, * FROM prices WHERE rowid > 1\") # Pode usar WHERE com o LIKE\n",
    "#c.fetchone() # retorna uma linha\n",
    "#c.fetchmany(3) # retorna x valores\n",
    "#c.fetchall() # retorna tudo\n",
    "\n",
    "#print(c.fetchall())\n",
    "\n",
    "something = c.fetchall() # Passa todos os dados\n",
    "\n",
    "conn.commit()\n",
    "conn.close()"
   ]
  },
  {
   "cell_type": "code",
   "execution_count": 33,
   "id": "28c57ef0-c8ad-4a42-bbb2-4a703cecd8fd",
   "metadata": {},
   "outputs": [
    {
     "data": {
      "text/plain": [
       "[(2, 1.15312, 1.58491, 1.58472, 1.38759),\n",
       " (3, 1.59398, 1.28504, 1.28759, 1.28571),\n",
       " (4, 0.5786, 0.97822, 0.37728, 0.21789),\n",
       " (5, 0.2988, 0.83555, 0.63877, 0.55085),\n",
       " (6, 0.08455, 0.72006, 0.86877, 0.35021),\n",
       " (7, 0.23455, 0.14299, 0.28153, 0.56613)]"
      ]
     },
     "execution_count": 33,
     "metadata": {},
     "output_type": "execute_result"
    }
   ],
   "source": [
    "something"
   ]
  },
  {
   "cell_type": "code",
   "execution_count": 38,
   "id": "0039c489-fcd6-45b2-9f67-523cabe57577",
   "metadata": {},
   "outputs": [],
   "source": [
    "# Delete\n",
    "conn = sqlite3.connect('data.db')\n",
    "\n",
    "c = conn.cursor()\n",
    "\n",
    "c.execute(\"Delete FROM prices WHERE rowid = 1\") # Pode usar WHERE com o LIKE\n",
    "#c.fetchone() # retorna uma linha\n",
    "#c.fetchmany(3) # retorna x valores\n",
    "#c.fetchall() # retorna tudo\n",
    "\n",
    "#print(c.fetchall())\n",
    "c.execute(\"SELECT rowid, * FROM prices\")\n",
    "\n",
    "something = c.fetchall() # Passa todos os dados\n",
    "\n",
    "conn.commit()\n",
    "conn.close()"
   ]
  },
  {
   "cell_type": "code",
   "execution_count": 39,
   "id": "e5421e46-f485-4359-8fc2-94161e9d5073",
   "metadata": {},
   "outputs": [
    {
     "data": {
      "text/plain": [
       "[(2, 1.15312, 1.58491, 1.58472, 1.38759),\n",
       " (3, 1.59398, 1.28504, 1.28759, 1.28571),\n",
       " (4, 0.5786, 0.97822, 0.37728, 0.21789),\n",
       " (5, 0.2988, 0.83555, 0.63877, 0.55085),\n",
       " (6, 0.08455, 0.72006, 0.86877, 0.35021),\n",
       " (7, 0.23455, 0.14299, 0.28153, 0.56613)]"
      ]
     },
     "execution_count": 39,
     "metadata": {},
     "output_type": "execute_result"
    }
   ],
   "source": [
    "something"
   ]
  },
  {
   "cell_type": "code",
   "execution_count": 44,
   "id": "11a11ba2-52f3-4275-932b-d41aca90ea0e",
   "metadata": {},
   "outputs": [],
   "source": [
    "# Delete\n",
    "conn = sqlite3.connect('data.db')\n",
    "\n",
    "c = conn.cursor()\n",
    "\n",
    "c.execute(\"SELECT rowid, * FROM prices ORDER BY close DESC\") # Default is ASC\n",
    "\n",
    "something = c.fetchall() # Passa todos os dados\n",
    "\n",
    "conn.commit()\n",
    "conn.close()"
   ]
  },
  {
   "cell_type": "code",
   "execution_count": 45,
   "id": "6aa5fe91-fb69-4d6d-9775-abac55c08ca9",
   "metadata": {},
   "outputs": [
    {
     "data": {
      "text/plain": [
       "[(2, 1.15312, 1.58491, 1.58472, 1.38759),\n",
       " (3, 1.59398, 1.28504, 1.28759, 1.28571),\n",
       " (7, 0.23455, 0.14299, 0.28153, 0.56613),\n",
       " (5, 0.2988, 0.83555, 0.63877, 0.55085),\n",
       " (6, 0.08455, 0.72006, 0.86877, 0.35021),\n",
       " (4, 0.5786, 0.97822, 0.37728, 0.21789)]"
      ]
     },
     "execution_count": 45,
     "metadata": {},
     "output_type": "execute_result"
    }
   ],
   "source": [
    "something"
   ]
  },
  {
   "cell_type": "code",
   "execution_count": 46,
   "id": "4323440d-ba66-41cc-99d5-674c292ef925",
   "metadata": {},
   "outputs": [],
   "source": [
    "# And\n",
    "conn = sqlite3.connect('data.db')\n",
    "\n",
    "c = conn.cursor()\n",
    "\n",
    "c.execute(\"SELECT rowid, * FROM prices WHERE close < 1 AND rowid > 1\") # Pode adicionar LIMIT x(int) onde ira limtiar a bsucar por uma quantidade especifica\n",
    "something = c.fetchall() # Passa todos os dados\n",
    "\n",
    "conn.commit()\n",
    "conn.close()"
   ]
  },
  {
   "cell_type": "code",
   "execution_count": 47,
   "id": "5e2b88e7-f605-4ea5-9d2c-582d17d6ee71",
   "metadata": {},
   "outputs": [
    {
     "data": {
      "text/plain": [
       "[(4, 0.5786, 0.97822, 0.37728, 0.21789),\n",
       " (5, 0.2988, 0.83555, 0.63877, 0.55085),\n",
       " (6, 0.08455, 0.72006, 0.86877, 0.35021),\n",
       " (7, 0.23455, 0.14299, 0.28153, 0.56613)]"
      ]
     },
     "execution_count": 47,
     "metadata": {},
     "output_type": "execute_result"
    }
   ],
   "source": [
    "something"
   ]
  },
  {
   "cell_type": "code",
   "execution_count": 48,
   "id": "ea794826-5ae2-4cff-b83d-b2e043758b3f",
   "metadata": {},
   "outputs": [],
   "source": [
    "# Drop\n",
    "conn = sqlite3.connect('data.db')\n",
    "\n",
    "c = conn.cursor()\n",
    "\n",
    "c.execute(\"DROP TABLE prices\")\n",
    "\n",
    "conn.commit()\n",
    "conn.close()"
   ]
  },
  {
   "cell_type": "code",
   "execution_count": null,
   "id": "59685b97-dde8-4830-8f86-16d0e161df4c",
   "metadata": {},
   "outputs": [],
   "source": []
  }
 ],
 "metadata": {
  "kernelspec": {
   "display_name": "Python 3",
   "language": "python",
   "name": "python3"
  },
  "language_info": {
   "codemirror_mode": {
    "name": "ipython",
    "version": 3
   },
   "file_extension": ".py",
   "mimetype": "text/x-python",
   "name": "python",
   "nbconvert_exporter": "python",
   "pygments_lexer": "ipython3",
   "version": "3.9.1"
  }
 },
 "nbformat": 4,
 "nbformat_minor": 5
}
