{
 "cells": [
  {
   "cell_type": "code",
   "execution_count": 1,
   "id": "7a99e1e3-2569-43bf-87e5-e00200bf5c08",
   "metadata": {},
   "outputs": [],
   "source": [
    "import MetaTrader5 as mt5\n",
    "import pandas as pd\n",
    "import numpy as np\n",
    "from datetime import datetime"
   ]
  },
  {
   "cell_type": "code",
   "execution_count": 2,
   "id": "6f567ea4-7ebd-4400-a731-347dcf4aa793",
   "metadata": {},
   "outputs": [],
   "source": [
    "def get_data(symbol, date_from, date_to):\n",
    "    eurusd = pd.DataFrame(mt5.copy_rates_range(symbol, mt5.TIMEFRAME_M1, date_from, date_to))\n",
    "    eurusd['time']=pd.to_datetime(eurusd['time'], unit='s')\n",
    "    return eurusd\n",
    "#eurusd.set_index('time', inplace=True)"
   ]
  },
  {
   "cell_type": "code",
   "execution_count": 3,
   "id": "5bebe947-13a6-4685-bc22-637f6cf74a85",
   "metadata": {},
   "outputs": [],
   "source": [
    "ALL_PAIRS = ('EURCHF','EURGBP','EURJPY','EURNZD','EURUSD','EURAUD','EURCAD',\n",
    "             'GBPAUD','GBPCHF','GBPJPY','GBPCAD','GBPUSD','GBPNZD','USDCHF',\n",
    "             'USDJPY','AUDUSD','NZDUSD','USDCAD','AUDJPY','CADJPY','CHFJPY',\n",
    "             'NZDJPY','AUDCHF','CADCHF','NZDCHF','AUDNZD','NZDCAD','AUDCAD')\n",
    "\n",
    "ALL_PAIRS1 = ('EURCHF','EURGBP','EURJPY','EURNZD','EURUSD','EURAUD','EURCAD')\n",
    "\n",
    "ALL_PAIRS2 = ('GBPAUD','GBPCHF','GBPJPY','GBPCAD','GBPUSD','GBPNZD','USDCHF')\n",
    "\n",
    "ALL_PAIRS3 = ('USDJPY','AUDUSD','NZDUSD','USDCAD','AUDJPY','CADJPY','CHFJPY')\n",
    "\n",
    "ALL_PAIRS4 = ('NZDJPY','AUDCHF','CADCHF','NZDCHF','AUDNZD','NZDCAD','AUDCAD')\n",
    "\n",
    "ALL_PAIRS_OPEN = ('EURCHF_Open','EURGBP_Open','EURJPY_Open','EURNZD_Open','EURUSD_Open','EURAUD_Open','EURCAD_Open',\n",
    "                  'GBPAUD_Open','GBPCHF_Open','GBPJPY_Open','GBPCAD_Open','GBPUSD_Open','GBPNZD_Open','USDCHF_Open',\n",
    "                  'USDJPY_Open','AUDUSD_Open','NZDUSD_Open','USDCAD_Open','AUDJPY_Open','CADJPY_Open','CHFJPY_Open',\n",
    "                  'NZDJPY_Open','AUDCHF_Open','CADCHF_Open','NZDCHF_Open','AUDNZD_Open','NZDCAD_Open','AUDCAD_Open')\n",
    "\n",
    "ALL_PAIRS_CLOSE = ('EURCHF_Close','EURGBP_Close','EURJPY_Close','EURNZD_Close','EURUSD_Close','EURAUD_Close','EURCAD_Close',\n",
    "                  'GBPAUD_Close','GBPCHF_Close','GBPJPY_Close','GBPCAD_Close','GBPUSD_Close','GBPNZD_Close','USDCHF_Close',\n",
    "                  'USDJPY_Close','AUDUSD_Close','NZDUSD_Close','USDCAD_Close','AUDJPY_Close','CADJPY_Close','CHFJPY_Close',\n",
    "                  'NZDJPY_Close','AUDCHF_Close','CADCHF_Close','NZDCHF_Close','AUDNZD_Close','NZDCAD_Close','AUDCAD_Close')\n",
    "\n",
    "ALL_PAIRS_HIGH = ('EURCHF_High','EURGBP_High','EURJPY_High','EURNZD_High','EURUSD_High','EURAUD_High','EURCAD_High',\n",
    "                  'GBPAUD_High','GBPCHF_High','GBPJPY_High','GBPCAD_High','GBPUSD_High','GBPNZD_High','USDCHF_High',\n",
    "                  'USDJPY_High','AUDUSD_High','NZDUSD_High','USDCAD_High','AUDJPY_High','CADJPY_High','CHFJPY_High',\n",
    "                  'NZDJPY_High','AUDCHF_High','CADCHF_High','NZDCHF_High','AUDNZD_High','NZDCAD_High','AUDCAD_High')\n",
    "\n",
    "ALL_PAIRS_LOW = ('EURCHF_Low','EURGBP_Low','EURJPY_Low','EURNZD_Low','EURUSD_Low','EURAUD_Low','EURCAD_Low',\n",
    "                  'GBPAUD_Low','GBPCHF_Low','GBPJPY_Low','GBPCAD_Low','GBPUSD_Low','GBPNZD_Low','USDCHF_Low',\n",
    "                  'USDJPY_Low','AUDUSD_Low','NZDUSD_Low','USDCAD_Low','AUDJPY_Low','CADJPY_Low','CHFJPY_Low',\n",
    "                  'NZDJPY_Low','AUDCHF_Low','CADCHF_Low','NZDCHF_Low','AUDNZD_Low','NZDCAD_Low','AUDCAD_Low')\n"
   ]
  },
  {
   "cell_type": "code",
   "execution_count": 16,
   "id": "f4368861-98fc-48f0-a61d-dd4ee4344cfc",
   "metadata": {},
   "outputs": [
    {
     "data": {
      "text/plain": [
       "True"
      ]
     },
     "execution_count": 16,
     "metadata": {},
     "output_type": "execute_result"
    }
   ],
   "source": [
    "if not mt5.initialize(login=50549136, password='TqmGUgqp', server='ICMarketsSC-Demo'):\n",
    "    print(\"initialize() failed\")\n",
    "    mt5.shutdown()\n",
    "    \n",
    "date_from=datetime(2011,1,1)\n",
    "date_to=datetime.today()\n",
    "nans = []\n",
    "    \n",
    "for index, values in enumerate(ALL_PAIRS4):\n",
    "    #pairs = pd.DataFrame()\n",
    "    get = pd.DataFrame(get_data(values, date_from, date_to)).rename(columns={'open':ALL_PAIRS_OPEN[index], 'high':ALL_PAIRS_HIGH[index], 'low':ALL_PAIRS_LOW[index], 'close':ALL_PAIRS_CLOSE[index]}).iloc[:,:5]\n",
    "    #pairs[ALL_PAIRS_OPEN[index]] = get[ALL_PAIRS_OPEN[index]]\n",
    "    #pairs[ALL_PAIRS_HIGH[index]] = get[ALL_PAIRS_HIGH[index]]\n",
    "    #pairs[ALL_PAIRS_LOW[index]] = get[ALL_PAIRS_LOW[index]]\n",
    "    #pairs[ALL_PAIRS_CLOSE[index]] = get[ALL_PAIRS_CLOSE[index]]\n",
    "    get.to_csv(f'{values}.csv', sep=',')\n",
    "    #a = pd.DataFrame(get_data(values, date_from, date_to))\n",
    "    \n",
    "    #nans.append(a[['open','high','low','close']].isna().sum().sum())\n",
    "    \n",
    "\n",
    "mt5.shutdown()"
   ]
  },
  {
   "cell_type": "code",
   "execution_count": 27,
   "id": "b5a480b7-8a4c-41da-8f77-65b83f77daac",
   "metadata": {},
   "outputs": [
    {
     "data": {
      "text/plain": [
       "True"
      ]
     },
     "execution_count": 27,
     "metadata": {},
     "output_type": "execute_result"
    }
   ],
   "source": [
    "if not mt5.initialize(login=50549136, password='TqmGUgqp', server='ICMarketsSC-Demo'):\n",
    "    print(\"initialize() failed\")\n",
    "    mt5.shutdown()\n",
    "    \n",
    "date_from=datetime(2000,1,1)\n",
    "date_to=datetime.today()\n",
    "    \n",
    "get = pd.DataFrame(get_data('EURUSD', date_from, date_to)).rename(columns={'open':'EURUSD_Open', 'high':'EURUSD_High', 'low':'EURUSD_Low', 'close':'EURUSD_Close'})#.iloc[:,:5]\n",
    "#get.to_csv(f'{values}.csv', sep=',')\n",
    "    \n",
    "\n",
    "mt5.shutdown()"
   ]
  },
  {
   "cell_type": "code",
   "execution_count": 30,
   "id": "8d09651a-fc63-40ba-addd-df0eab0b6f10",
   "metadata": {},
   "outputs": [
    {
     "data": {
      "text/html": [
       "<div>\n",
       "<style scoped>\n",
       "    .dataframe tbody tr th:only-of-type {\n",
       "        vertical-align: middle;\n",
       "    }\n",
       "\n",
       "    .dataframe tbody tr th {\n",
       "        vertical-align: top;\n",
       "    }\n",
       "\n",
       "    .dataframe thead th {\n",
       "        text-align: right;\n",
       "    }\n",
       "</style>\n",
       "<table border=\"1\" class=\"dataframe\">\n",
       "  <thead>\n",
       "    <tr style=\"text-align: right;\">\n",
       "      <th></th>\n",
       "      <th>time</th>\n",
       "      <th>EURUSD_Open</th>\n",
       "      <th>EURUSD_High</th>\n",
       "      <th>EURUSD_Low</th>\n",
       "      <th>EURUSD_Close</th>\n",
       "      <th>tick_volume</th>\n",
       "      <th>spread</th>\n",
       "      <th>real_volume</th>\n",
       "    </tr>\n",
       "  </thead>\n",
       "  <tbody>\n",
       "    <tr>\n",
       "      <th>0</th>\n",
       "      <td>2000-01-03 00:01:00</td>\n",
       "      <td>1.00730</td>\n",
       "      <td>1.00750</td>\n",
       "      <td>1.00730</td>\n",
       "      <td>1.00730</td>\n",
       "      <td>5</td>\n",
       "      <td>50</td>\n",
       "      <td>0</td>\n",
       "    </tr>\n",
       "    <tr>\n",
       "      <th>1</th>\n",
       "      <td>2000-01-03 00:02:00</td>\n",
       "      <td>1.00790</td>\n",
       "      <td>1.00790</td>\n",
       "      <td>1.00790</td>\n",
       "      <td>1.00790</td>\n",
       "      <td>1</td>\n",
       "      <td>50</td>\n",
       "      <td>0</td>\n",
       "    </tr>\n",
       "    <tr>\n",
       "      <th>2</th>\n",
       "      <td>2000-01-03 00:04:00</td>\n",
       "      <td>1.00780</td>\n",
       "      <td>1.00800</td>\n",
       "      <td>1.00770</td>\n",
       "      <td>1.00800</td>\n",
       "      <td>4</td>\n",
       "      <td>50</td>\n",
       "      <td>0</td>\n",
       "    </tr>\n",
       "    <tr>\n",
       "      <th>3</th>\n",
       "      <td>2000-01-03 00:12:00</td>\n",
       "      <td>1.00790</td>\n",
       "      <td>1.00790</td>\n",
       "      <td>1.00790</td>\n",
       "      <td>1.00790</td>\n",
       "      <td>1</td>\n",
       "      <td>50</td>\n",
       "      <td>0</td>\n",
       "    </tr>\n",
       "    <tr>\n",
       "      <th>4</th>\n",
       "      <td>2000-01-03 00:13:00</td>\n",
       "      <td>1.00800</td>\n",
       "      <td>1.00800</td>\n",
       "      <td>1.00770</td>\n",
       "      <td>1.00770</td>\n",
       "      <td>4</td>\n",
       "      <td>50</td>\n",
       "      <td>0</td>\n",
       "    </tr>\n",
       "    <tr>\n",
       "      <th>...</th>\n",
       "      <td>...</td>\n",
       "      <td>...</td>\n",
       "      <td>...</td>\n",
       "      <td>...</td>\n",
       "      <td>...</td>\n",
       "      <td>...</td>\n",
       "      <td>...</td>\n",
       "      <td>...</td>\n",
       "    </tr>\n",
       "    <tr>\n",
       "      <th>7747550</th>\n",
       "      <td>2021-05-21 23:52:00</td>\n",
       "      <td>1.21788</td>\n",
       "      <td>1.21794</td>\n",
       "      <td>1.21787</td>\n",
       "      <td>1.21794</td>\n",
       "      <td>12</td>\n",
       "      <td>0</td>\n",
       "      <td>0</td>\n",
       "    </tr>\n",
       "    <tr>\n",
       "      <th>7747551</th>\n",
       "      <td>2021-05-21 23:53:00</td>\n",
       "      <td>1.21794</td>\n",
       "      <td>1.21801</td>\n",
       "      <td>1.21794</td>\n",
       "      <td>1.21798</td>\n",
       "      <td>15</td>\n",
       "      <td>0</td>\n",
       "      <td>0</td>\n",
       "    </tr>\n",
       "    <tr>\n",
       "      <th>7747552</th>\n",
       "      <td>2021-05-21 23:54:00</td>\n",
       "      <td>1.21801</td>\n",
       "      <td>1.21808</td>\n",
       "      <td>1.21798</td>\n",
       "      <td>1.21808</td>\n",
       "      <td>17</td>\n",
       "      <td>0</td>\n",
       "      <td>0</td>\n",
       "    </tr>\n",
       "    <tr>\n",
       "      <th>7747553</th>\n",
       "      <td>2021-05-21 23:55:00</td>\n",
       "      <td>1.21808</td>\n",
       "      <td>1.21824</td>\n",
       "      <td>1.21807</td>\n",
       "      <td>1.21808</td>\n",
       "      <td>29</td>\n",
       "      <td>0</td>\n",
       "      <td>0</td>\n",
       "    </tr>\n",
       "    <tr>\n",
       "      <th>7747554</th>\n",
       "      <td>2021-05-21 23:56:00</td>\n",
       "      <td>1.21809</td>\n",
       "      <td>1.21813</td>\n",
       "      <td>1.21796</td>\n",
       "      <td>1.21803</td>\n",
       "      <td>37</td>\n",
       "      <td>0</td>\n",
       "      <td>0</td>\n",
       "    </tr>\n",
       "  </tbody>\n",
       "</table>\n",
       "<p>7747555 rows × 8 columns</p>\n",
       "</div>"
      ],
      "text/plain": [
       "                       time  EURUSD_Open  EURUSD_High  EURUSD_Low  \\\n",
       "0       2000-01-03 00:01:00      1.00730      1.00750     1.00730   \n",
       "1       2000-01-03 00:02:00      1.00790      1.00790     1.00790   \n",
       "2       2000-01-03 00:04:00      1.00780      1.00800     1.00770   \n",
       "3       2000-01-03 00:12:00      1.00790      1.00790     1.00790   \n",
       "4       2000-01-03 00:13:00      1.00800      1.00800     1.00770   \n",
       "...                     ...          ...          ...         ...   \n",
       "7747550 2021-05-21 23:52:00      1.21788      1.21794     1.21787   \n",
       "7747551 2021-05-21 23:53:00      1.21794      1.21801     1.21794   \n",
       "7747552 2021-05-21 23:54:00      1.21801      1.21808     1.21798   \n",
       "7747553 2021-05-21 23:55:00      1.21808      1.21824     1.21807   \n",
       "7747554 2021-05-21 23:56:00      1.21809      1.21813     1.21796   \n",
       "\n",
       "         EURUSD_Close  tick_volume  spread  real_volume  \n",
       "0             1.00730            5      50            0  \n",
       "1             1.00790            1      50            0  \n",
       "2             1.00800            4      50            0  \n",
       "3             1.00790            1      50            0  \n",
       "4             1.00770            4      50            0  \n",
       "...               ...          ...     ...          ...  \n",
       "7747550       1.21794           12       0            0  \n",
       "7747551       1.21798           15       0            0  \n",
       "7747552       1.21808           17       0            0  \n",
       "7747553       1.21808           29       0            0  \n",
       "7747554       1.21803           37       0            0  \n",
       "\n",
       "[7747555 rows x 8 columns]"
      ]
     },
     "execution_count": 30,
     "metadata": {},
     "output_type": "execute_result"
    }
   ],
   "source": [
    "get"
   ]
  },
  {
   "cell_type": "code",
   "execution_count": 31,
   "id": "95bb2604-3bdc-4b66-8cc5-895bcf77c9b7",
   "metadata": {},
   "outputs": [
    {
     "data": {
      "text/plain": [
       "0"
      ]
     },
     "execution_count": 31,
     "metadata": {},
     "output_type": "execute_result"
    }
   ],
   "source": [
    "get.isna().sum().sum()"
   ]
  },
  {
   "cell_type": "code",
   "execution_count": 32,
   "id": "22680c00-847c-42ca-a4f2-a8eaa8898eae",
   "metadata": {},
   "outputs": [
    {
     "data": {
      "text/plain": [
       "0         2000-01-03 00:01:00\n",
       "1         2000-01-03 00:02:00\n",
       "2         2000-01-03 00:04:00\n",
       "3         2000-01-03 00:12:00\n",
       "4         2000-01-03 00:13:00\n",
       "                  ...        \n",
       "7747550   2021-05-21 23:52:00\n",
       "7747551   2021-05-21 23:53:00\n",
       "7747552   2021-05-21 23:54:00\n",
       "7747553   2021-05-21 23:55:00\n",
       "7747554   2021-05-21 23:56:00\n",
       "Name: time, Length: 7747555, dtype: datetime64[ns]"
      ]
     },
     "execution_count": 32,
     "metadata": {},
     "output_type": "execute_result"
    }
   ],
   "source": [
    "get['time']"
   ]
  }
 ],
 "metadata": {
  "kernelspec": {
   "display_name": "Python 3",
   "language": "python",
   "name": "python3"
  },
  "language_info": {
   "codemirror_mode": {
    "name": "ipython",
    "version": 3
   },
   "file_extension": ".py",
   "mimetype": "text/x-python",
   "name": "python",
   "nbconvert_exporter": "python",
   "pygments_lexer": "ipython3",
   "version": "3.9.1"
  }
 },
 "nbformat": 4,
 "nbformat_minor": 5
}
