{
 "cells": [
  {
   "cell_type": "code",
   "execution_count": 1,
   "id": "substantial-refund",
   "metadata": {},
   "outputs": [
    {
     "name": "stdout",
     "output_type": "stream",
     "text": [
      "-slider- {'-bold-': False, '-italics-': False, '-underline-': False, '-slider-': 13.0}\n",
      "-slider- {'-bold-': False, '-italics-': False, '-underline-': False, '-slider-': 14.0}\n",
      "-slider- {'-bold-': False, '-italics-': False, '-underline-': False, '-slider-': 15.0}\n",
      "-slider- {'-bold-': False, '-italics-': False, '-underline-': False, '-slider-': 16.0}\n",
      "-slider- {'-bold-': False, '-italics-': False, '-underline-': False, '-slider-': 17.0}\n",
      "-slider- {'-bold-': False, '-italics-': False, '-underline-': False, '-slider-': 18.0}\n",
      "-slider- {'-bold-': False, '-italics-': False, '-underline-': False, '-slider-': 19.0}\n",
      "-slider- {'-bold-': False, '-italics-': False, '-underline-': False, '-slider-': 20.0}\n",
      "-slider- {'-bold-': False, '-italics-': False, '-underline-': False, '-slider-': 21.0}\n",
      "-slider- {'-bold-': False, '-italics-': False, '-underline-': False, '-slider-': 22.0}\n",
      "-slider- {'-bold-': False, '-italics-': False, '-underline-': False, '-slider-': 24.0}\n",
      "-slider- {'-bold-': False, '-italics-': False, '-underline-': False, '-slider-': 25.0}\n",
      "-slider- {'-bold-': False, '-italics-': False, '-underline-': False, '-slider-': 30.0}\n",
      "-slider- {'-bold-': False, '-italics-': False, '-underline-': False, '-slider-': 35.0}\n",
      "-slider- {'-bold-': False, '-italics-': False, '-underline-': False, '-slider-': 45.0}\n",
      "-slider- {'-bold-': False, '-italics-': False, '-underline-': False, '-slider-': 50.0}\n",
      "-italics- {'-bold-': False, '-italics-': True, '-underline-': False, '-slider-': 50.0}\n",
      "-italics- {'-bold-': False, '-italics-': False, '-underline-': False, '-slider-': 50.0}\n"
     ]
    }
   ],
   "source": [
    "import PySimpleGUI as sg\n",
    "\n",
    "'''\n",
    "    App that shows \"how fonts work in PySimpleGUI\".\n",
    "'''\n",
    "\n",
    "layout = [[sg.Text('This is my sample text', size=(20, 1), key='-text-')],\n",
    "          [sg.CB('Bold', key='-bold-', change_submits=True),\n",
    "           sg.CB('Italics', key='-italics-', change_submits=True),\n",
    "           sg.CB('Underline', key='-underline-', change_submits=True)],\n",
    "          [sg.Slider((6, 50), default_value=12, size=(14, 20),\n",
    "                     orientation='h', key='-slider-', change_submits=True),\n",
    "           sg.Text('Font size')],\n",
    "          [sg.Text('Font string = '), sg.Text('', size=(25, 1), key='-fontstring-')],\n",
    "          [sg.Button('Exit')]]\n",
    "\n",
    "window = sg.Window('Font string builder', layout)\n",
    "\n",
    "text_elem = window['-text-']\n",
    "while True:     # Event Loop\n",
    "    event, values = window.read()\n",
    "    if event in (sg.WIN_CLOSED, 'Exit'):\n",
    "        break\n",
    "    font_string = 'Helvitica '\n",
    "    font_string += str(int(values['-slider-']))\n",
    "    if values['-bold-']:\n",
    "        font_string += ' bold'\n",
    "    if values['-italics-']:\n",
    "        font_string += ' italic'\n",
    "    if values['-underline-']:\n",
    "        font_string += ' underline'\n",
    "    text_elem.update(font=font_string)\n",
    "    window['-fontstring-'].update('\"'+font_string+'\"')\n",
    "    print(event, values)\n",
    "\n",
    "window.close()"
   ]
  },
  {
   "cell_type": "code",
   "execution_count": null,
   "id": "pacific-paper",
   "metadata": {},
   "outputs": [],
   "source": []
  }
 ],
 "metadata": {
  "kernelspec": {
   "display_name": "Python 3",
   "language": "python",
   "name": "python3"
  },
  "language_info": {
   "codemirror_mode": {
    "name": "ipython",
    "version": 3
   },
   "file_extension": ".py",
   "mimetype": "text/x-python",
   "name": "python",
   "nbconvert_exporter": "python",
   "pygments_lexer": "ipython3",
   "version": "3.9.1"
  }
 },
 "nbformat": 4,
 "nbformat_minor": 5
}
