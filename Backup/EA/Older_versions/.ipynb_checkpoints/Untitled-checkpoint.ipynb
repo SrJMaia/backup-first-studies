{
 "cells": [
  {
   "cell_type": "code",
   "execution_count": 1,
   "id": "72751822-aa70-4305-9230-f5bfd0176fb6",
   "metadata": {},
   "outputs": [],
   "source": [
    "from numba import njit\n",
    "import numpy as np\n",
    "import random as rd"
   ]
  },
  {
   "cell_type": "code",
   "execution_count": 29,
   "id": "ed4a1f37-fcbe-44f8-bffa-671a0f3e3fbe",
   "metadata": {},
   "outputs": [],
   "source": [
    "@njit\n",
    "def gene():\n",
    "    my_array = np.empty((100_000), dtype='int64')\n",
    "    for i in np.arange(100_000):\n",
    "        my_array[i] = rd.randint(0,100)\n",
    "    my_array = np.sort(my_array)\n",
    "    return my_array"
   ]
  },
  {
   "cell_type": "code",
   "execution_count": 30,
   "id": "d5fd3ff7-7995-4425-b7ea-87603cd604ce",
   "metadata": {},
   "outputs": [
    {
     "name": "stdout",
     "output_type": "stream",
     "text": [
      "Wall time: 267 ms\n"
     ]
    }
   ],
   "source": [
    "%%time\n",
    "x = gene()"
   ]
  },
  {
   "cell_type": "code",
   "execution_count": null,
   "id": "4a9c0bc0-9e38-4183-83b0-ef13ba9a4bf6",
   "metadata": {},
   "outputs": [],
   "source": []
  },
  {
   "cell_type": "code",
   "execution_count": null,
   "id": "e4ad6e53-29d0-47fb-b594-44bba3237f91",
   "metadata": {},
   "outputs": [],
   "source": []
  }
 ],
 "metadata": {
  "kernelspec": {
   "display_name": "Python 3",
   "language": "python",
   "name": "python3"
  },
  "language_info": {
   "codemirror_mode": {
    "name": "ipython",
    "version": 3
   },
   "file_extension": ".py",
   "mimetype": "text/x-python",
   "name": "python",
   "nbconvert_exporter": "python",
   "pygments_lexer": "ipython3",
   "version": "3.9.1"
  }
 },
 "nbformat": 4,
 "nbformat_minor": 5
}
