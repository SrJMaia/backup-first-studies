{
 "cells": [
  {
   "cell_type": "code",
   "execution_count": 1,
   "id": "terminal-helicopter",
   "metadata": {},
   "outputs": [],
   "source": [
    "import MetaTrader5 as mt5\n",
    "import pandas as pd\n",
    "from time import sleep\n",
    "import financial as fn\n",
    "import data as dt\n",
    "from mt5 import login_mt5\n",
    "from time import sleep"
   ]
  },
  {
   "cell_type": "code",
   "execution_count": 2,
   "id": "august-anchor",
   "metadata": {},
   "outputs": [],
   "source": [
    "HONEMAGICNUMBER = 1010\n",
    "EVENTS = fn.MY_EVENTS"
   ]
  },
  {
   "cell_type": "code",
   "execution_count": 13,
   "id": "adopted-society",
   "metadata": {},
   "outputs": [
    {
     "name": "stdout",
     "output_type": "stream",
     "text": [
      "Não há dados novos.\n",
      "Buy | Symbol: EURGBP | Price: 0.85386 | Volume: 0.05\n",
      "Sell | Symbol: GBPCAD | Price: 1.73712 | Volume: 0.05\n",
      "Não há dados novos.\n",
      "Não há dados novos.\n",
      "Não há dados novos.\n",
      "Não há dados novos.\n",
      "Não há dados novos.\n",
      "Não há dados novos.\n",
      "Não há dados novos.\n"
     ]
    },
    {
     "ename": "KeyboardInterrupt",
     "evalue": "",
     "output_type": "error",
     "traceback": [
      "\u001b[1;31m---------------------------------------------------------------------------\u001b[0m",
      "\u001b[1;31mKeyboardInterrupt\u001b[0m                         Traceback (most recent call last)",
      "\u001b[1;32m<ipython-input-13-6e6375489ec9>\u001b[0m in \u001b[0;36m<module>\u001b[1;34m\u001b[0m\n\u001b[0;32m     34\u001b[0m             \u001b[0mfn\u001b[0m\u001b[1;33m.\u001b[0m\u001b[0mopen_trade\u001b[0m\u001b[1;33m(\u001b[0m\u001b[0maction\u001b[0m\u001b[1;33m=\u001b[0m\u001b[1;34m'sell'\u001b[0m\u001b[1;33m,\u001b[0m \u001b[0mtksl\u001b[0m \u001b[1;33m=\u001b[0m \u001b[1;36m8\u001b[0m\u001b[1;33m,\u001b[0m \u001b[0msymbol\u001b[0m\u001b[1;33m=\u001b[0m\u001b[0mi\u001b[0m\u001b[1;33m[\u001b[0m\u001b[1;34m'symbol'\u001b[0m\u001b[1;33m]\u001b[0m\u001b[1;33m,\u001b[0m \u001b[0mea_magic_number\u001b[0m\u001b[1;33m=\u001b[0m\u001b[0mHONEMAGICNUMBER\u001b[0m\u001b[1;33m)\u001b[0m\u001b[1;33m\u001b[0m\u001b[1;33m\u001b[0m\u001b[0m\n\u001b[0;32m     35\u001b[0m \u001b[1;33m\u001b[0m\u001b[0m\n\u001b[1;32m---> 36\u001b[1;33m     \u001b[0msleep\u001b[0m\u001b[1;33m(\u001b[0m\u001b[1;36m1\u001b[0m\u001b[1;33m)\u001b[0m\u001b[1;33m\u001b[0m\u001b[1;33m\u001b[0m\u001b[0m\n\u001b[0m\u001b[0;32m     37\u001b[0m \u001b[1;33m\u001b[0m\u001b[0m\n\u001b[0;32m     38\u001b[0m \u001b[0mmt5\u001b[0m\u001b[1;33m.\u001b[0m\u001b[0mshutdown\u001b[0m\u001b[1;33m(\u001b[0m\u001b[1;33m)\u001b[0m\u001b[1;33m\u001b[0m\u001b[1;33m\u001b[0m\u001b[0m\n",
      "\u001b[1;31mKeyboardInterrupt\u001b[0m: "
     ]
    }
   ],
   "source": [
    "login_mt5(login=41442678,password='0cxebqvs',server='MetaQuotes-Demo')\n",
    "\n",
    "df = dt.get_data(0, 63000, mt5.TIMEFRAME_H1)\n",
    "data = dt.pct_data(df, period=16)\n",
    "new_df = pd.DataFrame()\n",
    "\n",
    "while True:\n",
    "    \n",
    "    while True:\n",
    "        try:\n",
    "            new_df = dt.get_data(0, 1, mt5.TIMEFRAME_H1)\n",
    "        except:\n",
    "            print('Erro ao obter dados.')   \n",
    "        else:\n",
    "            print('Dados obtidos com sucesso.')\n",
    "            break\n",
    "    \n",
    "    if (new_df.iloc[-1] == df.iloc[-1]).sum() == 0:\n",
    "        df = pd.concat([df,new_df]).reset_index(drop=True)\n",
    "        data = dt.pct_data(df, period=16)\n",
    "    else:\n",
    "        print('Não há dados novos.')\n",
    "\n",
    "    for i in EVENTS.values():\n",
    "        \n",
    "        # Futuramente passar para uma função\n",
    "        orders = mt5.positions_get(symbol=i['symbol'])\n",
    "        for j in orders:\n",
    "            if orders == ():\n",
    "                i['buy'] = True\n",
    "                i['sell'] = True\n",
    "            else:\n",
    "                if j[5] == 1 and j[6] == HONEMAGICNUMBER:\n",
    "                    i['buy'] = True\n",
    "                elif j[5] == 0 and j[6] == HONEMAGICNUMBER:\n",
    "                    i['sell'] = True\n",
    "\n",
    "        if data[i['first_currency']].iloc[-1] < data[i['first_currency']].quantile(0.45) and data[i['second_currency']].iloc[-1] > data[i['second_currency']].quantile(0.55) and trade_buy:\n",
    "            fn.open_trade(action='buy',tksl = 8, symbol=i['symbol'], ea_magic_number=HONEMAGICNUMBER)\n",
    "\n",
    "        elif data[i['first_currency']].iloc[-1] > data[i['first_currency']].quantile(0.55) and data[i['second_currency']].iloc[-1] < data[i['second_currency']].quantile(0.45) and trade_sell:\n",
    "            fn.open_trade(action='sell', tksl = 8, symbol=i['symbol'], ea_magic_number=HONEMAGICNUMBER)\n",
    "    \n",
    "    print('---//---' * 20)\n",
    "    sleep(5)\n",
    "                \n",
    "mt5.shutdown()"
   ]
  },
  {
   "cell_type": "code",
   "execution_count": 5,
   "id": "dynamic-italic",
   "metadata": {},
   "outputs": [
    {
     "data": {
      "text/plain": [
       "'---//------//------//------//------//------//------//------//------//------//------//------//------//------//------//------//------//------//------//------//---'"
      ]
     },
     "execution_count": 5,
     "metadata": {},
     "output_type": "execute_result"
    }
   ],
   "source": []
  },
  {
   "cell_type": "code",
   "execution_count": null,
   "id": "russian-celebration",
   "metadata": {},
   "outputs": [],
   "source": []
  }
 ],
 "metadata": {
  "kernelspec": {
   "display_name": "Python 3",
   "language": "python",
   "name": "python3"
  },
  "language_info": {
   "codemirror_mode": {
    "name": "ipython",
    "version": 3
   },
   "file_extension": ".py",
   "mimetype": "text/x-python",
   "name": "python",
   "nbconvert_exporter": "python",
   "pygments_lexer": "ipython3",
   "version": "3.9.1"
  }
 },
 "nbformat": 4,
 "nbformat_minor": 5
}
