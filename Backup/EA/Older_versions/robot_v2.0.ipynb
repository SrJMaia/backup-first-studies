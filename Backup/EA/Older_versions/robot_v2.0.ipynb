{
 "cells": [
  {
   "cell_type": "markdown",
   "id": "driven-monte",
   "metadata": {},
   "source": [
    "# *Versions*\n",
    "- 1.0  \n",
    "-- Primeiro teste  \n",
    "- 1.1  \n",
    "-- Trocado copy_rates_range para copy_rates_from_pos por conta da perda de dados  \n",
    "-- Passando funções para robot_functions.py  \n",
    "-- Primeira implementação de uma GUI  \n",
    "- 1.2  \n",
    "-- Colocado todos EUR  \n",
    "-- Resolvido o bug 0001  \n",
    "- 1.3\n",
    "-- Importado ipynb para py  \n",
    "-- Trocado o tempo do sleep de 0.5s para 0.1s  \n",
    "-- Colocado restante dos pares  \n",
    "- 1.4  \n",
    "-- Removido botão exit, apenas sairá apertando X. Motivo: Irrelevante para já  \n",
    "-- Janela é aberta em um tamanho de 960x320 e é possível ajusta-la  \n",
    "-- Colocado balance, margin free e profit no topo, com cores e background  \n",
    "- 1.5  \n",
    "-- Resolvido bug 00002\n",
    "-- Primeiro teste na AWS, houve problemas com a biblioteca myplotlib   \n",
    "-- Printa a que preço foi comprado/vendido  \n",
    "- 1.6  \n",
    "-- Criado o get_data para pegar os dados, jogado no modulo\n",
    "-- Passado risco como constante no módulo robot_functions.py  \n",
    "-- Removido matplotlib e numpy  \n",
    "-- Versão no topo da GUI é uma constante  \n",
    "- 1.7  \n",
    "-- Removido import do datetime, motivo: não estava sendo usado  \n",
    "-- Dividido robot_functions em 3 outros modulos, mt5, financial e data  \n",
    "-- Criado um novo modulo para lidar com a GUI  \n",
    "-- Removido from IPython.display import clear_output, motivo: não era usado\n",
    "-- Passado bestime e magic number como constantes  \n",
    "- 1.8  \n",
    "-- Ao inicializar, irá checar se o algotrading está ativado, caso não, desliga a ligação  \n",
    "-- Colocado ping e estado da conexão na gui  \n",
    "- 1.9  \n",
    "-- Removido GUI para maior otimização\n",
    "-- Removido account_info() do robo e passa para o proprio modulo, reduzido 2 parametros para abertura de ordem  \n",
    "-- Ajustado erro grave em flags faltantes  \n",
    "-- Resolvido bug 00003 e bug 00004  \n",
    "-- Reduzido todos os if elif para uma lista de dicionarios  \n",
    "- 2.0  \n",
    "-- Resolvido bug 00005  \n",
    "-- Agora em vez de lista, os eventos são apenas dicionarios  \n",
    "-- Arrumado erro no login do mt5, apenas logava em uma conta em vez da conta passada coo parametro  \n",
    "-- Mudada estrategia, em vez de besttime agora o valor tem que estar dentro de 2 desvios padroes\n",
    "-- Robo agora opera por hora, no indice -2\n",
    "-- Mudado o deviation de 0 para 10. Evitar erro 10004\n",
    "\n",
    "\n",
    "# *Bugs*  \n",
    "### Abertos  \n",
    "\n",
    "### Resolvidos  \n",
    "- Bug 00001:  \n",
    "-- Problema: Quando é feito uma operação bem sucedidade, uma mensagem de erro aparece. Esta retornando algum outro codigo.  \n",
    "-- Solução: Estava retornando uma lista, apenas coloquei no if o result[0] para pegar o código 10009\n",
    "-- Implementação: Feito na versão 1.2  \n",
    "- Bug 00002:\n",
    "-- Problema: Nome da função de fechar esta errada em tudo e excluir certos parametros  \n",
    "-- Solução: Ajustei o nome removendo a letra a mais, como também tirei o parametro obrigatorio do magic number, ja não é mais necessario  \n",
    "-- Implementação: Feito na versão 1.5  \n",
    "- Bug 00003?:  \n",
    "-- Possivel erro 10014, volume invalido?  \n",
    "-- Solução: NZDCAD, NZDCHF e NZDJPY possuem um volume minimo de 0.1. Pelo menos na conta do MetaQuotes  \n",
    "-- Implementação: Feito na versão 1.9  \n",
    "- Bug 00004:  \n",
    "-- Problema: Ping abaixo de 100ms continua amarelo  \n",
    "-- Solução: Removido GUI  \n",
    "-- Implementação: Feito na versão 1.9  \n",
    "- Bug 00005:  \n",
    "-- Problema: Erro 10004, nova cotação  \n",
    "-- Solução: Colocado um elif diferenciado para saber diferenciar, apesar que não havia risco  \n",
    "-- Implementação: Feito na versão 2.0  \n",
    "\n",
    "# *Futuras Atualizações*  \n",
    "-> Por o comentario da comrpa/venda no programa   \n",
    "-> Possivel integração com o Telegram   \n",
    "-> Desenho tanto do capital como variação dos numeros  \n",
    "-> Mostrar operações ativas, assim como outras informações  \n",
    "-> Importar py para um exe   \n",
    "-> Manter os textso da gui em um lugar fixo conforme a tela aumenta\n",
    "-> Retira GUI para ja, possivel diminuição do uso de CPU pela metade com um sleep de 0.1\n",
    "\n",
    "# *Tarefas*\n",
    "-> Entender o resultado do account_info  \n",
    "-> O indice 0 é o mais antigo, o ultimo é o mais novo"
   ]
  },
  {
   "cell_type": "code",
   "execution_count": 1,
   "id": "anticipated-disorder",
   "metadata": {},
   "outputs": [],
   "source": [
    "import MetaTrader5 as mt5\n",
    "import pandas as pd\n",
    "from time import sleep\n",
    "import financial as fn\n",
    "from data import get_data\n",
    "from mt5 import login_mt5\n",
    "from time import sleep"
   ]
  },
  {
   "cell_type": "code",
   "execution_count": 2,
   "id": "decimal-appointment",
   "metadata": {},
   "outputs": [],
   "source": [
    "# Constantes\n",
    "\n",
    "HONEMAGICNUMBER = 1010\n",
    "EVENTS = fn.MY_EVENTS"
   ]
  },
  {
   "cell_type": "code",
   "execution_count": 3,
   "id": "daily-danish",
   "metadata": {},
   "outputs": [
    {
     "name": "stdout",
     "output_type": "stream",
     "text": [
      "Sell | Symbol: EURCHF | Price: 1.08059 | Volume: 0.05\n",
      "Sell | Symbol: EURGBP | Price: 0.86911 | Volume: 0.05\n",
      "Error Order GBPAUD: (1, 'Success') | Code: 10004 | New Price.\n",
      "Buy | Symbol: GBPCAD | Price: 1.76384 | Volume: 0.05\n",
      "Buy | Symbol: GBPUSD | Price: 1.3854600000000001 | Volume: 0.05\n",
      "Buy | Symbol: GBPNZD | Price: 1.9328400000000001 | Volume: 0.05\n",
      "Sell | Symbol: USDCHF | Price: 0.89738 | Volume: 0.05\n",
      "Sell | Symbol: AUDCHF | Price: 0.69441 | Volume: 0.05\n",
      "Sell | Symbol: CADCHF | Price: 0.70483 | Volume: 0.05\n",
      "Sell | Symbol: NZDCHF | Price: 0.6433 | Volume: 0.1\n"
     ]
    },
    {
     "data": {
      "text/plain": [
       "True"
      ]
     },
     "execution_count": 3,
     "metadata": {},
     "output_type": "execute_result"
    }
   ],
   "source": [
    "login_mt5(login=41442678,password='0cxebqvs',server='MetaQuotes-Demo')\n",
    "\n",
    "while True:\n",
    "    \n",
    "    data = get_data(start=0,end=60_000)\n",
    "\n",
    "    for i in EVENTS.values():\n",
    "        if 0 > data[i['first_currency']].iloc[-2] > -(data[i['first_currency']].std()*2) and 0 < data[i['second_currency']].iloc[-2] < (data[i['second_currency']].std()*2) and  i['buy']:\n",
    "            if not i['sell']:\n",
    "                fn.close_trade('buy',i['sell_request'])\n",
    "                i['buy'], i['sell'], i['buy_request'] = fn.open_trade(action='buy', symbol=i['symbol'], ea_magic_number=HONEMAGICNUMBER)\n",
    "            else:\n",
    "                i['buy'], _,i['buy_request'] = fn.open_trade(action='buy', symbol=i['symbol'], ea_magic_number=HONEMAGICNUMBER)\n",
    "        elif 0 < data[i['first_currency']].iloc[-2] < (data[i['first_currency']].std()*2) and 0 > data[i['second_currency']].iloc[-2] > -(data[i['second_currency']].std()*2) and i['sell']:\n",
    "            if not i['buy']:\n",
    "                fn.close_trade('sell',i['buy_request'])\n",
    "                i['sell'], i['buy'], i['sell_request'] = fn.open_trade(action='sell', symbol=i['symbol'], ea_magic_number=HONEMAGICNUMBER)\n",
    "            else:\n",
    "                i['sell'], _, i['sell_request'] = fn.open_trade(action='sell', symbol=i['symbol'], ea_magic_number=HONEMAGICNUMBER)\n",
    "\n",
    "    sleep(1800)\n",
    "                \n",
    "mt5.shutdown()"
   ]
  },
  {
   "cell_type": "code",
   "execution_count": 10,
   "id": "caroline-barrier",
   "metadata": {},
   "outputs": [
    {
     "data": {
      "text/plain": [
       "'EURCHF'"
      ]
     },
     "execution_count": 10,
     "metadata": {},
     "output_type": "execute_result"
    }
   ],
   "source": [
    "events = EVENTS\n",
    "events['EURCHF']['sell_request']['symbol']"
   ]
  },
  {
   "cell_type": "code",
   "execution_count": 11,
   "id": "silver-roberts",
   "metadata": {},
   "outputs": [
    {
     "data": {
      "text/plain": [
       "True"
      ]
     },
     "execution_count": 11,
     "metadata": {},
     "output_type": "execute_result"
    }
   ],
   "source": [
    "login_mt5(login=41442678,password='0cxebqvs',server='MetaQuotes-Demo')\n",
    "position_id=mt5.positions_get(symbol=events['EURCHF']['sell_request']['symbol'])\n",
    "mt5.shutdown()"
   ]
  },
  {
   "cell_type": "code",
   "execution_count": 14,
   "id": "bearing-violation",
   "metadata": {},
   "outputs": [
    {
     "data": {
      "text/plain": [
       "870533238"
      ]
     },
     "execution_count": 14,
     "metadata": {},
     "output_type": "execute_result"
    }
   ],
   "source": [
    "position_id[0][0]"
   ]
  },
  {
   "cell_type": "code",
   "execution_count": 15,
   "id": "speaking-arbitration",
   "metadata": {},
   "outputs": [
    {
     "data": {
      "text/plain": [
       "(TradePosition(ticket=870533238, time=1613581185, time_msc=1613581185125, time_update=1613581185, time_update_msc=1613581185125, type=1, magic=1010, identifier=870533238, reason=3, volume=0.05, price_open=1.08059, sl=0.0, tp=0.0, price_current=1.08071, swap=0.0, profit=-0.56, symbol='EURCHF', comment='MAYBE LATER A CO', external_id=''),)"
      ]
     },
     "execution_count": 15,
     "metadata": {},
     "output_type": "execute_result"
    }
   ],
   "source": [
    "position_id"
   ]
  },
  {
   "cell_type": "code",
   "execution_count": null,
   "id": "durable-tulsa",
   "metadata": {},
   "outputs": [],
   "source": []
  }
 ],
 "metadata": {
  "kernelspec": {
   "display_name": "Python 3",
   "language": "python",
   "name": "python3"
  },
  "language_info": {
   "codemirror_mode": {
    "name": "ipython",
    "version": 3
   },
   "file_extension": ".py",
   "mimetype": "text/x-python",
   "name": "python",
   "nbconvert_exporter": "python",
   "pygments_lexer": "ipython3",
   "version": "3.9.1"
  }
 },
 "nbformat": 4,
 "nbformat_minor": 5
}
