{
 "cells": [
  {
   "cell_type": "code",
   "execution_count": 1,
   "id": "surprised-contents",
   "metadata": {},
   "outputs": [],
   "source": [
    "from data import Data\n",
    "from signals import Signals\n",
    "import backtest as bt\n",
    "import pandas as pd\n",
    "import numpy as np\n",
    "from numba import njit\n",
    "import matplotlib.pyplot as plt\n",
    "plt.rcParams[\"figure.figsize\"] = (30,10)"
   ]
  },
  {
   "cell_type": "code",
   "execution_count": 16,
   "id": "a9b4778f-620c-4f75-b4b8-af0288ff3a60",
   "metadata": {},
   "outputs": [],
   "source": [
    "class Central(Data, Signals):\n",
    "    \n",
    "    def __init__(self, login=5528104, senha='YUWNehok', servidor='ActivTradesCorp-Server', balance=1000):\n",
    "        super().__init__(login, senha, servidor)\n",
    "        self.balance = balance\n",
    "        \n",
    "    \n",
    "    def back_tpsl(self, tpsl):\n",
    "        \"\"\"\n",
    "        Returns\n",
    "        list_backtest = Todos os trades\n",
    "        sell_orders\n",
    "        buy_orders\n",
    "        \"\"\"\n",
    "        tot, sell, buy =  bt.otimizado_tpsl(self.return_full(), tpsl, balance=self.balance)\n",
    "        tot = np.delete(tot, np.where(tot == 0.))\n",
    "        sell = np.delete(sell, np.where(sell == 0.))\n",
    "        buy = np.delete(buy, np.where(buy == 0.))\n",
    "        return tot, sell, buy\n",
    "    \n",
    "    \n",
    "    def back_no_tpsl(self):\n",
    "        \"\"\"\n",
    "        Returns\n",
    "        list_backtest = Todos os trades\n",
    "        sell_orders\n",
    "        buy_orders\n",
    "        \"\"\"\n",
    "        tot, sell, buy = bt.otimizado_no_tpsl(self.return_full(), balance=self.balance)\n",
    "        tot = np.delete(tot, np.where(tot == 0.))\n",
    "        sell = np.delete(sell, np.where(sell == 0.))\n",
    "        buy = np.delete(buy, np.where(buy == 0.))\n",
    "        return tot, sell, buy\n",
    "    \n",
    "    \n",
    "    def back_tpsl_ohl(self, tpsl):\n",
    "        \"\"\"\n",
    "        Returns\n",
    "        list_backtest = Todos os trades\n",
    "        sell_orders\n",
    "        buy_orders\n",
    "        \"\"\"\n",
    "        tot, sell, buy = bt.otimizado_tpsl_ohl(self.return_full(), tpsl, balance=self.balance)\n",
    "        tot = np.delete(tot, np.where(tot == 0.))\n",
    "        sell = np.delete(sell, np.where(sell == 0.))\n",
    "        buy = np.delete(buy, np.where(buy == 0.))\n",
    "        return tot, sell, buy"
   ]
  },
  {
   "cell_type": "code",
   "execution_count": 17,
   "id": "9a14021e-f56a-477e-a184-2bc5d703e954",
   "metadata": {},
   "outputs": [],
   "source": [
    "robot = Central()"
   ]
  },
  {
   "cell_type": "code",
   "execution_count": 18,
   "id": "9bfd18eb-53f8-4283-a958-5a3733359318",
   "metadata": {},
   "outputs": [
    {
     "name": "stdout",
     "output_type": "stream",
     "text": [
      "Dados Carregados com Sucesso.\n"
     ]
    }
   ],
   "source": [
    "robot.get_data_csv('DataH163k.csv',drop=True,drop_list=['Unnamed: 0'])"
   ]
  },
  {
   "cell_type": "code",
   "execution_count": 19,
   "id": "36f42ad2-cc7c-4e6d-abab-e48238e86a26",
   "metadata": {},
   "outputs": [
    {
     "data": {
      "text/html": [
       "<div>\n",
       "<style scoped>\n",
       "    .dataframe tbody tr th:only-of-type {\n",
       "        vertical-align: middle;\n",
       "    }\n",
       "\n",
       "    .dataframe tbody tr th {\n",
       "        vertical-align: top;\n",
       "    }\n",
       "\n",
       "    .dataframe thead th {\n",
       "        text-align: right;\n",
       "    }\n",
       "</style>\n",
       "<table border=\"1\" class=\"dataframe\">\n",
       "  <thead>\n",
       "    <tr style=\"text-align: right;\">\n",
       "      <th></th>\n",
       "      <th>EURCHF_Open</th>\n",
       "      <th>EURCHF_Close</th>\n",
       "      <th>EURCHF_High</th>\n",
       "      <th>EURCHF_Low</th>\n",
       "      <th>EURGBP_Open</th>\n",
       "      <th>EURGBP_Close</th>\n",
       "      <th>EURGBP_High</th>\n",
       "      <th>EURGBP_Low</th>\n",
       "      <th>EURJPY_Open</th>\n",
       "      <th>EURJPY_Close</th>\n",
       "      <th>...</th>\n",
       "      <th>AUDNZD_High</th>\n",
       "      <th>AUDNZD_Low</th>\n",
       "      <th>NZDCAD_Open</th>\n",
       "      <th>NZDCAD_Close</th>\n",
       "      <th>NZDCAD_High</th>\n",
       "      <th>NZDCAD_Low</th>\n",
       "      <th>AUDCAD_Open</th>\n",
       "      <th>AUDCAD_Close</th>\n",
       "      <th>AUDCAD_High</th>\n",
       "      <th>AUDCAD_Low</th>\n",
       "    </tr>\n",
       "  </thead>\n",
       "  <tbody>\n",
       "    <tr>\n",
       "      <th>0</th>\n",
       "      <td>1.08185</td>\n",
       "      <td>1.08186</td>\n",
       "      <td>1.08190</td>\n",
       "      <td>1.08184</td>\n",
       "      <td>0.88258</td>\n",
       "      <td>0.88262</td>\n",
       "      <td>0.88263</td>\n",
       "      <td>0.88256</td>\n",
       "      <td>126.732</td>\n",
       "      <td>126.733</td>\n",
       "      <td>...</td>\n",
       "      <td>1.06667</td>\n",
       "      <td>1.06661</td>\n",
       "      <td>0.91951</td>\n",
       "      <td>0.91958</td>\n",
       "      <td>0.91965</td>\n",
       "      <td>0.91951</td>\n",
       "      <td>0.98110</td>\n",
       "      <td>0.98118</td>\n",
       "      <td>0.98118</td>\n",
       "      <td>0.98106</td>\n",
       "    </tr>\n",
       "    <tr>\n",
       "      <th>1</th>\n",
       "      <td>1.08186</td>\n",
       "      <td>1.08192</td>\n",
       "      <td>1.08192</td>\n",
       "      <td>1.08186</td>\n",
       "      <td>0.88262</td>\n",
       "      <td>0.88257</td>\n",
       "      <td>0.88262</td>\n",
       "      <td>0.88256</td>\n",
       "      <td>126.733</td>\n",
       "      <td>126.734</td>\n",
       "      <td>...</td>\n",
       "      <td>1.06673</td>\n",
       "      <td>1.06661</td>\n",
       "      <td>0.91956</td>\n",
       "      <td>0.91955</td>\n",
       "      <td>0.91960</td>\n",
       "      <td>0.91951</td>\n",
       "      <td>0.98118</td>\n",
       "      <td>0.98130</td>\n",
       "      <td>0.98130</td>\n",
       "      <td>0.98115</td>\n",
       "    </tr>\n",
       "    <tr>\n",
       "      <th>2</th>\n",
       "      <td>1.08192</td>\n",
       "      <td>1.08193</td>\n",
       "      <td>1.08194</td>\n",
       "      <td>1.08192</td>\n",
       "      <td>0.88257</td>\n",
       "      <td>0.88257</td>\n",
       "      <td>0.88260</td>\n",
       "      <td>0.88256</td>\n",
       "      <td>126.733</td>\n",
       "      <td>126.737</td>\n",
       "      <td>...</td>\n",
       "      <td>1.06673</td>\n",
       "      <td>1.06657</td>\n",
       "      <td>0.91955</td>\n",
       "      <td>0.91949</td>\n",
       "      <td>0.91960</td>\n",
       "      <td>0.91949</td>\n",
       "      <td>0.98130</td>\n",
       "      <td>0.98135</td>\n",
       "      <td>0.98136</td>\n",
       "      <td>0.98120</td>\n",
       "    </tr>\n",
       "    <tr>\n",
       "      <th>3</th>\n",
       "      <td>1.08192</td>\n",
       "      <td>1.08185</td>\n",
       "      <td>1.08192</td>\n",
       "      <td>1.08185</td>\n",
       "      <td>0.88257</td>\n",
       "      <td>0.88257</td>\n",
       "      <td>0.88261</td>\n",
       "      <td>0.88256</td>\n",
       "      <td>126.737</td>\n",
       "      <td>126.737</td>\n",
       "      <td>...</td>\n",
       "      <td>1.06663</td>\n",
       "      <td>1.06653</td>\n",
       "      <td>0.91949</td>\n",
       "      <td>0.91953</td>\n",
       "      <td>0.91954</td>\n",
       "      <td>0.91942</td>\n",
       "      <td>0.98136</td>\n",
       "      <td>0.98139</td>\n",
       "      <td>0.98143</td>\n",
       "      <td>0.98130</td>\n",
       "    </tr>\n",
       "    <tr>\n",
       "      <th>4</th>\n",
       "      <td>1.08186</td>\n",
       "      <td>1.08186</td>\n",
       "      <td>1.08187</td>\n",
       "      <td>1.08185</td>\n",
       "      <td>0.88256</td>\n",
       "      <td>0.88258</td>\n",
       "      <td>0.88261</td>\n",
       "      <td>0.88256</td>\n",
       "      <td>126.737</td>\n",
       "      <td>126.732</td>\n",
       "      <td>...</td>\n",
       "      <td>1.06667</td>\n",
       "      <td>1.06656</td>\n",
       "      <td>0.91953</td>\n",
       "      <td>0.91952</td>\n",
       "      <td>0.91957</td>\n",
       "      <td>0.91946</td>\n",
       "      <td>0.98139</td>\n",
       "      <td>0.98140</td>\n",
       "      <td>0.98146</td>\n",
       "      <td>0.98136</td>\n",
       "    </tr>\n",
       "    <tr>\n",
       "      <th>...</th>\n",
       "      <td>...</td>\n",
       "      <td>...</td>\n",
       "      <td>...</td>\n",
       "      <td>...</td>\n",
       "      <td>...</td>\n",
       "      <td>...</td>\n",
       "      <td>...</td>\n",
       "      <td>...</td>\n",
       "      <td>...</td>\n",
       "      <td>...</td>\n",
       "      <td>...</td>\n",
       "      <td>...</td>\n",
       "      <td>...</td>\n",
       "      <td>...</td>\n",
       "      <td>...</td>\n",
       "      <td>...</td>\n",
       "      <td>...</td>\n",
       "      <td>...</td>\n",
       "      <td>...</td>\n",
       "      <td>...</td>\n",
       "      <td>...</td>\n",
       "    </tr>\n",
       "    <tr>\n",
       "      <th>62995</th>\n",
       "      <td>1.10783</td>\n",
       "      <td>1.10794</td>\n",
       "      <td>1.10794</td>\n",
       "      <td>1.10783</td>\n",
       "      <td>0.85047</td>\n",
       "      <td>0.85045</td>\n",
       "      <td>0.85048</td>\n",
       "      <td>0.85004</td>\n",
       "      <td>130.062</td>\n",
       "      <td>130.062</td>\n",
       "      <td>...</td>\n",
       "      <td>1.08232</td>\n",
       "      <td>1.08232</td>\n",
       "      <td>0.88322</td>\n",
       "      <td>0.88313</td>\n",
       "      <td>0.88322</td>\n",
       "      <td>0.88313</td>\n",
       "      <td>0.95630</td>\n",
       "      <td>0.95632</td>\n",
       "      <td>0.95660</td>\n",
       "      <td>0.95620</td>\n",
       "    </tr>\n",
       "    <tr>\n",
       "      <th>62996</th>\n",
       "      <td>1.10794</td>\n",
       "      <td>1.10794</td>\n",
       "      <td>1.10794</td>\n",
       "      <td>1.10794</td>\n",
       "      <td>0.85045</td>\n",
       "      <td>0.85041</td>\n",
       "      <td>0.85045</td>\n",
       "      <td>0.85041</td>\n",
       "      <td>130.062</td>\n",
       "      <td>130.063</td>\n",
       "      <td>...</td>\n",
       "      <td>1.08237</td>\n",
       "      <td>1.08226</td>\n",
       "      <td>0.88313</td>\n",
       "      <td>0.88312</td>\n",
       "      <td>0.88313</td>\n",
       "      <td>0.88312</td>\n",
       "      <td>0.95644</td>\n",
       "      <td>0.95634</td>\n",
       "      <td>0.95644</td>\n",
       "      <td>0.95626</td>\n",
       "    </tr>\n",
       "    <tr>\n",
       "      <th>62997</th>\n",
       "      <td>1.10794</td>\n",
       "      <td>1.10794</td>\n",
       "      <td>1.10794</td>\n",
       "      <td>1.10794</td>\n",
       "      <td>0.85041</td>\n",
       "      <td>0.85037</td>\n",
       "      <td>0.85041</td>\n",
       "      <td>0.85037</td>\n",
       "      <td>130.066</td>\n",
       "      <td>130.076</td>\n",
       "      <td>...</td>\n",
       "      <td>1.08242</td>\n",
       "      <td>1.08196</td>\n",
       "      <td>0.88310</td>\n",
       "      <td>0.88273</td>\n",
       "      <td>0.88312</td>\n",
       "      <td>0.88273</td>\n",
       "      <td>0.95660</td>\n",
       "      <td>0.95657</td>\n",
       "      <td>0.95660</td>\n",
       "      <td>0.95655</td>\n",
       "    </tr>\n",
       "    <tr>\n",
       "      <th>62998</th>\n",
       "      <td>1.10794</td>\n",
       "      <td>1.10794</td>\n",
       "      <td>1.10794</td>\n",
       "      <td>1.10794</td>\n",
       "      <td>0.85037</td>\n",
       "      <td>0.85055</td>\n",
       "      <td>0.85075</td>\n",
       "      <td>0.85033</td>\n",
       "      <td>130.078</td>\n",
       "      <td>130.103</td>\n",
       "      <td>...</td>\n",
       "      <td>1.08222</td>\n",
       "      <td>1.08200</td>\n",
       "      <td>0.88283</td>\n",
       "      <td>0.88302</td>\n",
       "      <td>0.88302</td>\n",
       "      <td>0.88267</td>\n",
       "      <td>0.95656</td>\n",
       "      <td>0.95628</td>\n",
       "      <td>0.95656</td>\n",
       "      <td>0.95623</td>\n",
       "    </tr>\n",
       "    <tr>\n",
       "      <th>62999</th>\n",
       "      <td>1.10781</td>\n",
       "      <td>1.10794</td>\n",
       "      <td>1.10794</td>\n",
       "      <td>1.10781</td>\n",
       "      <td>0.85055</td>\n",
       "      <td>0.85026</td>\n",
       "      <td>0.85055</td>\n",
       "      <td>0.85026</td>\n",
       "      <td>130.103</td>\n",
       "      <td>130.120</td>\n",
       "      <td>...</td>\n",
       "      <td>1.08222</td>\n",
       "      <td>1.08210</td>\n",
       "      <td>0.88330</td>\n",
       "      <td>0.88330</td>\n",
       "      <td>0.88330</td>\n",
       "      <td>0.88328</td>\n",
       "      <td>0.95623</td>\n",
       "      <td>0.95626</td>\n",
       "      <td>0.95626</td>\n",
       "      <td>0.95623</td>\n",
       "    </tr>\n",
       "  </tbody>\n",
       "</table>\n",
       "<p>63000 rows × 112 columns</p>\n",
       "</div>"
      ],
      "text/plain": [
       "       EURCHF_Open  EURCHF_Close  EURCHF_High  EURCHF_Low  EURGBP_Open  \\\n",
       "0          1.08185       1.08186      1.08190     1.08184      0.88258   \n",
       "1          1.08186       1.08192      1.08192     1.08186      0.88262   \n",
       "2          1.08192       1.08193      1.08194     1.08192      0.88257   \n",
       "3          1.08192       1.08185      1.08192     1.08185      0.88257   \n",
       "4          1.08186       1.08186      1.08187     1.08185      0.88256   \n",
       "...            ...           ...          ...         ...          ...   \n",
       "62995      1.10783       1.10794      1.10794     1.10783      0.85047   \n",
       "62996      1.10794       1.10794      1.10794     1.10794      0.85045   \n",
       "62997      1.10794       1.10794      1.10794     1.10794      0.85041   \n",
       "62998      1.10794       1.10794      1.10794     1.10794      0.85037   \n",
       "62999      1.10781       1.10794      1.10794     1.10781      0.85055   \n",
       "\n",
       "       EURGBP_Close  EURGBP_High  EURGBP_Low  EURJPY_Open  EURJPY_Close  ...  \\\n",
       "0           0.88262      0.88263     0.88256      126.732       126.733  ...   \n",
       "1           0.88257      0.88262     0.88256      126.733       126.734  ...   \n",
       "2           0.88257      0.88260     0.88256      126.733       126.737  ...   \n",
       "3           0.88257      0.88261     0.88256      126.737       126.737  ...   \n",
       "4           0.88258      0.88261     0.88256      126.737       126.732  ...   \n",
       "...             ...          ...         ...          ...           ...  ...   \n",
       "62995       0.85045      0.85048     0.85004      130.062       130.062  ...   \n",
       "62996       0.85041      0.85045     0.85041      130.062       130.063  ...   \n",
       "62997       0.85037      0.85041     0.85037      130.066       130.076  ...   \n",
       "62998       0.85055      0.85075     0.85033      130.078       130.103  ...   \n",
       "62999       0.85026      0.85055     0.85026      130.103       130.120  ...   \n",
       "\n",
       "       AUDNZD_High  AUDNZD_Low  NZDCAD_Open  NZDCAD_Close  NZDCAD_High  \\\n",
       "0          1.06667     1.06661      0.91951       0.91958      0.91965   \n",
       "1          1.06673     1.06661      0.91956       0.91955      0.91960   \n",
       "2          1.06673     1.06657      0.91955       0.91949      0.91960   \n",
       "3          1.06663     1.06653      0.91949       0.91953      0.91954   \n",
       "4          1.06667     1.06656      0.91953       0.91952      0.91957   \n",
       "...            ...         ...          ...           ...          ...   \n",
       "62995      1.08232     1.08232      0.88322       0.88313      0.88322   \n",
       "62996      1.08237     1.08226      0.88313       0.88312      0.88313   \n",
       "62997      1.08242     1.08196      0.88310       0.88273      0.88312   \n",
       "62998      1.08222     1.08200      0.88283       0.88302      0.88302   \n",
       "62999      1.08222     1.08210      0.88330       0.88330      0.88330   \n",
       "\n",
       "       NZDCAD_Low  AUDCAD_Open  AUDCAD_Close  AUDCAD_High  AUDCAD_Low  \n",
       "0         0.91951      0.98110       0.98118      0.98118     0.98106  \n",
       "1         0.91951      0.98118       0.98130      0.98130     0.98115  \n",
       "2         0.91949      0.98130       0.98135      0.98136     0.98120  \n",
       "3         0.91942      0.98136       0.98139      0.98143     0.98130  \n",
       "4         0.91946      0.98139       0.98140      0.98146     0.98136  \n",
       "...           ...          ...           ...          ...         ...  \n",
       "62995     0.88313      0.95630       0.95632      0.95660     0.95620  \n",
       "62996     0.88312      0.95644       0.95634      0.95644     0.95626  \n",
       "62997     0.88273      0.95660       0.95657      0.95660     0.95655  \n",
       "62998     0.88267      0.95656       0.95628      0.95656     0.95623  \n",
       "62999     0.88328      0.95623       0.95626      0.95626     0.95623  \n",
       "\n",
       "[63000 rows x 112 columns]"
      ]
     },
     "execution_count": 19,
     "metadata": {},
     "output_type": "execute_result"
    }
   ],
   "source": [
    "robot.return_data()"
   ]
  },
  {
   "cell_type": "code",
   "execution_count": 20,
   "id": "041dd1ec-f8db-40d9-a727-3fab232dab57",
   "metadata": {},
   "outputs": [],
   "source": [
    "robot.pct_data()"
   ]
  },
  {
   "cell_type": "code",
   "execution_count": 21,
   "id": "dff88b73-bda0-491e-9610-17f7f01d9c49",
   "metadata": {},
   "outputs": [],
   "source": [
    "robot.pct_data_signals_quantile(0.45, 0.55)"
   ]
  },
  {
   "cell_type": "code",
   "execution_count": 22,
   "id": "d47ee538-052d-40b7-ac98-c497c2601706",
   "metadata": {},
   "outputs": [
    {
     "data": {
      "text/plain": [
       "EURCHF_sell    13380\n",
       "EURCHF_buy     13391\n",
       "EURGBP_sell    13828\n",
       "EURGBP_buy     13918\n",
       "EURJPY_sell    13457\n",
       "EURJPY_buy     13396\n",
       "EURNZD_sell    14348\n",
       "EURNZD_buy     14357\n",
       "EURUSD_sell    13825\n",
       "EURUSD_buy     13763\n",
       "EURAUD_sell    14366\n",
       "EURAUD_buy     14399\n",
       "EURCAD_sell    13957\n",
       "EURCAD_buy     13962\n",
       "GBPAUD_sell    14053\n",
       "GBPAUD_buy     14034\n",
       "GBPCHF_sell    13991\n",
       "GBPCHF_buy     14033\n",
       "GBPJPY_sell    14064\n",
       "GBPJPY_buy     14089\n",
       "GBPCAD_sell    14044\n",
       "GBPCAD_buy     14014\n",
       "GBPUSD_sell    14311\n",
       "GBPUSD_buy     14286\n",
       "GBPNZD_sell    14393\n",
       "GBPNZD_buy     14403\n",
       "USDCHF_sell    13759\n",
       "USDCHF_buy     13753\n",
       "USDJPY_sell    13380\n",
       "USDJPY_buy     13347\n",
       "AUDUSD_sell    15103\n",
       "AUDUSD_buy     15114\n",
       "NZDUSD_sell    15020\n",
       "NZDUSD_buy     14997\n",
       "USDCAD_sell    13802\n",
       "USDCAD_buy     13866\n",
       "AUDJPY_sell    14812\n",
       "AUDJPY_buy     14807\n",
       "CADJPY_sell    14288\n",
       "CADJPY_buy     14258\n",
       "CHFJPY_sell    13774\n",
       "CHFJPY_buy     13832\n",
       "NZDJPY_sell    14801\n",
       "NZDJPY_buy     14796\n",
       "AUDCHF_sell    14695\n",
       "AUDCHF_buy     14661\n",
       "CADCHF_sell    14206\n",
       "CADCHF_buy     14217\n",
       "NZDCHF_sell    14694\n",
       "NZDCHF_buy     14626\n",
       "AUDNZD_sell    13470\n",
       "AUDNZD_buy     13444\n",
       "NZDCAD_sell    14008\n",
       "NZDCAD_buy     14024\n",
       "AUDCAD_sell    14027\n",
       "AUDCAD_buy     14028\n",
       "dtype: int64"
      ]
     },
     "execution_count": 22,
     "metadata": {},
     "output_type": "execute_result"
    }
   ],
   "source": [
    "robot.return_data().iloc[:,-56:].sum()"
   ]
  },
  {
   "cell_type": "code",
   "execution_count": 23,
   "id": "6b2390a1-6c85-4436-876c-6c69dea9b82d",
   "metadata": {},
   "outputs": [],
   "source": [
    "robot.full_data_array()"
   ]
  },
  {
   "cell_type": "code",
   "execution_count": 24,
   "id": "7184e5ac-0c09-4efe-b8e0-a451d97f3355",
   "metadata": {},
   "outputs": [],
   "source": [
    "tot, sell, buy = robot.back_tpsl(30)"
   ]
  },
  {
   "cell_type": "code",
   "execution_count": 25,
   "id": "cbe28379-e756-412d-b0fc-e917a9091655",
   "metadata": {},
   "outputs": [
    {
     "data": {
      "text/plain": [
       "[<matplotlib.lines.Line2D at 0x13398405550>]"
      ]
     },
     "execution_count": 25,
     "metadata": {},
     "output_type": "execute_result"
    },
    {
     "data": {
      "image/png": "[encoded data removed]",
      "text/plain": [
       "<Figure size 432x288 with 1 Axes>"
      ]
     },
     "metadata": {
      "needs_background": "light"
     },
     "output_type": "display_data"
    }
   ],
   "source": [
    "plt.plot(tot)"
   ]
  },
  {
   "cell_type": "code",
   "execution_count": 26,
   "id": "00d39eee-6f27-48c7-b4f8-5800329425a5",
   "metadata": {},
   "outputs": [
    {
     "data": {
      "text/plain": [
       "[<matplotlib.lines.Line2D at 0x13398971280>]"
      ]
     },
     "execution_count": 26,
     "metadata": {},
     "output_type": "execute_result"
    },
    {
     "data": {
      "image/png": "[encoded data removed]",
      "text/plain": [
       "<Figure size 432x288 with 1 Axes>"
      ]
     },
     "metadata": {
      "needs_background": "light"
     },
     "output_type": "display_data"
    }
   ],
   "source": [
    "tot2, _, _ = robot.back_no_tpsl()\n",
    "plt.plot(tot2)"
   ]
  },
  {
   "cell_type": "code",
   "execution_count": 27,
   "id": "5729ddd2-e5bb-424a-80f8-db45299a9b46",
   "metadata": {},
   "outputs": [
    {
     "data": {
      "text/plain": [
       "array([  1000.        ,    999.83      ,    999.76      , ...,\n",
       "       -26655.23999999, -26655.52999999, -26655.55999999])"
      ]
     },
     "execution_count": 27,
     "metadata": {},
     "output_type": "execute_result"
    }
   ],
   "source": [
    "tot2"
   ]
  },
  {
   "cell_type": "code",
   "execution_count": 28,
   "id": "14e46ac9-f48b-490d-a7ca-2c789d6e7877",
   "metadata": {},
   "outputs": [
    {
     "data": {
      "text/plain": [
       "[<matplotlib.lines.Line2D at 0x133992162e0>]"
      ]
     },
     "execution_count": 28,
     "metadata": {},
     "output_type": "execute_result"
    },
    {
     "data": {
      "image/png": "[encoded data removed]",
      "text/plain": [
       "<Figure size 432x288 with 1 Axes>"
      ]
     },
     "metadata": {
      "needs_background": "light"
     },
     "output_type": "display_data"
    }
   ],
   "source": [
    "tot3, _, _ = robot.back_tpsl_ohl(50)\n",
    "plt.plot(tot3)"
   ]
  },
  {
   "cell_type": "markdown",
   "id": "22ff938a-2dbd-4fa1-b5ba-efc93e157993",
   "metadata": {},
   "source": [
    "- Rever a colocação dos backtestes por conta do lucro ridiculo\n",
    "- Colocar o super backtest de 1.3kk\n",
    "- Se sobrar tempo, pensar em passar os calculos para pandas"
   ]
  }
 ],
 "metadata": {
  "kernelspec": {
   "display_name": "Python 3",
   "language": "python",
   "name": "python3"
  },
  "language_info": {
   "codemirror_mode": {
    "name": "ipython",
    "version": 3
   },
   "file_extension": ".py",
   "mimetype": "text/x-python",
   "name": "python",
   "nbconvert_exporter": "python",
   "pygments_lexer": "ipython3",
   "version": "3.9.1"
  }
 },
 "nbformat": 4,
 "nbformat_minor": 5
}
