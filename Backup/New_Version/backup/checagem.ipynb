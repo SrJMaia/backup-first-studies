{
 "cells": [
  {
   "cell_type": "code",
   "execution_count": 1,
   "id": "surprised-contents",
   "metadata": {},
   "outputs": [
    {
     "ename": "ImportError",
     "evalue": "cannot import name 'Pairs' from 'constants' (C:\\Users\\johnk\\Google Drive\\My_Project\\Backtest\\New_Version\\constants.py)",
     "output_type": "error",
     "traceback": [
      "\u001b[1;31m---------------------------------------------------------------------------\u001b[0m",
      "\u001b[1;31mImportError\u001b[0m                               Traceback (most recent call last)",
      "\u001b[1;32m<ipython-input-1-bb01f6c2ec47>\u001b[0m in \u001b[0;36m<module>\u001b[1;34m\u001b[0m\n\u001b[1;32m----> 1\u001b[1;33m \u001b[1;32mfrom\u001b[0m \u001b[0mconstants\u001b[0m \u001b[1;32mimport\u001b[0m \u001b[0mPairs\u001b[0m\u001b[1;33m\u001b[0m\u001b[1;33m\u001b[0m\u001b[0m\n\u001b[0m\u001b[0;32m      2\u001b[0m \u001b[1;32mfrom\u001b[0m \u001b[0mindicators\u001b[0m \u001b[1;32mimport\u001b[0m \u001b[0mIndicatorsCalc\u001b[0m\u001b[1;33m\u001b[0m\u001b[1;33m\u001b[0m\u001b[0m\n\u001b[0;32m      3\u001b[0m \u001b[1;32mfrom\u001b[0m \u001b[0mdata\u001b[0m \u001b[1;32mimport\u001b[0m \u001b[0mData\u001b[0m\u001b[1;33m\u001b[0m\u001b[1;33m\u001b[0m\u001b[0m\n\u001b[0;32m      4\u001b[0m \u001b[1;32mimport\u001b[0m \u001b[0mpandas\u001b[0m \u001b[1;32mas\u001b[0m \u001b[0mpd\u001b[0m\u001b[1;33m\u001b[0m\u001b[1;33m\u001b[0m\u001b[0m\n\u001b[0;32m      5\u001b[0m \u001b[1;32mimport\u001b[0m \u001b[0mnumpy\u001b[0m \u001b[1;32mas\u001b[0m \u001b[0mnp\u001b[0m\u001b[1;33m\u001b[0m\u001b[1;33m\u001b[0m\u001b[0m\n",
      "\u001b[1;31mImportError\u001b[0m: cannot import name 'Pairs' from 'constants' (C:\\Users\\johnk\\Google Drive\\My_Project\\Backtest\\New_Version\\constants.py)"
     ]
    }
   ],
   "source": [
    "from constants import Pairs\n",
    "from indicators import IndicatorsCalc\n",
    "from data import Data\n",
    "import pandas as pd\n",
    "import numpy as np\n",
    "from numba import njit\n",
    "import matplotlib.pyplot as plt\n",
    "import scipy.ndimage.interpolation as sci"
   ]
  },
  {
   "cell_type": "code",
   "execution_count": null,
   "id": "lovely-ottawa",
   "metadata": {},
   "outputs": [],
   "source": [
    "df = pd.read_csv('DataH163k.csv', sep=',').drop(columns=['Unnamed: 0'])"
   ]
  },
  {
   "cell_type": "code",
   "execution_count": null,
   "id": "9cd9c08e-24e8-471b-a7da-81ed743c01bb",
   "metadata": {},
   "outputs": [],
   "source": [
    "dt = Data(5528104, 'YUWNehok', 'ActivTradesCorp-Server')"
   ]
  },
  {
   "cell_type": "code",
   "execution_count": null,
   "id": "a6856efd-a421-4ba8-992e-8630c65f0bbc",
   "metadata": {},
   "outputs": [],
   "source": [
    "dt.get_data_csv('DataH163k.csv', drop=True, drop_list=['Unnamed: 0'])"
   ]
  },
  {
   "cell_type": "code",
   "execution_count": null,
   "id": "ffbff66c-8fd8-4b14-bdee-69eccb9bdc9b",
   "metadata": {},
   "outputs": [],
   "source": [
    "dt.return_data()"
   ]
  },
  {
   "cell_type": "code",
   "execution_count": null,
   "id": "9dc85704-e7d7-4ce7-8dea-6d93473ae8c7",
   "metadata": {},
   "outputs": [],
   "source": [
    "dt.get_data_mt5_count(0,3300,'H1', all_four=True)"
   ]
  },
  {
   "cell_type": "code",
   "execution_count": null,
   "id": "5c07f19f-5c56-4c49-b61e-c15c0e14b054",
   "metadata": {},
   "outputs": [],
   "source": [
    "dt.return_data()"
   ]
  },
  {
   "cell_type": "code",
   "execution_count": null,
   "id": "acfa137b-4635-4e6f-8632-6f60a37d8ffd",
   "metadata": {},
   "outputs": [],
   "source": [
    "dt.pct_data()"
   ]
  },
  {
   "cell_type": "code",
   "execution_count": null,
   "id": "191db309-2331-44f1-a2da-cd1a1ab76d72",
   "metadata": {},
   "outputs": [],
   "source": [
    "dt.return_data()"
   ]
  }
 ],
 "metadata": {
  "kernelspec": {
   "display_name": "Python 3",
   "language": "python",
   "name": "python3"
  },
  "language_info": {
   "codemirror_mode": {
    "name": "ipython",
    "version": 3
   },
   "file_extension": ".py",
   "mimetype": "text/x-python",
   "name": "python",
   "nbconvert_exporter": "python",
   "pygments_lexer": "ipython3",
   "version": "3.9.1"
  }
 },
 "nbformat": 4,
 "nbformat_minor": 5
}
